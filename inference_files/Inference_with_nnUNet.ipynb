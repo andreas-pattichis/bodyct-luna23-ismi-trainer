{
  "cells": [
    {
      "cell_type": "code",
      "execution_count": null,
      "metadata": {
        "colab": {
          "base_uri": "https://localhost:8080/"
        },
        "id": "y7HUCTKvL6Ve",
        "outputId": "696f5ad6-0e80-4a70-8421-a49743069100"
      },
      "outputs": [
        {
          "name": "stdout",
          "output_type": "stream",
          "text": [
            "Mounted at /content/drive\n"
          ]
        }
      ],
      "source": [
        "from google.colab import drive\n",
        "\n",
        "# Montar Google Drive\n",
        "drive.mount('/content/drive')"
      ]
    },
    {
      "cell_type": "code",
      "execution_count": null,
      "metadata": {
        "colab": {
          "base_uri": "https://localhost:8080/"
        },
        "id": "wyxfRPzhMHFm",
        "outputId": "2f260430-0cab-49b7-e317-4d0bde2641ad"
      },
      "outputs": [
        {
          "name": "stdout",
          "output_type": "stream",
          "text": [
            "Collecting SimpleITK\n",
            "  Downloading SimpleITK-2.3.1-cp310-cp310-manylinux_2_17_x86_64.manylinux2014_x86_64.whl (52.7 MB)\n",
            "\u001b[2K     \u001b[90m━━━━━━━━━━━━━━━━━━━━━━━━━━━━━━━━━━━━━━━━\u001b[0m \u001b[32m52.7/52.7 MB\u001b[0m \u001b[31m12.7 MB/s\u001b[0m eta \u001b[36m0:00:00\u001b[0m\n",
            "\u001b[?25hInstalling collected packages: SimpleITK\n",
            "Successfully installed SimpleITK-2.3.1\n"
          ]
        }
      ],
      "source": [
        "!pip install SimpleITK"
      ]
    },
    {
      "cell_type": "code",
      "execution_count": null,
      "metadata": {
        "colab": {
          "base_uri": "https://localhost:8080/",
          "height": 1000
        },
        "id": "U-urc7VpMHzD",
        "outputId": "35075abe-a586-496a-8b49-aa3a64fdc08a"
      },
      "outputs": [
        {
          "name": "stdout",
          "output_type": "stream",
          "text": [
            "Collecting nnunetv2\n",
            "  Downloading nnunetv2-2.4.2.tar.gz (184 kB)\n",
            "\u001b[?25l     \u001b[90m━━━━━━━━━━━━━━━━━━━━━━━━━━━━━━━━━━━━━━━━\u001b[0m \u001b[32m0.0/184.1 kB\u001b[0m \u001b[31m?\u001b[0m eta \u001b[36m-:--:--\u001b[0m\r\u001b[2K     \u001b[91m━━━━━━━━━━━━━━━━━━━━━━━━━━━━━━━\u001b[0m\u001b[90m╺\u001b[0m\u001b[90m━━━━━━━━\u001b[0m \u001b[32m143.4/184.1 kB\u001b[0m \u001b[31m4.0 MB/s\u001b[0m eta \u001b[36m0:00:01\u001b[0m\r\u001b[2K     \u001b[90m━━━━━━━━━━━━━━━━━━━━━━━━━━━━━━━━━━━━━━━━\u001b[0m \u001b[32m184.1/184.1 kB\u001b[0m \u001b[31m3.9 MB/s\u001b[0m eta \u001b[36m0:00:00\u001b[0m\n",
            "\u001b[?25h  Installing build dependencies ... \u001b[?25l\u001b[?25hdone\n",
            "  Getting requirements to build wheel ... \u001b[?25l\u001b[?25hdone\n",
            "  Installing backend dependencies ... \u001b[?25l\u001b[?25hdone\n",
            "  Preparing metadata (pyproject.toml) ... \u001b[?25l\u001b[?25hdone\n",
            "Requirement already satisfied: torch>=2.1.2 in /usr/local/lib/python3.10/dist-packages (from nnunetv2) (2.3.0+cu121)\n",
            "Collecting acvl-utils<0.3,>=0.2 (from nnunetv2)\n",
            "  Downloading acvl_utils-0.2.tar.gz (18 kB)\n",
            "  Preparing metadata (setup.py) ... \u001b[?25l\u001b[?25hdone\n",
            "Collecting dynamic-network-architectures<0.4,>=0.3.1 (from nnunetv2)\n",
            "  Downloading dynamic_network_architectures-0.3.1.tar.gz (20 kB)\n",
            "  Preparing metadata (setup.py) ... \u001b[?25l\u001b[?25hdone\n",
            "Requirement already satisfied: tqdm in /usr/local/lib/python3.10/dist-packages (from nnunetv2) (4.66.4)\n",
            "Collecting dicom2nifti (from nnunetv2)\n",
            "  Downloading dicom2nifti-2.4.11-py3-none-any.whl (43 kB)\n",
            "\u001b[2K     \u001b[90m━━━━━━━━━━━━━━━━━━━━━━━━━━━━━━━━━━━━━━━━\u001b[0m \u001b[32m43.6/43.6 kB\u001b[0m \u001b[31m5.7 MB/s\u001b[0m eta \u001b[36m0:00:00\u001b[0m\n",
            "\u001b[?25hRequirement already satisfied: scipy in /usr/local/lib/python3.10/dist-packages (from nnunetv2) (1.11.4)\n",
            "Collecting batchgenerators>=0.25 (from nnunetv2)\n",
            "  Downloading batchgenerators-0.25.tar.gz (61 kB)\n",
            "\u001b[2K     \u001b[90m━━━━━━━━━━━━━━━━━━━━━━━━━━━━━━━━━━━━━━━━\u001b[0m \u001b[32m61.7/61.7 kB\u001b[0m \u001b[31m7.4 MB/s\u001b[0m eta \u001b[36m0:00:00\u001b[0m\n",
            "\u001b[?25h  Preparing metadata (setup.py) ... \u001b[?25l\u001b[?25hdone\n",
            "Requirement already satisfied: numpy in /usr/local/lib/python3.10/dist-packages (from nnunetv2) (1.25.2)\n",
            "Requirement already satisfied: scikit-learn in /usr/local/lib/python3.10/dist-packages (from nnunetv2) (1.2.2)\n",
            "Requirement already satisfied: scikit-image>=0.19.3 in /usr/local/lib/python3.10/dist-packages (from nnunetv2) (0.19.3)\n",
            "Requirement already satisfied: SimpleITK>=2.2.1 in /usr/local/lib/python3.10/dist-packages (from nnunetv2) (2.3.1)\n",
            "Requirement already satisfied: pandas in /usr/local/lib/python3.10/dist-packages (from nnunetv2) (2.0.3)\n",
            "Requirement already satisfied: graphviz in /usr/local/lib/python3.10/dist-packages (from nnunetv2) (0.20.3)\n",
            "Requirement already satisfied: tifffile in /usr/local/lib/python3.10/dist-packages (from nnunetv2) (2024.5.22)\n",
            "Requirement already satisfied: requests in /usr/local/lib/python3.10/dist-packages (from nnunetv2) (2.31.0)\n",
            "Requirement already satisfied: nibabel in /usr/local/lib/python3.10/dist-packages (from nnunetv2) (4.0.2)\n",
            "Requirement already satisfied: matplotlib in /usr/local/lib/python3.10/dist-packages (from nnunetv2) (3.7.1)\n",
            "Requirement already satisfied: seaborn in /usr/local/lib/python3.10/dist-packages (from nnunetv2) (0.13.1)\n",
            "Collecting imagecodecs (from nnunetv2)\n",
            "  Downloading imagecodecs-2024.1.1-cp310-cp310-manylinux_2_17_x86_64.manylinux2014_x86_64.whl (39.6 MB)\n",
            "\u001b[2K     \u001b[90m━━━━━━━━━━━━━━━━━━━━━━━━━━━━━━━━━━━━━━━━\u001b[0m \u001b[32m39.6/39.6 MB\u001b[0m \u001b[31m27.0 MB/s\u001b[0m eta \u001b[36m0:00:00\u001b[0m\n",
            "\u001b[?25hCollecting yacs (from nnunetv2)\n",
            "  Downloading yacs-0.1.8-py3-none-any.whl (14 kB)\n",
            "Collecting connected-components-3d (from acvl-utils<0.3,>=0.2->nnunetv2)\n",
            "  Downloading connected_components_3d-3.16.0-cp310-cp310-manylinux_2_17_x86_64.manylinux2014_x86_64.whl (3.6 MB)\n",
            "\u001b[2K     \u001b[90m━━━━━━━━━━━━━━━━━━━━━━━━━━━━━━━━━━━━━━━━\u001b[0m \u001b[32m3.6/3.6 MB\u001b[0m \u001b[31m97.7 MB/s\u001b[0m eta \u001b[36m0:00:00\u001b[0m\n",
            "\u001b[?25hRequirement already satisfied: pillow>=7.1.2 in /usr/local/lib/python3.10/dist-packages (from batchgenerators>=0.25->nnunetv2) (9.4.0)\n",
            "Requirement already satisfied: future in /usr/local/lib/python3.10/dist-packages (from batchgenerators>=0.25->nnunetv2) (0.18.3)\n",
            "Collecting unittest2 (from batchgenerators>=0.25->nnunetv2)\n",
            "  Downloading unittest2-1.1.0-py2.py3-none-any.whl (96 kB)\n",
            "\u001b[2K     \u001b[90m━━━━━━━━━━━━━━━━━━━━━━━━━━━━━━━━━━━━━━━━\u001b[0m \u001b[32m96.4/96.4 kB\u001b[0m \u001b[31m16.1 MB/s\u001b[0m eta \u001b[36m0:00:00\u001b[0m\n",
            "\u001b[?25hRequirement already satisfied: threadpoolctl in /usr/local/lib/python3.10/dist-packages (from batchgenerators>=0.25->nnunetv2) (3.5.0)\n",
            "Requirement already satisfied: networkx>=2.2 in /usr/local/lib/python3.10/dist-packages (from scikit-image>=0.19.3->nnunetv2) (3.3)\n",
            "Requirement already satisfied: imageio>=2.4.1 in /usr/local/lib/python3.10/dist-packages (from scikit-image>=0.19.3->nnunetv2) (2.31.6)\n",
            "Requirement already satisfied: PyWavelets>=1.1.1 in /usr/local/lib/python3.10/dist-packages (from scikit-image>=0.19.3->nnunetv2) (1.6.0)\n",
            "Requirement already satisfied: packaging>=20.0 in /usr/local/lib/python3.10/dist-packages (from scikit-image>=0.19.3->nnunetv2) (24.0)\n",
            "Requirement already satisfied: filelock in /usr/local/lib/python3.10/dist-packages (from torch>=2.1.2->nnunetv2) (3.14.0)\n",
            "Requirement already satisfied: typing-extensions>=4.8.0 in /usr/local/lib/python3.10/dist-packages (from torch>=2.1.2->nnunetv2) (4.11.0)\n",
            "Requirement already satisfied: sympy in /usr/local/lib/python3.10/dist-packages (from torch>=2.1.2->nnunetv2) (1.12)\n",
            "Requirement already satisfied: jinja2 in /usr/local/lib/python3.10/dist-packages (from torch>=2.1.2->nnunetv2) (3.1.4)\n",
            "Requirement already satisfied: fsspec in /usr/local/lib/python3.10/dist-packages (from torch>=2.1.2->nnunetv2) (2023.6.0)\n",
            "Collecting nvidia-cuda-nvrtc-cu12==12.1.105 (from torch>=2.1.2->nnunetv2)\n",
            "  Using cached nvidia_cuda_nvrtc_cu12-12.1.105-py3-none-manylinux1_x86_64.whl (23.7 MB)\n",
            "Collecting nvidia-cuda-runtime-cu12==12.1.105 (from torch>=2.1.2->nnunetv2)\n",
            "  Using cached nvidia_cuda_runtime_cu12-12.1.105-py3-none-manylinux1_x86_64.whl (823 kB)\n",
            "Collecting nvidia-cuda-cupti-cu12==12.1.105 (from torch>=2.1.2->nnunetv2)\n",
            "  Using cached nvidia_cuda_cupti_cu12-12.1.105-py3-none-manylinux1_x86_64.whl (14.1 MB)\n",
            "Collecting nvidia-cudnn-cu12==8.9.2.26 (from torch>=2.1.2->nnunetv2)\n",
            "  Using cached nvidia_cudnn_cu12-8.9.2.26-py3-none-manylinux1_x86_64.whl (731.7 MB)\n",
            "Collecting nvidia-cublas-cu12==12.1.3.1 (from torch>=2.1.2->nnunetv2)\n",
            "  Using cached nvidia_cublas_cu12-12.1.3.1-py3-none-manylinux1_x86_64.whl (410.6 MB)\n",
            "Collecting nvidia-cufft-cu12==11.0.2.54 (from torch>=2.1.2->nnunetv2)\n",
            "  Using cached nvidia_cufft_cu12-11.0.2.54-py3-none-manylinux1_x86_64.whl (121.6 MB)\n",
            "Collecting nvidia-curand-cu12==10.3.2.106 (from torch>=2.1.2->nnunetv2)\n",
            "  Using cached nvidia_curand_cu12-10.3.2.106-py3-none-manylinux1_x86_64.whl (56.5 MB)\n",
            "Collecting nvidia-cusolver-cu12==11.4.5.107 (from torch>=2.1.2->nnunetv2)\n",
            "  Using cached nvidia_cusolver_cu12-11.4.5.107-py3-none-manylinux1_x86_64.whl (124.2 MB)\n",
            "Collecting nvidia-cusparse-cu12==12.1.0.106 (from torch>=2.1.2->nnunetv2)\n",
            "  Using cached nvidia_cusparse_cu12-12.1.0.106-py3-none-manylinux1_x86_64.whl (196.0 MB)\n",
            "Collecting nvidia-nccl-cu12==2.20.5 (from torch>=2.1.2->nnunetv2)\n",
            "  Using cached nvidia_nccl_cu12-2.20.5-py3-none-manylinux2014_x86_64.whl (176.2 MB)\n",
            "Collecting nvidia-nvtx-cu12==12.1.105 (from torch>=2.1.2->nnunetv2)\n",
            "  Using cached nvidia_nvtx_cu12-12.1.105-py3-none-manylinux1_x86_64.whl (99 kB)\n",
            "Requirement already satisfied: triton==2.3.0 in /usr/local/lib/python3.10/dist-packages (from torch>=2.1.2->nnunetv2) (2.3.0)\n",
            "Collecting nvidia-nvjitlink-cu12 (from nvidia-cusolver-cu12==11.4.5.107->torch>=2.1.2->nnunetv2)\n",
            "  Downloading nvidia_nvjitlink_cu12-12.5.40-py3-none-manylinux2014_x86_64.whl (21.3 MB)\n",
            "\u001b[2K     \u001b[90m━━━━━━━━━━━━━━━━━━━━━━━━━━━━━━━━━━━━━━━━\u001b[0m \u001b[32m21.3/21.3 MB\u001b[0m \u001b[31m67.9 MB/s\u001b[0m eta \u001b[36m0:00:00\u001b[0m\n",
            "\u001b[?25hCollecting pydicom>=2.2.0 (from dicom2nifti->nnunetv2)\n",
            "  Downloading pydicom-2.4.4-py3-none-any.whl (1.8 MB)\n",
            "\u001b[2K     \u001b[90m━━━━━━━━━━━━━━━━━━━━━━━━━━━━━━━━━━━━━━━━\u001b[0m \u001b[32m1.8/1.8 MB\u001b[0m \u001b[31m82.5 MB/s\u001b[0m eta \u001b[36m0:00:00\u001b[0m\n",
            "\u001b[?25hCollecting python-gdcm (from dicom2nifti->nnunetv2)\n",
            "  Downloading python_gdcm-3.0.24.1-cp310-cp310-manylinux_2_17_x86_64.manylinux2014_x86_64.whl (13.1 MB)\n",
            "\u001b[2K     \u001b[90m━━━━━━━━━━━━━━━━━━━━━━━━━━━━━━━━━━━━━━━━\u001b[0m \u001b[32m13.1/13.1 MB\u001b[0m \u001b[31m98.2 MB/s\u001b[0m eta \u001b[36m0:00:00\u001b[0m\n",
            "\u001b[?25hRequirement already satisfied: contourpy>=1.0.1 in /usr/local/lib/python3.10/dist-packages (from matplotlib->nnunetv2) (1.2.1)\n",
            "Requirement already satisfied: cycler>=0.10 in /usr/local/lib/python3.10/dist-packages (from matplotlib->nnunetv2) (0.12.1)\n",
            "Requirement already satisfied: fonttools>=4.22.0 in /usr/local/lib/python3.10/dist-packages (from matplotlib->nnunetv2) (4.51.0)\n",
            "Requirement already satisfied: kiwisolver>=1.0.1 in /usr/local/lib/python3.10/dist-packages (from matplotlib->nnunetv2) (1.4.5)\n",
            "Requirement already satisfied: pyparsing>=2.3.1 in /usr/local/lib/python3.10/dist-packages (from matplotlib->nnunetv2) (3.1.2)\n",
            "Requirement already satisfied: python-dateutil>=2.7 in /usr/local/lib/python3.10/dist-packages (from matplotlib->nnunetv2) (2.8.2)\n",
            "Requirement already satisfied: setuptools in /usr/local/lib/python3.10/dist-packages (from nibabel->nnunetv2) (67.7.2)\n",
            "Requirement already satisfied: pytz>=2020.1 in /usr/local/lib/python3.10/dist-packages (from pandas->nnunetv2) (2023.4)\n",
            "Requirement already satisfied: tzdata>=2022.1 in /usr/local/lib/python3.10/dist-packages (from pandas->nnunetv2) (2024.1)\n",
            "Requirement already satisfied: charset-normalizer<4,>=2 in /usr/local/lib/python3.10/dist-packages (from requests->nnunetv2) (3.3.2)\n",
            "Requirement already satisfied: idna<4,>=2.5 in /usr/local/lib/python3.10/dist-packages (from requests->nnunetv2) (3.7)\n",
            "Requirement already satisfied: urllib3<3,>=1.21.1 in /usr/local/lib/python3.10/dist-packages (from requests->nnunetv2) (2.0.7)\n",
            "Requirement already satisfied: certifi>=2017.4.17 in /usr/local/lib/python3.10/dist-packages (from requests->nnunetv2) (2024.2.2)\n",
            "Requirement already satisfied: joblib>=1.1.1 in /usr/local/lib/python3.10/dist-packages (from scikit-learn->nnunetv2) (1.4.2)\n",
            "Requirement already satisfied: PyYAML in /usr/local/lib/python3.10/dist-packages (from yacs->nnunetv2) (6.0.1)\n",
            "Requirement already satisfied: six>=1.5 in /usr/local/lib/python3.10/dist-packages (from python-dateutil>=2.7->matplotlib->nnunetv2) (1.16.0)\n",
            "Requirement already satisfied: MarkupSafe>=2.0 in /usr/local/lib/python3.10/dist-packages (from jinja2->torch>=2.1.2->nnunetv2) (2.1.5)\n",
            "Requirement already satisfied: mpmath>=0.19 in /usr/local/lib/python3.10/dist-packages (from sympy->torch>=2.1.2->nnunetv2) (1.3.0)\n",
            "Collecting argparse (from unittest2->batchgenerators>=0.25->nnunetv2)\n",
            "  Downloading argparse-1.4.0-py2.py3-none-any.whl (23 kB)\n",
            "Collecting traceback2 (from unittest2->batchgenerators>=0.25->nnunetv2)\n",
            "  Downloading traceback2-1.4.0-py2.py3-none-any.whl (16 kB)\n",
            "Collecting linecache2 (from traceback2->unittest2->batchgenerators>=0.25->nnunetv2)\n",
            "  Downloading linecache2-1.0.0-py2.py3-none-any.whl (12 kB)\n",
            "Building wheels for collected packages: nnunetv2, acvl-utils, batchgenerators, dynamic-network-architectures\n",
            "  Building wheel for nnunetv2 (pyproject.toml) ... \u001b[?25l\u001b[?25hdone\n",
            "  Created wheel for nnunetv2: filename=nnunetv2-2.4.2-py3-none-any.whl size=248755 sha256=4b5e8303386cc2de5212b23cf2886b14955d164c07add74a4b0d46abc60efdc4\n",
            "  Stored in directory: /root/.cache/pip/wheels/a8/24/6a/632a19c700123ed30f3f6380d84ea3f9e1d068bf5db817e804\n",
            "  Building wheel for acvl-utils (setup.py) ... \u001b[?25l\u001b[?25hdone\n",
            "  Created wheel for acvl-utils: filename=acvl_utils-0.2-py3-none-any.whl size=22439 sha256=4d23f748b9abaf4f9ee295774beee0b9f7dcc978ca3d28e127a0cc53e27e3d5a\n",
            "  Stored in directory: /root/.cache/pip/wheels/ad/f0/84/52e8897591e66339bd2796681b9540b6c5e453c1461fa92a9e\n",
            "  Building wheel for batchgenerators (setup.py) ... \u001b[?25l\u001b[?25hdone\n",
            "  Created wheel for batchgenerators: filename=batchgenerators-0.25-py3-none-any.whl size=89007 sha256=9be8a6aad53a5609d3112c8b3d118b750b7794d2cd48b2ce2726a6cdcc3a65a5\n",
            "  Stored in directory: /root/.cache/pip/wheels/9e/b0/1b/40912fb58eb167b86cbc444ddb2e6ba382b248215295f932e2\n",
            "  Building wheel for dynamic-network-architectures (setup.py) ... \u001b[?25l\u001b[?25hdone\n",
            "  Created wheel for dynamic-network-architectures: filename=dynamic_network_architectures-0.3.1-py3-none-any.whl size=30049 sha256=c69be43152efca83f42196d7137adc0403dcd005702369b77814623afc28daf9\n",
            "  Stored in directory: /root/.cache/pip/wheels/55/1b/13/a6419c8dbf998b9343710355ec3edc5c8e24d9b7b22eec95fb\n",
            "Successfully built nnunetv2 acvl-utils batchgenerators dynamic-network-architectures\n",
            "Installing collected packages: linecache2, argparse, yacs, traceback2, python-gdcm, pydicom, nvidia-nvtx-cu12, nvidia-nvjitlink-cu12, nvidia-nccl-cu12, nvidia-curand-cu12, nvidia-cufft-cu12, nvidia-cuda-runtime-cu12, nvidia-cuda-nvrtc-cu12, nvidia-cuda-cupti-cu12, nvidia-cublas-cu12, imagecodecs, connected-components-3d, unittest2, nvidia-cusparse-cu12, nvidia-cudnn-cu12, dicom2nifti, nvidia-cusolver-cu12, batchgenerators, dynamic-network-architectures, acvl-utils, nnunetv2\n",
            "Successfully installed acvl-utils-0.2 argparse-1.4.0 batchgenerators-0.25 connected-components-3d-3.16.0 dicom2nifti-2.4.11 dynamic-network-architectures-0.3.1 imagecodecs-2024.1.1 linecache2-1.0.0 nnunetv2-2.4.2 nvidia-cublas-cu12-12.1.3.1 nvidia-cuda-cupti-cu12-12.1.105 nvidia-cuda-nvrtc-cu12-12.1.105 nvidia-cuda-runtime-cu12-12.1.105 nvidia-cudnn-cu12-8.9.2.26 nvidia-cufft-cu12-11.0.2.54 nvidia-curand-cu12-10.3.2.106 nvidia-cusolver-cu12-11.4.5.107 nvidia-cusparse-cu12-12.1.0.106 nvidia-nccl-cu12-2.20.5 nvidia-nvjitlink-cu12-12.5.40 nvidia-nvtx-cu12-12.1.105 pydicom-2.4.4 python-gdcm-3.0.24.1 traceback2-1.4.0 unittest2-1.1.0 yacs-0.1.8\n"
          ]
        },
        {
          "data": {
            "application/vnd.colab-display-data+json": {
              "id": "3a62918867e74938adf81c92feff3f1e",
              "pip_warning": {
                "packages": [
                  "argparse"
                ]
              }
            }
          },
          "metadata": {},
          "output_type": "display_data"
        }
      ],
      "source": [
        "!pip install nnunetv2"
      ]
    },
    {
      "cell_type": "code",
      "execution_count": null,
      "metadata": {
        "id": "u62jiysEMJn1"
      },
      "outputs": [],
      "source": [
        "folder_path = '/content/drive/My Drive/Inference models balanced dataset'"
      ]
    },
    {
      "cell_type": "code",
      "execution_count": null,
      "metadata": {
        "id": "K0nt_QoPMLhT"
      },
      "outputs": [],
      "source": [
        "import torch\n",
        "import networks\n",
        "import dataloader\n",
        "import numpy as np\n",
        "import SimpleITK as sitk\n",
        "from typing import Tuple\n",
        "import pandas\n",
        "import scipy.ndimage as snd\n",
        "from pathlib import Path\n",
        "from tqdm import tqdm\n",
        "\n",
        "from nnunetv2.paths import nnUNet_results, nnUNet_raw\n",
        "from batchgenerators.utilities.file_and_folder_operations import join\n",
        "from nnunetv2.inference.predict_from_raw_data import nnUNetPredictor\n",
        "from nnunetv2.imageio.simpleitk_reader_writer import SimpleITKIO\n",
        "\n",
        "\n",
        "def keep_central_connected_component(\n",
        "    prediction: sitk.Image,\n",
        "    patch_size: Tuple = (128, 128, 64),\n",
        ") -> sitk.Image:\n",
        "    \"\"\"Function to post-process the prediction to keep only the central connected component in a patch\n",
        "\n",
        "    Args:\n",
        "        prediction (sitk.Image): prediction file (should be binary)\n",
        "        patch_size (np.array, optional): patch size (x, y, z) to ensure the center is computed appropriately. Defaults to np.array([96, 96, 96]).\n",
        "\n",
        "    Returns:\n",
        "        sitk.Image: post-processed binary file with only the central connected component\n",
        "    \"\"\"\n",
        "\n",
        "    origin = prediction.GetOrigin()\n",
        "    spacing = prediction.GetSpacing()\n",
        "    direction = prediction.GetDirection()\n",
        "\n",
        "    prediction = sitk.GetArrayFromImage(prediction)\n",
        "\n",
        "    c, n = snd.label(prediction)\n",
        "    centroids = np.array(\n",
        "        [np.array(np.where(c == i)).mean(axis=1) for i in range(1, n + 1)]\n",
        "    ).astype(int)\n",
        "\n",
        "    patch_size = np.array(list(reversed(patch_size)))\n",
        "\n",
        "    if len(centroids) > 0:\n",
        "        dists = np.sqrt(((centroids - patch_size // 2) ** 2).sum(axis=1))\n",
        "        keep_idx = np.argmin(dists)\n",
        "        output = np.zeros(c.shape)\n",
        "        output[c == (keep_idx + 1)] = 1\n",
        "        prediction = output.astype(np.uint8)\n",
        "\n",
        "    prediction = sitk.GetImageFromArray(prediction)\n",
        "    prediction.SetSpacing(spacing)\n",
        "    prediction.SetOrigin(origin)\n",
        "    prediction.SetDirection(direction)\n",
        "    return prediction\n",
        "\n",
        "\n",
        "def perform_inference_on_test_set(workspace: Path):\n",
        "    #check that the workspace is well-defined\n",
        "    if workspace is None:\n",
        "      raise ValueError(\"workspace no puede ser None\")\n",
        "    \n",
        "    #now we load the mdoel architectures for both malignancy and noduletype\n",
        "    malignancy_model = networks.CNN3D(1, 1, task=\"malignancy\").cuda()\n",
        "    noduletype_model = networks.CNN3D(1, 4, task=\"noduletype\").cuda()\n",
        "\n",
        "    #set the malignancy and noduletype models in evaluation mode\n",
        "    malignancy_model.eval()\n",
        "    noduletype_model.eval()\n",
        "\n",
        "    # instantiate the nnUNetPredictor\n",
        "    segmentation_model = nnUNetPredictor(\n",
        "        tile_step_size=0.5,\n",
        "        use_gaussian=True,\n",
        "        use_mirroring=True,\n",
        "        perform_everything_on_device=True,\n",
        "        device=torch.device('cuda', 0),\n",
        "        verbose=False,\n",
        "        verbose_preprocessing=False,\n",
        "        allow_tqdm=True\n",
        "    )\n",
        "    # initializes the network architecture, loads the model parameters\n",
        "    segmentation_model.initialize_from_trained_model_folder(\n",
        "        (workspace / 'nnUNet/nnUNet_results/Dataset001_LUNA/nnUNetTrainer__nnUNetResEncUNetMPlans__3d_fullres'),\n",
        "        use_folds=(\"all\",),\n",
        "        checkpoint_name='checkpoint_best.pth',\n",
        "    )\n",
        "\n",
        "    # load the parameters for malignancy and noduletype models\n",
        "    ckpt = torch.load(workspace / \"20240526_0_malignancy_ORIGINAL/fold0/best_model.pth\")\n",
        "    malignancy_model.load_state_dict(ckpt)\n",
        "\n",
        "    ckpt = torch.load(workspace / \"20240526_0_noduletype_ORIGINAL/fold0/best_model.pth\")\n",
        "    noduletype_model.load_state_dict(ckpt)\n",
        "\n",
        "    #define the paths to the test set and to a reuslts folder to store the predictions\n",
        "    test_set_path = Path(workspace / \"data\" / \"test_set\" / \"images\")\n",
        "    save_path = workspace / \"results\" / \"test_set_predictions\"\n",
        "\n",
        "    segmentation_save_path = save_path / \"segmentations\"\n",
        "    segmentation_save_path.mkdir(exist_ok=True, parents=True)\n",
        "\n",
        "\n",
        "    patch_size = np.array([64, 128, 128])\n",
        "    size_mm = 50\n",
        "    size_px = 64\n",
        "\n",
        "    predictions = []\n",
        "\n",
        "    # iterate over the images in the test set\n",
        "    for idx, image_path in enumerate(tqdm(list(test_set_path.glob(\"*.mha\")))):\n",
        "\n",
        "        # load and pre-process input image\n",
        "\n",
        "        image = sitk.ReadImage(str(image_path))\n",
        "\n",
        "        #load the image and some properties of it with SimpleITKIO() class from nnunetv2\n",
        "        image_nnunet, props = SimpleITKIO().read_images([str(image_path)])\n",
        "\n",
        "        noduleid = image_path.stem\n",
        "\n",
        "        #image = sitk_image\n",
        "        metad = {\n",
        "            \"origin\": np.flip(image.GetOrigin()),\n",
        "            \"spacing\": np.flip(image.GetSpacing()),\n",
        "            \"transform\": np.array(np.flip(image.GetDirection())).reshape(3, 3),\n",
        "            \"shape\": np.flip(image.GetSize()),\n",
        "        }\n",
        "        image = sitk.GetArrayFromImage(image)\n",
        "\n",
        "        image = image.squeeze()\n",
        "\n",
        "        image = dataloader.extract_patch(\n",
        "            CTData=image,\n",
        "            coord=tuple(patch_size // 2),\n",
        "            srcVoxelOrigin=(0, 0, 0),\n",
        "            srcWorldMatrix=metad[\"transform\"],\n",
        "            srcVoxelSpacing=metad[\"spacing\"],\n",
        "            output_shape=(size_px, size_px, size_px),\n",
        "            voxel_spacing=(\n",
        "                size_mm / size_px,\n",
        "                size_mm / size_px,\n",
        "                size_mm / size_px,\n",
        "            ),\n",
        "            coord_space_world=False,\n",
        "        )\n",
        "        #print(\"Patch extracted succesfully\")\n",
        "\n",
        "        #reshape the image for it to be compatible with the clip and scale function from dataloader\n",
        "        image = image.reshape(1, 1, size_px, size_px, size_px).astype(np.float32)\n",
        "\n",
        "        image = dataloader.clip_and_scale(image)\n",
        "\n",
        "        #convert the image to a tensor and move it to the GPU for it to be processed by malignancy and segmentation models\n",
        "        image_tensor = torch.from_numpy(image).cuda()\n",
        "\n",
        "        #get the outputs of the models\n",
        "        with torch.no_grad():\n",
        "            outputs = {\"segmentation\": segmentation_model.predict_single_npy_array(image_nnunet, props, None, None, False),\n",
        "                #\"segmentation\": segmentation_model(image)[\"segmentation\"],\n",
        "                \"noduletype\": noduletype_model(image_tensor)[\"noduletype\"],\n",
        "                \"malignancy\": malignancy_model(image_tensor)[\"malignancy\"],\n",
        "            }\n",
        "        print(\"Outputs computed by the models\")\n",
        "\n",
        "        outputs = {k: (np.array(outputs[k]).squeeze() if k == \"segmentation\"\n",
        "                       else outputs[k].data.cpu().numpy().squeeze()) for k in outputs.keys()}\n",
        "\n",
        "\n",
        "        segmentation = outputs[\"segmentation\"]\n",
        "\n",
        "        # resample image to original spacing\n",
        "        segmentation = snd.zoom(\n",
        "            segmentation,\n",
        "            (size_mm / size_px) / metad[\"spacing\"],\n",
        "            order=1,\n",
        "        )\n",
        "        #print(f\"{segmentation.shape}\")\n",
        "\n",
        "        # pad image\n",
        "        diff = metad[\"shape\"] - segmentation.shape\n",
        "        #print(diff)\n",
        "        pad_widths = [\n",
        "            (np.round(a), np.round(b))\n",
        "            for a, b in zip(\n",
        "                diff // 2.0 + 1,\n",
        "                diff - diff // 2.0 - 1,\n",
        "            )\n",
        "        ]\n",
        "\n",
        "        #if the diff vector has some 0 component then, pad_widths matrix is forced to make 0 all that row, so as \n",
        "        #to keep the shape of the image correctly\n",
        "        for i in range(3):\n",
        "          if diff[i] == 0:\n",
        "            pad_widths[i] = (0.0, 0.0)\n",
        "\n",
        "        pad_widths = np.array(pad_widths).astype(int)\n",
        "        if pad_widths.max() <= 0:\n",
        "          pad_widths[:] = 0\n",
        "\n",
        "        pad_widths = np.clip(pad_widths, 0, pad_widths.max())\n",
        "        pad_widths = np.clip(pad_widths, 0, pad_widths.max())\n",
        "        segmentation = np.pad(\n",
        "            segmentation,\n",
        "            pad_width=pad_widths,\n",
        "            mode=\"constant\",\n",
        "            constant_values=0,\n",
        "        )\n",
        "\n",
        "        # crop, if necessary\n",
        "        if diff.min() < 0:\n",
        "\n",
        "            shape = np.array(segmentation.shape)\n",
        "            center = shape // 2\n",
        "\n",
        "            segmentation = segmentation[\n",
        "                center[0] - patch_size[0] // 2 : center[0] + patch_size[0] // 2,\n",
        "                center[1] - patch_size[1] // 2 : center[1] + patch_size[1] // 2,\n",
        "                center[2] - patch_size[2] // 2 : center[2] + patch_size[2] // 2,\n",
        "            ]\n",
        "\n",
        "        # apply threshold\n",
        "        segmentation = (segmentation > 0.5).astype(np.uint8)\n",
        "\n",
        "        # set metadata\n",
        "        segmentation = sitk.GetImageFromArray(segmentation)\n",
        "        segmentation.SetOrigin(np.flip(metad[\"origin\"]))\n",
        "        segmentation.SetSpacing(np.flip(metad[\"spacing\"]))\n",
        "        segmentation.SetDirection(np.flip(metad[\"transform\"].reshape(-1)))\n",
        "        #print(segmentation.GetSize())\n",
        "\n",
        "        # keep central connected component\n",
        "        segmentation = keep_central_connected_component(segmentation)\n",
        "        print(segmentation.GetSize())\n",
        "        #if segmentation.GetSize()!=(128,128,64):\n",
        "          #break\n",
        "\n",
        "        # write as simpleitk image\n",
        "        sitk.WriteImage(\n",
        "            segmentation,\n",
        "            str(segmentation_save_path / f\"{noduleid}.mha\"),\n",
        "            True,\n",
        "        )\n",
        "\n",
        "        # combine predictions from other task models\n",
        "        prediction = {\n",
        "            \"noduleid\": noduleid,\n",
        "            \"malignancy\": outputs[\"malignancy\"],\n",
        "            \"noduletype\": outputs[\"noduletype\"].argmax(),\n",
        "            \"ggo_probability\": outputs[\"noduletype\"][0],\n",
        "            \"partsolid_probability\": outputs[\"noduletype\"][1],\n",
        "            \"solid_probability\": outputs[\"noduletype\"][2],\n",
        "            \"calcified_probability\": outputs[\"noduletype\"][3],\n",
        "        }\n",
        "\n",
        "        predictions.append(pandas.Series(prediction))\n",
        "\n",
        "    predictions = pandas.DataFrame(predictions)\n",
        "    predictions.to_csv(save_path / \"predictions.csv\", index=False)\n",
        "\n"
      ]
    },
    {
      "cell_type": "code",
      "execution_count": null,
      "metadata": {
        "colab": {
          "base_uri": "https://localhost:8080/"
        },
        "id": "2xT2E2w3MOXG",
        "outputId": "737af2c4-93d0-44db-ced0-549c0d9b586a"
      },
      "outputs": [
        {
          "name": "stderr",
          "output_type": "stream",
          "text": [
            "  0%|          | 0/256 [00:00<?, ?it/s]\n",
            "  0%|          | 0/2 [00:00<?, ?it/s]\u001b[A\n",
            " 50%|█████     | 1/2 [00:00<00:00,  1.83it/s]\u001b[A\n",
            "100%|██████████| 2/2 [00:01<00:00,  1.67it/s]\n",
            "  0%|          | 1/256 [00:03<15:19,  3.61s/it]"
          ]
        },
        {
          "name": "stdout",
          "output_type": "stream",
          "text": [
            "Outputs computed by the models\n",
            "(128, 128, 64)\n"
          ]
        },
        {
          "name": "stderr",
          "output_type": "stream",
          "text": [
            "\n",
            "  0%|          | 0/2 [00:00<?, ?it/s]\u001b[A\n",
            " 50%|█████     | 1/2 [00:00<00:00,  1.79it/s]\u001b[A\n",
            "100%|██████████| 2/2 [00:01<00:00,  1.65it/s]\n",
            "  1%|          | 2/256 [00:07<16:12,  3.83s/it]"
          ]
        },
        {
          "name": "stdout",
          "output_type": "stream",
          "text": [
            "Outputs computed by the models\n",
            "(128, 128, 64)\n"
          ]
        },
        {
          "name": "stderr",
          "output_type": "stream",
          "text": [
            "\n",
            "  0%|          | 0/4 [00:00<?, ?it/s]\u001b[A\n",
            " 25%|██▌       | 1/4 [00:00<00:01,  1.84it/s]\u001b[A\n",
            " 50%|█████     | 2/4 [00:01<00:01,  1.64it/s]\u001b[A\n",
            " 75%|███████▌  | 3/4 [00:01<00:00,  1.62it/s]\u001b[A\n",
            "100%|██████████| 4/4 [00:02<00:00,  1.60it/s]\n",
            "  1%|          | 3/256 [00:12<18:20,  4.35s/it]"
          ]
        },
        {
          "name": "stdout",
          "output_type": "stream",
          "text": [
            "Outputs computed by the models\n",
            "(128, 128, 64)\n"
          ]
        },
        {
          "name": "stderr",
          "output_type": "stream",
          "text": [
            "\n",
            "  0%|          | 0/12 [00:00<?, ?it/s]\u001b[A\n",
            "  8%|▊         | 1/12 [00:00<00:05,  1.95it/s]\u001b[A\n",
            " 17%|█▋        | 2/12 [00:01<00:06,  1.65it/s]\u001b[A\n",
            " 25%|██▌       | 3/12 [00:01<00:05,  1.60it/s]\u001b[A\n",
            " 33%|███▎      | 4/12 [00:02<00:05,  1.56it/s]\u001b[A\n",
            " 42%|████▏     | 5/12 [00:03<00:04,  1.53it/s]\u001b[A\n",
            " 50%|█████     | 6/12 [00:03<00:03,  1.54it/s]\u001b[A\n",
            " 58%|█████▊    | 7/12 [00:04<00:03,  1.52it/s]\u001b[A\n",
            " 67%|██████▋   | 8/12 [00:05<00:02,  1.51it/s]\u001b[A\n",
            " 75%|███████▌  | 9/12 [00:05<00:01,  1.51it/s]\u001b[A\n",
            " 83%|████████▎ | 10/12 [00:06<00:01,  1.50it/s]\u001b[A\n",
            " 92%|█████████▏| 11/12 [00:07<00:00,  1.49it/s]\u001b[A\n",
            "100%|██████████| 12/12 [00:07<00:00,  1.53it/s]\n",
            "  2%|▏         | 4/256 [00:22<27:39,  6.59s/it]"
          ]
        },
        {
          "name": "stdout",
          "output_type": "stream",
          "text": [
            "Outputs computed by the models\n",
            "(128, 128, 64)\n"
          ]
        },
        {
          "name": "stderr",
          "output_type": "stream",
          "text": [
            "\n",
            "  0%|          | 0/12 [00:00<?, ?it/s]\u001b[A\n",
            "  8%|▊         | 1/12 [00:00<00:06,  1.77it/s]\u001b[A\n",
            " 17%|█▋        | 2/12 [00:01<00:06,  1.60it/s]\u001b[A\n",
            " 25%|██▌       | 3/12 [00:01<00:05,  1.59it/s]\u001b[A\n",
            " 33%|███▎      | 4/12 [00:02<00:05,  1.55it/s]\u001b[A\n",
            " 42%|████▏     | 5/12 [00:03<00:04,  1.54it/s]\u001b[A\n",
            " 50%|█████     | 6/12 [00:03<00:03,  1.54it/s]\u001b[A\n",
            " 58%|█████▊    | 7/12 [00:04<00:03,  1.52it/s]\u001b[A\n",
            " 67%|██████▋   | 8/12 [00:05<00:02,  1.53it/s]\u001b[A\n",
            " 75%|███████▌  | 9/12 [00:05<00:01,  1.54it/s]\u001b[A\n",
            " 83%|████████▎ | 10/12 [00:06<00:01,  1.54it/s]\u001b[A\n",
            " 92%|█████████▏| 11/12 [00:07<00:00,  1.54it/s]\u001b[A\n",
            "100%|██████████| 12/12 [00:07<00:00,  1.55it/s]\n",
            "  2%|▏         | 5/256 [00:33<34:41,  8.29s/it]"
          ]
        },
        {
          "name": "stdout",
          "output_type": "stream",
          "text": [
            "Outputs computed by the models\n",
            "(128, 128, 64)\n"
          ]
        },
        {
          "name": "stderr",
          "output_type": "stream",
          "text": [
            "\n",
            "  0%|          | 0/4 [00:00<?, ?it/s]\u001b[A\n",
            " 25%|██▌       | 1/4 [00:00<00:01,  1.78it/s]\u001b[A\n",
            " 50%|█████     | 2/4 [00:01<00:01,  1.64it/s]\u001b[A\n",
            " 75%|███████▌  | 3/4 [00:01<00:00,  1.62it/s]\u001b[A\n",
            "100%|██████████| 4/4 [00:02<00:00,  1.61it/s]\n",
            "  2%|▏         | 6/256 [00:38<29:01,  6.97s/it]"
          ]
        },
        {
          "name": "stdout",
          "output_type": "stream",
          "text": [
            "Outputs computed by the models\n",
            "(128, 128, 64)\n"
          ]
        },
        {
          "name": "stderr",
          "output_type": "stream",
          "text": [
            "\n",
            "  0%|          | 0/4 [00:00<?, ?it/s]\u001b[A\n",
            " 25%|██▌       | 1/4 [00:00<00:01,  2.02it/s]\u001b[A\n",
            " 50%|█████     | 2/4 [00:01<00:01,  1.73it/s]\u001b[A\n",
            " 75%|███████▌  | 3/4 [00:01<00:00,  1.69it/s]\u001b[A\n",
            "100%|██████████| 4/4 [00:02<00:00,  1.69it/s]\n",
            "  3%|▎         | 7/256 [00:42<24:54,  6.00s/it]"
          ]
        },
        {
          "name": "stdout",
          "output_type": "stream",
          "text": [
            "Outputs computed by the models\n",
            "(128, 128, 64)\n"
          ]
        },
        {
          "name": "stderr",
          "output_type": "stream",
          "text": [
            "\n",
            "  0%|          | 0/12 [00:00<?, ?it/s]\u001b[A\n",
            "  8%|▊         | 1/12 [00:00<00:05,  2.00it/s]\u001b[A\n",
            " 17%|█▋        | 2/12 [00:01<00:05,  1.74it/s]\u001b[A\n",
            " 25%|██▌       | 3/12 [00:01<00:05,  1.69it/s]\u001b[A\n",
            " 33%|███▎      | 4/12 [00:02<00:04,  1.65it/s]\u001b[A\n",
            " 42%|████▏     | 5/12 [00:02<00:04,  1.63it/s]\u001b[A\n",
            " 50%|█████     | 6/12 [00:03<00:03,  1.63it/s]\u001b[A\n",
            " 58%|█████▊    | 7/12 [00:04<00:03,  1.62it/s]\u001b[A\n",
            " 67%|██████▋   | 8/12 [00:04<00:02,  1.62it/s]\u001b[A\n",
            " 75%|███████▌  | 9/12 [00:05<00:01,  1.61it/s]\u001b[A\n",
            " 83%|████████▎ | 10/12 [00:06<00:01,  1.62it/s]\u001b[A\n",
            " 92%|█████████▏| 11/12 [00:06<00:00,  1.62it/s]\u001b[A\n",
            "100%|██████████| 12/12 [00:07<00:00,  1.64it/s]\n",
            "  3%|▎         | 8/256 [00:51<29:29,  7.13s/it]"
          ]
        },
        {
          "name": "stdout",
          "output_type": "stream",
          "text": [
            "Outputs computed by the models\n",
            "(128, 128, 64)\n"
          ]
        },
        {
          "name": "stderr",
          "output_type": "stream",
          "text": [
            "\n",
            "  0%|          | 0/4 [00:00<?, ?it/s]\u001b[A\n",
            " 25%|██▌       | 1/4 [00:00<00:01,  1.94it/s]\u001b[A\n",
            " 50%|█████     | 2/4 [00:01<00:01,  1.74it/s]\u001b[A\n",
            " 75%|███████▌  | 3/4 [00:01<00:00,  1.70it/s]\u001b[A\n",
            "100%|██████████| 4/4 [00:02<00:00,  1.69it/s]\n",
            "  4%|▎         | 9/256 [00:56<25:48,  6.27s/it]"
          ]
        },
        {
          "name": "stdout",
          "output_type": "stream",
          "text": [
            "Outputs computed by the models\n",
            "(128, 128, 64)\n"
          ]
        },
        {
          "name": "stderr",
          "output_type": "stream",
          "text": [
            "\n",
            "  0%|          | 0/4 [00:00<?, ?it/s]\u001b[A\n",
            " 25%|██▌       | 1/4 [00:00<00:01,  2.03it/s]\u001b[A\n",
            " 50%|█████     | 2/4 [00:01<00:01,  1.77it/s]\u001b[A\n",
            " 75%|███████▌  | 3/4 [00:01<00:00,  1.72it/s]\u001b[A\n",
            "100%|██████████| 4/4 [00:02<00:00,  1.71it/s]\n",
            "  4%|▍         | 10/256 [01:00<23:34,  5.75s/it]"
          ]
        },
        {
          "name": "stdout",
          "output_type": "stream",
          "text": [
            "Outputs computed by the models\n",
            "(128, 128, 64)\n"
          ]
        },
        {
          "name": "stderr",
          "output_type": "stream",
          "text": [
            "\n",
            "  0%|          | 0/1 [00:00<?, ?it/s]\u001b[A\n",
            "100%|██████████| 1/1 [00:00<00:00,  2.03it/s]\n",
            "  4%|▍         | 11/256 [01:03<19:13,  4.71s/it]"
          ]
        },
        {
          "name": "stdout",
          "output_type": "stream",
          "text": [
            "Outputs computed by the models\n",
            "(128, 128, 64)\n"
          ]
        },
        {
          "name": "stderr",
          "output_type": "stream",
          "text": [
            "\n",
            "  0%|          | 0/1 [00:00<?, ?it/s]\u001b[A\n",
            "100%|██████████| 1/1 [00:00<00:00,  2.02it/s]\n",
            "  5%|▍         | 12/256 [01:05<16:04,  3.95s/it]"
          ]
        },
        {
          "name": "stdout",
          "output_type": "stream",
          "text": [
            "Outputs computed by the models\n",
            "(128, 128, 64)\n"
          ]
        },
        {
          "name": "stderr",
          "output_type": "stream",
          "text": [
            "\n",
            "  0%|          | 0/4 [00:00<?, ?it/s]\u001b[A\n",
            " 25%|██▌       | 1/4 [00:00<00:01,  2.05it/s]\u001b[A\n",
            " 50%|█████     | 2/4 [00:01<00:01,  1.77it/s]\u001b[A\n",
            " 75%|███████▌  | 3/4 [00:01<00:00,  1.72it/s]\u001b[A\n",
            "100%|██████████| 4/4 [00:02<00:00,  1.73it/s]\n",
            "  5%|▌         | 13/256 [01:09<16:22,  4.04s/it]"
          ]
        },
        {
          "name": "stdout",
          "output_type": "stream",
          "text": [
            "Outputs computed by the models\n",
            "(128, 128, 64)\n"
          ]
        },
        {
          "name": "stderr",
          "output_type": "stream",
          "text": [
            "\n",
            "  0%|          | 0/12 [00:00<?, ?it/s]\u001b[A\n",
            "  8%|▊         | 1/12 [00:00<00:05,  2.05it/s]\u001b[A\n",
            " 17%|█▋        | 2/12 [00:01<00:05,  1.77it/s]\u001b[A\n",
            " 25%|██▌       | 3/12 [00:01<00:05,  1.73it/s]\u001b[A\n",
            " 33%|███▎      | 4/12 [00:02<00:04,  1.69it/s]\u001b[A\n",
            " 42%|████▏     | 5/12 [00:02<00:04,  1.68it/s]\u001b[A\n",
            " 50%|█████     | 6/12 [00:03<00:03,  1.67it/s]\u001b[A\n",
            " 58%|█████▊    | 7/12 [00:04<00:03,  1.66it/s]\u001b[A\n",
            " 67%|██████▋   | 8/12 [00:04<00:02,  1.66it/s]\u001b[A\n",
            " 75%|███████▌  | 9/12 [00:05<00:01,  1.65it/s]\u001b[A\n",
            " 83%|████████▎ | 10/12 [00:05<00:01,  1.65it/s]\u001b[A\n",
            " 92%|█████████▏| 11/12 [00:06<00:00,  1.65it/s]\u001b[A\n",
            "100%|██████████| 12/12 [00:07<00:00,  1.67it/s]\n",
            "  5%|▌         | 14/256 [01:18<22:44,  5.64s/it]"
          ]
        },
        {
          "name": "stdout",
          "output_type": "stream",
          "text": [
            "Outputs computed by the models\n",
            "(128, 128, 64)\n"
          ]
        },
        {
          "name": "stderr",
          "output_type": "stream",
          "text": [
            "\n",
            "  0%|          | 0/4 [00:00<?, ?it/s]\u001b[A\n",
            " 25%|██▌       | 1/4 [00:00<00:01,  2.01it/s]\u001b[A\n",
            " 50%|█████     | 2/4 [00:01<00:01,  1.75it/s]\u001b[A\n",
            " 75%|███████▌  | 3/4 [00:01<00:00,  1.70it/s]\u001b[A\n",
            "100%|██████████| 4/4 [00:02<00:00,  1.70it/s]\n",
            "  6%|▌         | 15/256 [01:23<21:01,  5.23s/it]"
          ]
        },
        {
          "name": "stdout",
          "output_type": "stream",
          "text": [
            "Outputs computed by the models\n",
            "(128, 128, 64)\n"
          ]
        },
        {
          "name": "stderr",
          "output_type": "stream",
          "text": [
            "\n",
            "  0%|          | 0/4 [00:00<?, ?it/s]\u001b[A\n",
            " 25%|██▌       | 1/4 [00:00<00:01,  2.02it/s]\u001b[A\n",
            " 50%|█████     | 2/4 [00:01<00:01,  1.75it/s]\u001b[A\n",
            " 75%|███████▌  | 3/4 [00:01<00:00,  1.70it/s]\u001b[A\n",
            "100%|██████████| 4/4 [00:02<00:00,  1.69it/s]\n",
            "  6%|▋         | 16/256 [01:28<20:21,  5.09s/it]"
          ]
        },
        {
          "name": "stdout",
          "output_type": "stream",
          "text": [
            "Outputs computed by the models\n",
            "(128, 128, 64)\n"
          ]
        },
        {
          "name": "stderr",
          "output_type": "stream",
          "text": [
            "\n",
            "  0%|          | 0/1 [00:00<?, ?it/s]\u001b[A\n",
            "100%|██████████| 1/1 [00:00<00:00,  1.75it/s]\n",
            "  7%|▋         | 17/256 [01:30<17:40,  4.44s/it]"
          ]
        },
        {
          "name": "stdout",
          "output_type": "stream",
          "text": [
            "Outputs computed by the models\n",
            "(128, 128, 64)\n"
          ]
        },
        {
          "name": "stderr",
          "output_type": "stream",
          "text": [
            "\n",
            "  0%|          | 0/4 [00:00<?, ?it/s]\u001b[A\n",
            " 25%|██▌       | 1/4 [00:00<00:01,  2.02it/s]\u001b[A\n",
            " 50%|█████     | 2/4 [00:01<00:01,  1.74it/s]\u001b[A\n",
            " 75%|███████▌  | 3/4 [00:01<00:00,  1.68it/s]\u001b[A\n",
            "100%|██████████| 4/4 [00:02<00:00,  1.67it/s]\n",
            "  7%|▋         | 18/256 [01:35<17:24,  4.39s/it]"
          ]
        },
        {
          "name": "stdout",
          "output_type": "stream",
          "text": [
            "Outputs computed by the models\n",
            "(128, 128, 64)\n"
          ]
        },
        {
          "name": "stderr",
          "output_type": "stream",
          "text": [
            "\n",
            "  0%|          | 0/12 [00:00<?, ?it/s]\u001b[A\n",
            "  8%|▊         | 1/12 [00:00<00:05,  2.00it/s]\u001b[A\n",
            " 17%|█▋        | 2/12 [00:01<00:05,  1.72it/s]\u001b[A\n",
            " 25%|██▌       | 3/12 [00:01<00:05,  1.68it/s]\u001b[A\n",
            " 33%|███▎      | 4/12 [00:02<00:04,  1.63it/s]\u001b[A\n",
            " 42%|████▏     | 5/12 [00:03<00:04,  1.61it/s]\u001b[A\n",
            " 50%|█████     | 6/12 [00:03<00:03,  1.61it/s]\u001b[A\n",
            " 58%|█████▊    | 7/12 [00:04<00:03,  1.59it/s]\u001b[A\n",
            " 67%|██████▋   | 8/12 [00:04<00:02,  1.59it/s]\u001b[A\n",
            " 75%|███████▌  | 9/12 [00:05<00:01,  1.59it/s]\u001b[A\n",
            " 83%|████████▎ | 10/12 [00:06<00:01,  1.58it/s]\u001b[A\n",
            " 92%|█████████▏| 11/12 [00:06<00:00,  1.57it/s]\u001b[A\n",
            "100%|██████████| 12/12 [00:07<00:00,  1.60it/s]\n",
            "  7%|▋         | 19/256 [01:44<23:37,  5.98s/it]"
          ]
        },
        {
          "name": "stdout",
          "output_type": "stream",
          "text": [
            "Outputs computed by the models\n",
            "(128, 128, 64)\n"
          ]
        },
        {
          "name": "stderr",
          "output_type": "stream",
          "text": [
            "\n",
            "  0%|          | 0/1 [00:00<?, ?it/s]\u001b[A\n",
            "100%|██████████| 1/1 [00:00<00:00,  1.99it/s]\n",
            "  8%|▊         | 20/256 [01:46<18:57,  4.82s/it]"
          ]
        },
        {
          "name": "stdout",
          "output_type": "stream",
          "text": [
            "Outputs computed by the models\n",
            "(128, 128, 64)\n"
          ]
        },
        {
          "name": "stderr",
          "output_type": "stream",
          "text": [
            "\n",
            "  0%|          | 0/12 [00:00<?, ?it/s]\u001b[A\n",
            "  8%|▊         | 1/12 [00:00<00:05,  1.99it/s]\u001b[A\n",
            " 17%|█▋        | 2/12 [00:01<00:05,  1.69it/s]\u001b[A\n",
            " 25%|██▌       | 3/12 [00:01<00:05,  1.65it/s]\u001b[A\n",
            " 33%|███▎      | 4/12 [00:02<00:05,  1.59it/s]\u001b[A\n",
            " 42%|████▏     | 5/12 [00:03<00:04,  1.57it/s]\u001b[A\n",
            " 50%|█████     | 6/12 [00:03<00:03,  1.57it/s]\u001b[A\n",
            " 58%|█████▊    | 7/12 [00:04<00:03,  1.56it/s]\u001b[A\n",
            " 67%|██████▋   | 8/12 [00:05<00:02,  1.56it/s]\u001b[A\n",
            " 75%|███████▌  | 9/12 [00:05<00:01,  1.56it/s]\u001b[A\n",
            " 83%|████████▎ | 10/12 [00:06<00:01,  1.55it/s]\u001b[A\n",
            " 92%|█████████▏| 11/12 [00:06<00:00,  1.56it/s]\u001b[A\n",
            "100%|██████████| 12/12 [00:07<00:00,  1.58it/s]\n",
            "  8%|▊         | 21/256 [01:57<25:07,  6.41s/it]"
          ]
        },
        {
          "name": "stdout",
          "output_type": "stream",
          "text": [
            "Outputs computed by the models\n",
            "(128, 128, 64)\n"
          ]
        },
        {
          "name": "stderr",
          "output_type": "stream",
          "text": [
            "\n",
            "  0%|          | 0/1 [00:00<?, ?it/s]\u001b[A\n",
            "100%|██████████| 1/1 [00:00<00:00,  1.78it/s]\n",
            "  9%|▊         | 22/256 [01:59<20:11,  5.18s/it]"
          ]
        },
        {
          "name": "stdout",
          "output_type": "stream",
          "text": [
            "Outputs computed by the models\n",
            "(128, 128, 64)\n"
          ]
        },
        {
          "name": "stderr",
          "output_type": "stream",
          "text": [
            "\n",
            "  0%|          | 0/1 [00:00<?, ?it/s]\u001b[A\n",
            "100%|██████████| 1/1 [00:00<00:00,  1.97it/s]\n",
            "  9%|▉         | 23/256 [02:02<17:04,  4.40s/it]"
          ]
        },
        {
          "name": "stdout",
          "output_type": "stream",
          "text": [
            "Outputs computed by the models\n",
            "(128, 128, 64)\n"
          ]
        },
        {
          "name": "stderr",
          "output_type": "stream",
          "text": [
            "\n",
            "  0%|          | 0/4 [00:00<?, ?it/s]\u001b[A\n",
            " 25%|██▌       | 1/4 [00:00<00:01,  1.79it/s]\u001b[A\n",
            " 50%|█████     | 2/4 [00:01<00:01,  1.69it/s]\u001b[A\n",
            " 75%|███████▌  | 3/4 [00:01<00:00,  1.66it/s]\u001b[A\n",
            "100%|██████████| 4/4 [00:02<00:00,  1.66it/s]\n",
            "  9%|▉         | 24/256 [02:06<17:08,  4.43s/it]"
          ]
        },
        {
          "name": "stdout",
          "output_type": "stream",
          "text": [
            "Outputs computed by the models\n",
            "(128, 128, 64)\n"
          ]
        },
        {
          "name": "stderr",
          "output_type": "stream",
          "text": [
            "\n",
            "  0%|          | 0/3 [00:00<?, ?it/s]\u001b[A\n",
            " 33%|███▎      | 1/3 [00:00<00:00,  2.02it/s]\u001b[A\n",
            " 67%|██████▋   | 2/3 [00:01<00:00,  1.74it/s]\u001b[A\n",
            "100%|██████████| 3/3 [00:01<00:00,  1.72it/s]\n",
            " 10%|▉         | 25/256 [02:10<17:06,  4.44s/it]"
          ]
        },
        {
          "name": "stdout",
          "output_type": "stream",
          "text": [
            "Outputs computed by the models\n",
            "(128, 128, 64)\n"
          ]
        },
        {
          "name": "stderr",
          "output_type": "stream",
          "text": [
            "\n",
            "  0%|          | 0/3 [00:00<?, ?it/s]\u001b[A\n",
            " 33%|███▎      | 1/3 [00:00<00:01,  1.78it/s]\u001b[A\n",
            " 67%|██████▋   | 2/3 [00:01<00:00,  1.68it/s]\u001b[A\n",
            "100%|██████████| 3/3 [00:01<00:00,  1.67it/s]\n",
            " 10%|█         | 26/256 [02:14<16:23,  4.27s/it]"
          ]
        },
        {
          "name": "stdout",
          "output_type": "stream",
          "text": [
            "Outputs computed by the models\n",
            "(128, 128, 64)\n"
          ]
        },
        {
          "name": "stderr",
          "output_type": "stream",
          "text": [
            "\n",
            "  0%|          | 0/4 [00:00<?, ?it/s]\u001b[A\n",
            " 25%|██▌       | 1/4 [00:00<00:01,  2.01it/s]\u001b[A\n",
            " 50%|█████     | 2/4 [00:01<00:01,  1.75it/s]\u001b[A\n",
            " 75%|███████▌  | 3/4 [00:01<00:00,  1.70it/s]\u001b[A\n",
            "100%|██████████| 4/4 [00:02<00:00,  1.69it/s]\n",
            " 11%|█         | 27/256 [02:19<16:18,  4.27s/it]"
          ]
        },
        {
          "name": "stdout",
          "output_type": "stream",
          "text": [
            "Outputs computed by the models\n",
            "(128, 128, 64)\n"
          ]
        },
        {
          "name": "stderr",
          "output_type": "stream",
          "text": [
            "\n",
            "  0%|          | 0/4 [00:00<?, ?it/s]\u001b[A\n",
            " 25%|██▌       | 1/4 [00:00<00:01,  2.01it/s]\u001b[A\n",
            " 50%|█████     | 2/4 [00:01<00:01,  1.75it/s]\u001b[A\n",
            " 75%|███████▌  | 3/4 [00:01<00:00,  1.70it/s]\u001b[A\n",
            "100%|██████████| 4/4 [00:02<00:00,  1.69it/s]\n",
            " 11%|█         | 28/256 [02:23<16:36,  4.37s/it]"
          ]
        },
        {
          "name": "stdout",
          "output_type": "stream",
          "text": [
            "Outputs computed by the models\n",
            "(128, 128, 64)\n"
          ]
        },
        {
          "name": "stderr",
          "output_type": "stream",
          "text": [
            "\n",
            "  0%|          | 0/4 [00:00<?, ?it/s]\u001b[A\n",
            " 25%|██▌       | 1/4 [00:00<00:01,  1.83it/s]\u001b[A\n",
            " 50%|█████     | 2/4 [00:01<00:01,  1.71it/s]\u001b[A\n",
            " 75%|███████▌  | 3/4 [00:01<00:00,  1.67it/s]\u001b[A\n",
            "100%|██████████| 4/4 [00:02<00:00,  1.67it/s]\n",
            " 11%|█▏        | 29/256 [02:28<17:07,  4.53s/it]"
          ]
        },
        {
          "name": "stdout",
          "output_type": "stream",
          "text": [
            "Outputs computed by the models\n",
            "(128, 128, 64)\n"
          ]
        },
        {
          "name": "stderr",
          "output_type": "stream",
          "text": [
            "\n",
            "  0%|          | 0/3 [00:00<?, ?it/s]\u001b[A\n",
            " 33%|███▎      | 1/3 [00:00<00:00,  2.03it/s]\u001b[A\n",
            " 67%|██████▋   | 2/3 [00:01<00:00,  1.75it/s]\u001b[A\n",
            "100%|██████████| 3/3 [00:01<00:00,  1.74it/s]\n",
            " 12%|█▏        | 30/256 [02:32<16:02,  4.26s/it]"
          ]
        },
        {
          "name": "stdout",
          "output_type": "stream",
          "text": [
            "Outputs computed by the models\n",
            "(128, 128, 64)\n"
          ]
        },
        {
          "name": "stderr",
          "output_type": "stream",
          "text": [
            "\n",
            "  0%|          | 0/1 [00:00<?, ?it/s]\u001b[A\n",
            "100%|██████████| 1/1 [00:00<00:00,  2.03it/s]\n",
            " 12%|█▏        | 31/256 [02:34<13:35,  3.62s/it]"
          ]
        },
        {
          "name": "stdout",
          "output_type": "stream",
          "text": [
            "Outputs computed by the models\n",
            "(128, 128, 64)\n"
          ]
        },
        {
          "name": "stderr",
          "output_type": "stream",
          "text": [
            "\n",
            "  0%|          | 0/12 [00:00<?, ?it/s]\u001b[A\n",
            "  8%|▊         | 1/12 [00:00<00:05,  2.02it/s]\u001b[A\n",
            " 17%|█▋        | 2/12 [00:01<00:05,  1.76it/s]\u001b[A\n",
            " 25%|██▌       | 3/12 [00:01<00:05,  1.70it/s]\u001b[A\n",
            " 33%|███▎      | 4/12 [00:02<00:04,  1.66it/s]\u001b[A\n",
            " 42%|████▏     | 5/12 [00:02<00:04,  1.65it/s]\u001b[A\n",
            " 50%|█████     | 6/12 [00:03<00:03,  1.64it/s]\u001b[A\n",
            " 58%|█████▊    | 7/12 [00:04<00:03,  1.63it/s]\u001b[A\n",
            " 67%|██████▋   | 8/12 [00:04<00:02,  1.62it/s]\u001b[A\n",
            " 75%|███████▌  | 9/12 [00:05<00:01,  1.62it/s]\u001b[A\n",
            " 83%|████████▎ | 10/12 [00:06<00:01,  1.62it/s]\u001b[A\n",
            " 92%|█████████▏| 11/12 [00:06<00:00,  1.62it/s]\u001b[A\n",
            "100%|██████████| 12/12 [00:07<00:00,  1.64it/s]\n",
            " 12%|█▎        | 32/256 [02:43<20:07,  5.39s/it]"
          ]
        },
        {
          "name": "stdout",
          "output_type": "stream",
          "text": [
            "Outputs computed by the models\n",
            "(128, 128, 64)\n"
          ]
        },
        {
          "name": "stderr",
          "output_type": "stream",
          "text": [
            "\n",
            "  0%|          | 0/4 [00:00<?, ?it/s]\u001b[A\n",
            " 25%|██▌       | 1/4 [00:00<00:01,  1.82it/s]\u001b[A\n",
            " 50%|█████     | 2/4 [00:01<00:01,  1.69it/s]\u001b[A\n",
            " 75%|███████▌  | 3/4 [00:01<00:00,  1.65it/s]\u001b[A\n",
            "100%|██████████| 4/4 [00:02<00:00,  1.64it/s]\n",
            " 13%|█▎        | 33/256 [02:48<19:07,  5.14s/it]"
          ]
        },
        {
          "name": "stdout",
          "output_type": "stream",
          "text": [
            "Outputs computed by the models\n",
            "(128, 128, 64)\n"
          ]
        },
        {
          "name": "stderr",
          "output_type": "stream",
          "text": [
            "\n",
            "  0%|          | 0/4 [00:00<?, ?it/s]\u001b[A\n",
            " 25%|██▌       | 1/4 [00:00<00:01,  2.02it/s]\u001b[A\n",
            " 50%|█████     | 2/4 [00:01<00:01,  1.75it/s]\u001b[A\n",
            " 75%|███████▌  | 3/4 [00:01<00:00,  1.70it/s]\u001b[A\n",
            "100%|██████████| 4/4 [00:02<00:00,  1.69it/s]\n",
            " 13%|█▎        | 34/256 [02:53<18:34,  5.02s/it]"
          ]
        },
        {
          "name": "stdout",
          "output_type": "stream",
          "text": [
            "Outputs computed by the models\n",
            "(128, 128, 64)\n"
          ]
        },
        {
          "name": "stderr",
          "output_type": "stream",
          "text": [
            "\n",
            "  0%|          | 0/1 [00:00<?, ?it/s]\u001b[A\n",
            "100%|██████████| 1/1 [00:00<00:00,  1.99it/s]\n",
            " 14%|█▎        | 35/256 [02:55<15:23,  4.18s/it]"
          ]
        },
        {
          "name": "stdout",
          "output_type": "stream",
          "text": [
            "Outputs computed by the models\n",
            "(128, 128, 64)\n"
          ]
        },
        {
          "name": "stderr",
          "output_type": "stream",
          "text": [
            "\n",
            "  0%|          | 0/4 [00:00<?, ?it/s]\u001b[A\n",
            " 25%|██▌       | 1/4 [00:00<00:01,  2.00it/s]\u001b[A\n",
            " 50%|█████     | 2/4 [00:01<00:01,  1.72it/s]\u001b[A\n",
            " 75%|███████▌  | 3/4 [00:01<00:00,  1.68it/s]\u001b[A\n",
            "100%|██████████| 4/4 [00:02<00:00,  1.67it/s]\n",
            " 14%|█▍        | 36/256 [02:59<15:26,  4.21s/it]"
          ]
        },
        {
          "name": "stdout",
          "output_type": "stream",
          "text": [
            "Outputs computed by the models\n",
            "(128, 128, 64)\n"
          ]
        },
        {
          "name": "stderr",
          "output_type": "stream",
          "text": [
            "\n",
            "  0%|          | 0/4 [00:00<?, ?it/s]\u001b[A\n",
            " 25%|██▌       | 1/4 [00:00<00:01,  2.00it/s]\u001b[A\n",
            " 50%|█████     | 2/4 [00:01<00:01,  1.72it/s]\u001b[A\n",
            " 75%|███████▌  | 3/4 [00:01<00:00,  1.68it/s]\u001b[A\n",
            "100%|██████████| 4/4 [00:02<00:00,  1.68it/s]\n",
            " 14%|█▍        | 37/256 [03:04<15:50,  4.34s/it]"
          ]
        },
        {
          "name": "stdout",
          "output_type": "stream",
          "text": [
            "Outputs computed by the models\n",
            "(128, 128, 64)\n"
          ]
        },
        {
          "name": "stderr",
          "output_type": "stream",
          "text": [
            "\n",
            "  0%|          | 0/1 [00:00<?, ?it/s]\u001b[A\n",
            "100%|██████████| 1/1 [00:00<00:00,  1.74it/s]\n",
            " 15%|█▍        | 38/256 [03:07<14:31,  4.00s/it]"
          ]
        },
        {
          "name": "stdout",
          "output_type": "stream",
          "text": [
            "Outputs computed by the models\n",
            "(128, 128, 64)\n"
          ]
        },
        {
          "name": "stderr",
          "output_type": "stream",
          "text": [
            "\n",
            "  0%|          | 0/4 [00:00<?, ?it/s]\u001b[A\n",
            " 25%|██▌       | 1/4 [00:00<00:01,  2.00it/s]\u001b[A\n",
            " 50%|█████     | 2/4 [00:01<00:01,  1.74it/s]\u001b[A\n",
            " 75%|███████▌  | 3/4 [00:01<00:00,  1.69it/s]\u001b[A\n",
            "100%|██████████| 4/4 [00:02<00:00,  1.69it/s]\n",
            " 15%|█▌        | 39/256 [03:11<14:45,  4.08s/it]"
          ]
        },
        {
          "name": "stdout",
          "output_type": "stream",
          "text": [
            "Outputs computed by the models\n",
            "(128, 128, 64)\n"
          ]
        },
        {
          "name": "stderr",
          "output_type": "stream",
          "text": [
            "\n",
            "  0%|          | 0/4 [00:00<?, ?it/s]\u001b[A\n",
            " 25%|██▌       | 1/4 [00:00<00:01,  2.00it/s]\u001b[A\n",
            " 50%|█████     | 2/4 [00:01<00:01,  1.72it/s]\u001b[A\n",
            " 75%|███████▌  | 3/4 [00:01<00:00,  1.68it/s]\u001b[A\n",
            "100%|██████████| 4/4 [00:02<00:00,  1.67it/s]\n",
            " 16%|█▌        | 40/256 [03:16<14:54,  4.14s/it]"
          ]
        },
        {
          "name": "stdout",
          "output_type": "stream",
          "text": [
            "Outputs computed by the models\n",
            "(128, 128, 64)\n"
          ]
        },
        {
          "name": "stderr",
          "output_type": "stream",
          "text": [
            "\n",
            "  0%|          | 0/3 [00:00<?, ?it/s]\u001b[A\n",
            " 33%|███▎      | 1/3 [00:00<00:01,  1.98it/s]\u001b[A\n",
            " 67%|██████▋   | 2/3 [00:01<00:00,  1.70it/s]\u001b[A\n",
            "100%|██████████| 3/3 [00:01<00:00,  1.70it/s]\n",
            " 16%|█▌        | 41/256 [03:20<15:10,  4.23s/it]"
          ]
        },
        {
          "name": "stdout",
          "output_type": "stream",
          "text": [
            "Outputs computed by the models\n",
            "(128, 128, 64)\n"
          ]
        },
        {
          "name": "stderr",
          "output_type": "stream",
          "text": [
            "\n",
            "  0%|          | 0/1 [00:00<?, ?it/s]\u001b[A\n",
            "100%|██████████| 1/1 [00:00<00:00,  1.80it/s]\n",
            " 16%|█▋        | 42/256 [03:22<13:05,  3.67s/it]"
          ]
        },
        {
          "name": "stdout",
          "output_type": "stream",
          "text": [
            "Outputs computed by the models\n",
            "(128, 128, 64)\n"
          ]
        },
        {
          "name": "stderr",
          "output_type": "stream",
          "text": [
            "\n",
            "  0%|          | 0/4 [00:00<?, ?it/s]\u001b[A\n",
            " 25%|██▌       | 1/4 [00:00<00:01,  2.00it/s]\u001b[A\n",
            " 50%|█████     | 2/4 [00:01<00:01,  1.74it/s]\u001b[A\n",
            " 75%|███████▌  | 3/4 [00:01<00:00,  1.69it/s]\u001b[A\n",
            "100%|██████████| 4/4 [00:02<00:00,  1.68it/s]\n",
            " 17%|█▋        | 43/256 [03:27<13:43,  3.87s/it]"
          ]
        },
        {
          "name": "stdout",
          "output_type": "stream",
          "text": [
            "Outputs computed by the models\n",
            "(128, 128, 64)\n"
          ]
        },
        {
          "name": "stderr",
          "output_type": "stream",
          "text": [
            "\n",
            "  0%|          | 0/12 [00:00<?, ?it/s]\u001b[A\n",
            "  8%|▊         | 1/12 [00:00<00:05,  2.00it/s]\u001b[A\n",
            " 17%|█▋        | 2/12 [00:01<00:05,  1.71it/s]\u001b[A\n",
            " 25%|██▌       | 3/12 [00:01<00:05,  1.68it/s]\u001b[A\n",
            " 33%|███▎      | 4/12 [00:02<00:04,  1.64it/s]\u001b[A\n",
            " 42%|████▏     | 5/12 [00:03<00:04,  1.62it/s]\u001b[A\n",
            " 50%|█████     | 6/12 [00:03<00:03,  1.62it/s]\u001b[A\n",
            " 58%|█████▊    | 7/12 [00:04<00:03,  1.61it/s]\u001b[A\n",
            " 67%|██████▋   | 8/12 [00:04<00:02,  1.61it/s]\u001b[A\n",
            " 75%|███████▌  | 9/12 [00:05<00:01,  1.60it/s]\u001b[A\n",
            " 83%|████████▎ | 10/12 [00:06<00:01,  1.59it/s]\u001b[A\n",
            " 92%|█████████▏| 11/12 [00:06<00:00,  1.59it/s]\u001b[A\n",
            "100%|██████████| 12/12 [00:07<00:00,  1.62it/s]\n",
            " 17%|█▋        | 44/256 [03:36<19:43,  5.58s/it]"
          ]
        },
        {
          "name": "stdout",
          "output_type": "stream",
          "text": [
            "Outputs computed by the models\n",
            "(128, 128, 64)\n"
          ]
        },
        {
          "name": "stderr",
          "output_type": "stream",
          "text": [
            "\n",
            "  0%|          | 0/1 [00:00<?, ?it/s]\u001b[A\n",
            "100%|██████████| 1/1 [00:00<00:00,  2.00it/s]\n",
            " 18%|█▊        | 45/256 [03:38<15:59,  4.55s/it]"
          ]
        },
        {
          "name": "stdout",
          "output_type": "stream",
          "text": [
            "Outputs computed by the models\n",
            "(128, 128, 64)\n"
          ]
        },
        {
          "name": "stderr",
          "output_type": "stream",
          "text": [
            "\n",
            "  0%|          | 0/4 [00:00<?, ?it/s]\u001b[A\n",
            " 25%|██▌       | 1/4 [00:00<00:01,  2.00it/s]\u001b[A\n",
            " 50%|█████     | 2/4 [00:01<00:01,  1.73it/s]\u001b[A\n",
            " 75%|███████▌  | 3/4 [00:01<00:00,  1.68it/s]\u001b[A\n",
            "100%|██████████| 4/4 [00:02<00:00,  1.67it/s]\n",
            " 18%|█▊        | 46/256 [03:43<15:40,  4.48s/it]"
          ]
        },
        {
          "name": "stdout",
          "output_type": "stream",
          "text": [
            "Outputs computed by the models\n",
            "(128, 128, 64)\n"
          ]
        },
        {
          "name": "stderr",
          "output_type": "stream",
          "text": [
            "\n",
            "  0%|          | 0/12 [00:00<?, ?it/s]\u001b[A\n",
            "  8%|▊         | 1/12 [00:00<00:05,  2.01it/s]\u001b[A\n",
            " 17%|█▋        | 2/12 [00:01<00:05,  1.74it/s]\u001b[A\n",
            " 25%|██▌       | 3/12 [00:01<00:05,  1.69it/s]\u001b[A\n",
            " 33%|███▎      | 4/12 [00:02<00:04,  1.65it/s]\u001b[A\n",
            " 42%|████▏     | 5/12 [00:02<00:04,  1.63it/s]\u001b[A\n",
            " 50%|█████     | 6/12 [00:03<00:03,  1.62it/s]\u001b[A\n",
            " 58%|█████▊    | 7/12 [00:04<00:03,  1.61it/s]\u001b[A\n",
            " 67%|██████▋   | 8/12 [00:04<00:02,  1.61it/s]\u001b[A\n",
            " 75%|███████▌  | 9/12 [00:05<00:01,  1.60it/s]\u001b[A\n",
            " 83%|████████▎ | 10/12 [00:06<00:01,  1.60it/s]\u001b[A\n",
            " 92%|█████████▏| 11/12 [00:06<00:00,  1.60it/s]\u001b[A\n",
            "100%|██████████| 12/12 [00:07<00:00,  1.63it/s]\n",
            " 18%|█▊        | 47/256 [03:52<20:59,  6.03s/it]"
          ]
        },
        {
          "name": "stdout",
          "output_type": "stream",
          "text": [
            "Outputs computed by the models\n",
            "(128, 128, 64)\n"
          ]
        },
        {
          "name": "stderr",
          "output_type": "stream",
          "text": [
            "\n",
            "  0%|          | 0/4 [00:00<?, ?it/s]\u001b[A\n",
            " 25%|██▌       | 1/4 [00:00<00:01,  1.99it/s]\u001b[A\n",
            " 50%|█████     | 2/4 [00:01<00:01,  1.72it/s]\u001b[A\n",
            " 75%|███████▌  | 3/4 [00:01<00:00,  1.67it/s]\u001b[A\n",
            "100%|██████████| 4/4 [00:02<00:00,  1.67it/s]\n",
            " 19%|█▉        | 48/256 [03:57<19:04,  5.50s/it]"
          ]
        },
        {
          "name": "stdout",
          "output_type": "stream",
          "text": [
            "Outputs computed by the models\n",
            "(128, 128, 64)\n"
          ]
        },
        {
          "name": "stderr",
          "output_type": "stream",
          "text": [
            "\n",
            "  0%|          | 0/4 [00:00<?, ?it/s]\u001b[A\n",
            " 25%|██▌       | 1/4 [00:00<00:01,  2.01it/s]\u001b[A\n",
            " 50%|█████     | 2/4 [00:01<00:01,  1.73it/s]\u001b[A\n",
            " 75%|███████▌  | 3/4 [00:01<00:00,  1.69it/s]\u001b[A\n",
            "100%|██████████| 4/4 [00:02<00:00,  1.68it/s]\n",
            " 19%|█▉        | 49/256 [04:01<18:13,  5.28s/it]"
          ]
        },
        {
          "name": "stdout",
          "output_type": "stream",
          "text": [
            "Outputs computed by the models\n",
            "(128, 128, 64)\n"
          ]
        },
        {
          "name": "stderr",
          "output_type": "stream",
          "text": [
            "\n",
            "  0%|          | 0/12 [00:00<?, ?it/s]\u001b[A\n",
            "  8%|▊         | 1/12 [00:00<00:06,  1.79it/s]\u001b[A\n",
            " 17%|█▋        | 2/12 [00:01<00:05,  1.68it/s]\u001b[A\n",
            " 25%|██▌       | 3/12 [00:01<00:05,  1.66it/s]\u001b[A\n",
            " 33%|███▎      | 4/12 [00:02<00:04,  1.63it/s]\u001b[A\n",
            " 42%|████▏     | 5/12 [00:03<00:04,  1.63it/s]\u001b[A\n",
            " 50%|█████     | 6/12 [00:03<00:03,  1.62it/s]\u001b[A\n",
            " 58%|█████▊    | 7/12 [00:04<00:03,  1.61it/s]\u001b[A\n",
            " 67%|██████▋   | 8/12 [00:04<00:02,  1.61it/s]\u001b[A\n",
            " 75%|███████▌  | 9/12 [00:05<00:01,  1.61it/s]\u001b[A\n",
            " 83%|████████▎ | 10/12 [00:06<00:01,  1.61it/s]\u001b[A\n",
            " 92%|█████████▏| 11/12 [00:06<00:00,  1.61it/s]\u001b[A\n",
            "100%|██████████| 12/12 [00:07<00:00,  1.62it/s]\n",
            " 20%|█▉        | 50/256 [04:11<22:47,  6.64s/it]"
          ]
        },
        {
          "name": "stdout",
          "output_type": "stream",
          "text": [
            "Outputs computed by the models\n",
            "(128, 128, 64)\n"
          ]
        },
        {
          "name": "stderr",
          "output_type": "stream",
          "text": [
            "\n",
            "  0%|          | 0/1 [00:00<?, ?it/s]\u001b[A\n",
            "100%|██████████| 1/1 [00:00<00:00,  2.01it/s]\n"
          ]
        },
        {
          "name": "stdout",
          "output_type": "stream",
          "text": [
            "Outputs computed by the models\n"
          ]
        },
        {
          "name": "stderr",
          "output_type": "stream",
          "text": [
            "\r 20%|█▉        | 51/256 [04:14<18:31,  5.42s/it]"
          ]
        },
        {
          "name": "stdout",
          "output_type": "stream",
          "text": [
            "(128, 128, 64)\n"
          ]
        },
        {
          "name": "stderr",
          "output_type": "stream",
          "text": [
            "\n",
            "  0%|          | 0/1 [00:00<?, ?it/s]\u001b[A\n",
            "100%|██████████| 1/1 [00:00<00:00,  1.81it/s]\n",
            " 20%|██        | 52/256 [04:17<15:47,  4.64s/it]"
          ]
        },
        {
          "name": "stdout",
          "output_type": "stream",
          "text": [
            "Outputs computed by the models\n",
            "(128, 128, 64)\n"
          ]
        },
        {
          "name": "stderr",
          "output_type": "stream",
          "text": [
            "\n",
            "  0%|          | 0/12 [00:00<?, ?it/s]\u001b[A\n",
            "  8%|▊         | 1/12 [00:00<00:05,  2.03it/s]\u001b[A\n",
            " 17%|█▋        | 2/12 [00:01<00:05,  1.76it/s]\u001b[A\n",
            " 25%|██▌       | 3/12 [00:01<00:05,  1.70it/s]\u001b[A\n",
            " 33%|███▎      | 4/12 [00:02<00:04,  1.66it/s]\u001b[A\n",
            " 42%|████▏     | 5/12 [00:02<00:04,  1.65it/s]\u001b[A\n",
            " 50%|█████     | 6/12 [00:03<00:03,  1.64it/s]\u001b[A\n",
            " 58%|█████▊    | 7/12 [00:04<00:03,  1.63it/s]\u001b[A\n",
            " 67%|██████▋   | 8/12 [00:04<00:02,  1.62it/s]\u001b[A\n",
            " 75%|███████▌  | 9/12 [00:05<00:01,  1.62it/s]\u001b[A\n",
            " 83%|████████▎ | 10/12 [00:06<00:01,  1.62it/s]\u001b[A\n",
            " 92%|█████████▏| 11/12 [00:06<00:00,  1.62it/s]\u001b[A\n",
            "100%|██████████| 12/12 [00:07<00:00,  1.64it/s]\n",
            " 21%|██        | 53/256 [04:26<20:35,  6.08s/it]"
          ]
        },
        {
          "name": "stdout",
          "output_type": "stream",
          "text": [
            "Outputs computed by the models\n",
            "(128, 128, 64)\n"
          ]
        },
        {
          "name": "stderr",
          "output_type": "stream",
          "text": [
            "\n",
            "  0%|          | 0/1 [00:00<?, ?it/s]\u001b[A\n",
            "100%|██████████| 1/1 [00:00<00:00,  1.83it/s]\n",
            " 21%|██        | 54/256 [04:29<17:27,  5.19s/it]"
          ]
        },
        {
          "name": "stdout",
          "output_type": "stream",
          "text": [
            "Outputs computed by the models\n",
            "(128, 128, 64)\n"
          ]
        },
        {
          "name": "stderr",
          "output_type": "stream",
          "text": [
            "\n",
            "  0%|          | 0/12 [00:00<?, ?it/s]\u001b[A\n",
            "  8%|▊         | 1/12 [00:00<00:06,  1.83it/s]\u001b[A\n",
            " 17%|█▋        | 2/12 [00:01<00:05,  1.70it/s]\u001b[A\n",
            " 25%|██▌       | 3/12 [00:01<00:05,  1.66it/s]\u001b[A\n",
            " 33%|███▎      | 4/12 [00:02<00:04,  1.63it/s]\u001b[A\n",
            " 42%|████▏     | 5/12 [00:03<00:04,  1.63it/s]\u001b[A\n",
            " 50%|█████     | 6/12 [00:03<00:03,  1.62it/s]\u001b[A\n",
            " 58%|█████▊    | 7/12 [00:04<00:03,  1.62it/s]\u001b[A\n",
            " 67%|██████▋   | 8/12 [00:04<00:02,  1.62it/s]\u001b[A\n",
            " 75%|███████▌  | 9/12 [00:05<00:01,  1.61it/s]\u001b[A\n",
            " 83%|████████▎ | 10/12 [00:06<00:01,  1.61it/s]\u001b[A\n",
            " 92%|█████████▏| 11/12 [00:06<00:00,  1.61it/s]\u001b[A\n",
            "100%|██████████| 12/12 [00:07<00:00,  1.62it/s]\n",
            " 21%|██▏       | 55/256 [04:39<22:19,  6.66s/it]"
          ]
        },
        {
          "name": "stdout",
          "output_type": "stream",
          "text": [
            "Outputs computed by the models\n",
            "(128, 128, 64)\n"
          ]
        },
        {
          "name": "stderr",
          "output_type": "stream",
          "text": [
            "\n",
            "  0%|          | 0/4 [00:00<?, ?it/s]\u001b[A\n",
            " 25%|██▌       | 1/4 [00:00<00:01,  2.01it/s]\u001b[A\n",
            " 50%|█████     | 2/4 [00:01<00:01,  1.74it/s]\u001b[A\n",
            " 75%|███████▌  | 3/4 [00:01<00:00,  1.69it/s]\u001b[A\n",
            "100%|██████████| 4/4 [00:02<00:00,  1.68it/s]\n",
            " 22%|██▏       | 56/256 [04:44<20:15,  6.08s/it]"
          ]
        },
        {
          "name": "stdout",
          "output_type": "stream",
          "text": [
            "Outputs computed by the models\n",
            "(128, 128, 64)\n"
          ]
        },
        {
          "name": "stderr",
          "output_type": "stream",
          "text": [
            "\n",
            "  0%|          | 0/1 [00:00<?, ?it/s]\u001b[A\n",
            "100%|██████████| 1/1 [00:00<00:00,  2.00it/s]\n",
            " 22%|██▏       | 57/256 [04:46<16:19,  4.92s/it]"
          ]
        },
        {
          "name": "stdout",
          "output_type": "stream",
          "text": [
            "Outputs computed by the models\n",
            "(128, 128, 64)\n"
          ]
        },
        {
          "name": "stderr",
          "output_type": "stream",
          "text": [
            "\n",
            "  0%|          | 0/12 [00:00<?, ?it/s]\u001b[A\n",
            "  8%|▊         | 1/12 [00:00<00:05,  1.85it/s]\u001b[A\n",
            " 17%|█▋        | 2/12 [00:01<00:05,  1.70it/s]\u001b[A\n",
            " 25%|██▌       | 3/12 [00:01<00:05,  1.67it/s]\u001b[A\n",
            " 33%|███▎      | 4/12 [00:02<00:04,  1.64it/s]\u001b[A\n",
            " 42%|████▏     | 5/12 [00:03<00:04,  1.63it/s]\u001b[A\n",
            " 50%|█████     | 6/12 [00:03<00:03,  1.62it/s]\u001b[A\n",
            " 58%|█████▊    | 7/12 [00:04<00:03,  1.62it/s]\u001b[A\n",
            " 67%|██████▋   | 8/12 [00:04<00:02,  1.62it/s]\u001b[A\n",
            " 75%|███████▌  | 9/12 [00:05<00:01,  1.61it/s]\u001b[A\n",
            " 83%|████████▎ | 10/12 [00:06<00:01,  1.61it/s]\u001b[A\n",
            " 92%|█████████▏| 11/12 [00:06<00:00,  1.61it/s]\u001b[A\n",
            "100%|██████████| 12/12 [00:07<00:00,  1.62it/s]\n",
            " 23%|██▎       | 58/256 [04:57<21:59,  6.66s/it]"
          ]
        },
        {
          "name": "stdout",
          "output_type": "stream",
          "text": [
            "Outputs computed by the models\n",
            "(128, 128, 64)\n"
          ]
        },
        {
          "name": "stderr",
          "output_type": "stream",
          "text": [
            "\n",
            "  0%|          | 0/4 [00:00<?, ?it/s]\u001b[A\n",
            " 25%|██▌       | 1/4 [00:00<00:01,  1.78it/s]\u001b[A\n",
            " 50%|█████     | 2/4 [00:01<00:01,  1.69it/s]\u001b[A\n",
            " 75%|███████▌  | 3/4 [00:01<00:00,  1.66it/s]\u001b[A\n",
            "100%|██████████| 4/4 [00:02<00:00,  1.66it/s]\n",
            " 23%|██▎       | 59/256 [05:01<19:42,  6.00s/it]"
          ]
        },
        {
          "name": "stdout",
          "output_type": "stream",
          "text": [
            "Outputs computed by the models\n",
            "(128, 128, 64)\n"
          ]
        },
        {
          "name": "stderr",
          "output_type": "stream",
          "text": [
            "\n",
            "  0%|          | 0/1 [00:00<?, ?it/s]\u001b[A\n",
            "100%|██████████| 1/1 [00:00<00:00,  2.01it/s]\n",
            " 23%|██▎       | 60/256 [05:04<15:47,  4.83s/it]"
          ]
        },
        {
          "name": "stdout",
          "output_type": "stream",
          "text": [
            "Outputs computed by the models\n",
            "(128, 128, 64)\n"
          ]
        },
        {
          "name": "stderr",
          "output_type": "stream",
          "text": [
            "\n",
            "  0%|          | 0/4 [00:00<?, ?it/s]\u001b[A\n",
            " 25%|██▌       | 1/4 [00:00<00:01,  2.01it/s]\u001b[A\n",
            " 50%|█████     | 2/4 [00:01<00:01,  1.72it/s]\u001b[A\n",
            " 75%|███████▌  | 3/4 [00:01<00:00,  1.68it/s]\u001b[A\n",
            "100%|██████████| 4/4 [00:02<00:00,  1.67it/s]\n",
            " 24%|██▍       | 61/256 [05:08<15:10,  4.67s/it]"
          ]
        },
        {
          "name": "stdout",
          "output_type": "stream",
          "text": [
            "Outputs computed by the models\n",
            "(128, 128, 64)\n"
          ]
        },
        {
          "name": "stderr",
          "output_type": "stream",
          "text": [
            "\n",
            "  0%|          | 0/12 [00:00<?, ?it/s]\u001b[A\n",
            "  8%|▊         | 1/12 [00:00<00:06,  1.80it/s]\u001b[A\n",
            " 17%|█▋        | 2/12 [00:01<00:05,  1.68it/s]\u001b[A\n",
            " 25%|██▌       | 3/12 [00:01<00:05,  1.66it/s]\u001b[A\n",
            " 33%|███▎      | 4/12 [00:02<00:04,  1.64it/s]\u001b[A\n",
            " 42%|████▏     | 5/12 [00:03<00:04,  1.63it/s]\u001b[A\n",
            " 50%|█████     | 6/12 [00:03<00:03,  1.62it/s]\u001b[A\n",
            " 58%|█████▊    | 7/12 [00:04<00:03,  1.61it/s]\u001b[A\n",
            " 67%|██████▋   | 8/12 [00:04<00:02,  1.61it/s]\u001b[A\n",
            " 75%|███████▌  | 9/12 [00:05<00:01,  1.60it/s]\u001b[A\n",
            " 83%|████████▎ | 10/12 [00:06<00:01,  1.60it/s]\u001b[A\n",
            " 92%|█████████▏| 11/12 [00:06<00:00,  1.60it/s]\u001b[A\n",
            "100%|██████████| 12/12 [00:07<00:00,  1.62it/s]\n",
            " 24%|██▍       | 62/256 [05:18<20:21,  6.30s/it]"
          ]
        },
        {
          "name": "stdout",
          "output_type": "stream",
          "text": [
            "Outputs computed by the models\n",
            "(128, 128, 64)\n"
          ]
        },
        {
          "name": "stderr",
          "output_type": "stream",
          "text": [
            "\n",
            "  0%|          | 0/12 [00:00<?, ?it/s]\u001b[A\n",
            "  8%|▊         | 1/12 [00:00<00:05,  2.00it/s]\u001b[A\n",
            " 17%|█▋        | 2/12 [00:01<00:05,  1.72it/s]\u001b[A\n",
            " 25%|██▌       | 3/12 [00:01<00:05,  1.68it/s]\u001b[A\n",
            " 33%|███▎      | 4/12 [00:02<00:04,  1.63it/s]\u001b[A\n",
            " 42%|████▏     | 5/12 [00:03<00:04,  1.62it/s]\u001b[A\n",
            " 50%|█████     | 6/12 [00:03<00:03,  1.61it/s]\u001b[A\n",
            " 58%|█████▊    | 7/12 [00:04<00:03,  1.60it/s]\u001b[A\n",
            " 67%|██████▋   | 8/12 [00:04<00:02,  1.60it/s]\u001b[A\n",
            " 75%|███████▌  | 9/12 [00:05<00:01,  1.60it/s]\u001b[A\n",
            " 83%|████████▎ | 10/12 [00:06<00:01,  1.59it/s]\u001b[A\n",
            " 92%|█████████▏| 11/12 [00:06<00:00,  1.59it/s]\u001b[A\n",
            "100%|██████████| 12/12 [00:07<00:00,  1.61it/s]\n",
            " 25%|██▍       | 63/256 [05:28<23:28,  7.30s/it]"
          ]
        },
        {
          "name": "stdout",
          "output_type": "stream",
          "text": [
            "Outputs computed by the models\n",
            "(128, 128, 64)\n"
          ]
        },
        {
          "name": "stderr",
          "output_type": "stream",
          "text": [
            "\n",
            "  0%|          | 0/4 [00:00<?, ?it/s]\u001b[A\n",
            " 25%|██▌       | 1/4 [00:00<00:01,  1.99it/s]\u001b[A\n",
            " 50%|█████     | 2/4 [00:01<00:01,  1.71it/s]\u001b[A\n",
            " 75%|███████▌  | 3/4 [00:01<00:00,  1.68it/s]\u001b[A\n",
            "100%|██████████| 4/4 [00:02<00:00,  1.67it/s]\n",
            " 25%|██▌       | 64/256 [05:32<20:27,  6.39s/it]"
          ]
        },
        {
          "name": "stdout",
          "output_type": "stream",
          "text": [
            "Outputs computed by the models\n",
            "(128, 128, 64)\n"
          ]
        },
        {
          "name": "stderr",
          "output_type": "stream",
          "text": [
            "\n",
            "  0%|          | 0/4 [00:00<?, ?it/s]\u001b[A\n",
            " 25%|██▌       | 1/4 [00:00<00:01,  2.02it/s]\u001b[A\n",
            " 50%|█████     | 2/4 [00:01<00:01,  1.74it/s]\u001b[A\n",
            " 75%|███████▌  | 3/4 [00:01<00:00,  1.70it/s]\u001b[A\n",
            "100%|██████████| 4/4 [00:02<00:00,  1.70it/s]\n",
            " 25%|██▌       | 65/256 [05:36<18:08,  5.70s/it]"
          ]
        },
        {
          "name": "stdout",
          "output_type": "stream",
          "text": [
            "Outputs computed by the models\n",
            "(128, 128, 64)\n"
          ]
        },
        {
          "name": "stderr",
          "output_type": "stream",
          "text": [
            "\n",
            "  0%|          | 0/4 [00:00<?, ?it/s]\u001b[A\n",
            " 25%|██▌       | 1/4 [00:00<00:01,  2.04it/s]\u001b[A\n",
            " 50%|█████     | 2/4 [00:01<00:01,  1.75it/s]\u001b[A\n",
            " 75%|███████▌  | 3/4 [00:01<00:00,  1.70it/s]\u001b[A\n",
            "100%|██████████| 4/4 [00:02<00:00,  1.70it/s]\n",
            " 26%|██▌       | 66/256 [05:41<16:58,  5.36s/it]"
          ]
        },
        {
          "name": "stdout",
          "output_type": "stream",
          "text": [
            "Outputs computed by the models\n",
            "(128, 128, 64)\n"
          ]
        },
        {
          "name": "stderr",
          "output_type": "stream",
          "text": [
            "\n",
            "  0%|          | 0/12 [00:00<?, ?it/s]\u001b[A\n",
            "  8%|▊         | 1/12 [00:00<00:06,  1.81it/s]\u001b[A\n",
            " 17%|█▋        | 2/12 [00:01<00:05,  1.70it/s]\u001b[A\n",
            " 25%|██▌       | 3/12 [00:01<00:05,  1.66it/s]\u001b[A\n",
            " 33%|███▎      | 4/12 [00:02<00:04,  1.64it/s]\u001b[A\n",
            " 42%|████▏     | 5/12 [00:03<00:04,  1.64it/s]\u001b[A\n",
            " 50%|█████     | 6/12 [00:03<00:03,  1.63it/s]\u001b[A\n",
            " 58%|█████▊    | 7/12 [00:04<00:03,  1.62it/s]\u001b[A\n",
            " 67%|██████▋   | 8/12 [00:04<00:02,  1.62it/s]\u001b[A\n",
            " 75%|███████▌  | 9/12 [00:05<00:01,  1.62it/s]\u001b[A\n",
            " 83%|████████▎ | 10/12 [00:06<00:01,  1.62it/s]\u001b[A\n",
            " 92%|█████████▏| 11/12 [00:06<00:00,  1.62it/s]\u001b[A\n",
            "100%|██████████| 12/12 [00:07<00:00,  1.63it/s]\n",
            " 26%|██▌       | 67/256 [05:51<21:34,  6.85s/it]"
          ]
        },
        {
          "name": "stdout",
          "output_type": "stream",
          "text": [
            "Outputs computed by the models\n",
            "(128, 128, 64)\n"
          ]
        },
        {
          "name": "stderr",
          "output_type": "stream",
          "text": [
            "\n",
            "  0%|          | 0/2 [00:00<?, ?it/s]\u001b[A\n",
            " 50%|█████     | 1/2 [00:00<00:00,  1.85it/s]\u001b[A\n",
            "100%|██████████| 2/2 [00:01<00:00,  1.72it/s]\n",
            " 27%|██▋       | 68/256 [05:55<18:51,  6.02s/it]"
          ]
        },
        {
          "name": "stdout",
          "output_type": "stream",
          "text": [
            "Outputs computed by the models\n",
            "(128, 128, 64)\n"
          ]
        },
        {
          "name": "stderr",
          "output_type": "stream",
          "text": [
            "\n",
            "  0%|          | 0/4 [00:00<?, ?it/s]\u001b[A\n",
            " 25%|██▌       | 1/4 [00:00<00:01,  2.02it/s]\u001b[A\n",
            " 50%|█████     | 2/4 [00:01<00:01,  1.74it/s]\u001b[A\n",
            " 75%|███████▌  | 3/4 [00:01<00:00,  1.70it/s]\u001b[A\n",
            "100%|██████████| 4/4 [00:02<00:00,  1.69it/s]\n",
            " 27%|██▋       | 69/256 [05:59<17:08,  5.50s/it]"
          ]
        },
        {
          "name": "stdout",
          "output_type": "stream",
          "text": [
            "Outputs computed by the models\n",
            "(128, 128, 64)\n"
          ]
        },
        {
          "name": "stderr",
          "output_type": "stream",
          "text": [
            "\n",
            "  0%|          | 0/1 [00:00<?, ?it/s]\u001b[A\n",
            "100%|██████████| 1/1 [00:00<00:00,  2.00it/s]\n",
            " 27%|██▋       | 70/256 [06:01<14:00,  4.52s/it]"
          ]
        },
        {
          "name": "stdout",
          "output_type": "stream",
          "text": [
            "Outputs computed by the models\n",
            "(128, 128, 64)\n"
          ]
        },
        {
          "name": "stderr",
          "output_type": "stream",
          "text": [
            "\n",
            "  0%|          | 0/4 [00:00<?, ?it/s]\u001b[A\n",
            " 25%|██▌       | 1/4 [00:00<00:01,  2.01it/s]\u001b[A\n",
            " 50%|█████     | 2/4 [00:01<00:01,  1.74it/s]\u001b[A\n",
            " 75%|███████▌  | 3/4 [00:01<00:00,  1.70it/s]\u001b[A\n",
            "100%|██████████| 4/4 [00:02<00:00,  1.69it/s]\n",
            " 28%|██▊       | 71/256 [06:06<14:08,  4.58s/it]"
          ]
        },
        {
          "name": "stdout",
          "output_type": "stream",
          "text": [
            "Outputs computed by the models\n",
            "(128, 128, 64)\n"
          ]
        },
        {
          "name": "stderr",
          "output_type": "stream",
          "text": [
            "\n",
            "  0%|          | 0/1 [00:00<?, ?it/s]\u001b[A\n",
            "100%|██████████| 1/1 [00:00<00:00,  1.78it/s]\n",
            " 28%|██▊       | 72/256 [06:09<12:37,  4.11s/it]"
          ]
        },
        {
          "name": "stdout",
          "output_type": "stream",
          "text": [
            "Outputs computed by the models\n",
            "(128, 128, 64)\n"
          ]
        },
        {
          "name": "stderr",
          "output_type": "stream",
          "text": [
            "\n",
            "  0%|          | 0/12 [00:00<?, ?it/s]\u001b[A\n",
            "  8%|▊         | 1/12 [00:00<00:05,  2.01it/s]\u001b[A\n",
            " 17%|█▋        | 2/12 [00:01<00:05,  1.75it/s]\u001b[A\n",
            " 25%|██▌       | 3/12 [00:01<00:05,  1.70it/s]\u001b[A\n",
            " 33%|███▎      | 4/12 [00:02<00:04,  1.66it/s]\u001b[A\n",
            " 42%|████▏     | 5/12 [00:02<00:04,  1.64it/s]\u001b[A\n",
            " 50%|█████     | 6/12 [00:03<00:03,  1.64it/s]\u001b[A\n",
            " 58%|█████▊    | 7/12 [00:04<00:03,  1.63it/s]\u001b[A\n",
            " 67%|██████▋   | 8/12 [00:04<00:02,  1.63it/s]\u001b[A\n",
            " 75%|███████▌  | 9/12 [00:05<00:01,  1.62it/s]\u001b[A\n",
            " 83%|████████▎ | 10/12 [00:06<00:01,  1.62it/s]\u001b[A\n",
            " 92%|█████████▏| 11/12 [00:06<00:00,  1.62it/s]\u001b[A\n",
            "100%|██████████| 12/12 [00:07<00:00,  1.64it/s]\n",
            " 29%|██▊       | 73/256 [06:19<17:24,  5.71s/it]"
          ]
        },
        {
          "name": "stdout",
          "output_type": "stream",
          "text": [
            "Outputs computed by the models\n",
            "(128, 128, 64)\n"
          ]
        },
        {
          "name": "stderr",
          "output_type": "stream",
          "text": [
            "\n",
            "  0%|          | 0/12 [00:00<?, ?it/s]\u001b[A\n",
            "  8%|▊         | 1/12 [00:00<00:06,  1.83it/s]\u001b[A\n",
            " 17%|█▋        | 2/12 [00:01<00:05,  1.68it/s]\u001b[A\n",
            " 25%|██▌       | 3/12 [00:01<00:05,  1.66it/s]\u001b[A\n",
            " 33%|███▎      | 4/12 [00:02<00:04,  1.63it/s]\u001b[A\n",
            " 42%|████▏     | 5/12 [00:03<00:04,  1.63it/s]\u001b[A\n",
            " 50%|█████     | 6/12 [00:03<00:03,  1.62it/s]\u001b[A\n",
            " 58%|█████▊    | 7/12 [00:04<00:03,  1.61it/s]\u001b[A\n",
            " 67%|██████▋   | 8/12 [00:04<00:02,  1.61it/s]\u001b[A\n",
            " 75%|███████▌  | 9/12 [00:05<00:01,  1.61it/s]\u001b[A\n",
            " 83%|████████▎ | 10/12 [00:06<00:01,  1.61it/s]\u001b[A\n",
            " 92%|█████████▏| 11/12 [00:06<00:00,  1.61it/s]\u001b[A\n",
            "100%|██████████| 12/12 [00:07<00:00,  1.62it/s]\n",
            " 29%|██▉       | 74/256 [06:29<21:21,  7.04s/it]"
          ]
        },
        {
          "name": "stdout",
          "output_type": "stream",
          "text": [
            "Outputs computed by the models\n",
            "(128, 128, 64)\n"
          ]
        },
        {
          "name": "stderr",
          "output_type": "stream",
          "text": [
            "\n",
            "  0%|          | 0/4 [00:00<?, ?it/s]\u001b[A\n",
            " 25%|██▌       | 1/4 [00:00<00:01,  2.00it/s]\u001b[A\n",
            " 50%|█████     | 2/4 [00:01<00:01,  1.73it/s]\u001b[A\n",
            " 75%|███████▌  | 3/4 [00:01<00:00,  1.70it/s]\u001b[A\n",
            "100%|██████████| 4/4 [00:02<00:00,  1.69it/s]\n",
            " 29%|██▉       | 75/256 [06:33<18:31,  6.14s/it]"
          ]
        },
        {
          "name": "stdout",
          "output_type": "stream",
          "text": [
            "Outputs computed by the models\n",
            "(128, 128, 64)\n"
          ]
        },
        {
          "name": "stderr",
          "output_type": "stream",
          "text": [
            "\n",
            "  0%|          | 0/1 [00:00<?, ?it/s]\u001b[A\n",
            "100%|██████████| 1/1 [00:00<00:00,  1.99it/s]\n",
            " 30%|██▉       | 76/256 [06:35<14:51,  4.95s/it]"
          ]
        },
        {
          "name": "stdout",
          "output_type": "stream",
          "text": [
            "Outputs computed by the models\n",
            "(128, 128, 64)\n"
          ]
        },
        {
          "name": "stderr",
          "output_type": "stream",
          "text": [
            "\n",
            "  0%|          | 0/4 [00:00<?, ?it/s]\u001b[A\n",
            " 25%|██▌       | 1/4 [00:00<00:01,  1.82it/s]\u001b[A\n",
            " 50%|█████     | 2/4 [00:01<00:01,  1.68it/s]\u001b[A\n",
            " 75%|███████▌  | 3/4 [00:01<00:00,  1.65it/s]\u001b[A\n",
            "100%|██████████| 4/4 [00:02<00:00,  1.64it/s]\n",
            " 30%|███       | 77/256 [06:40<14:50,  4.98s/it]"
          ]
        },
        {
          "name": "stdout",
          "output_type": "stream",
          "text": [
            "Outputs computed by the models\n",
            "(128, 128, 64)\n"
          ]
        },
        {
          "name": "stderr",
          "output_type": "stream",
          "text": [
            "\n",
            "  0%|          | 0/1 [00:00<?, ?it/s]\u001b[A\n",
            "100%|██████████| 1/1 [00:00<00:00,  1.99it/s]\n",
            " 30%|███       | 78/256 [06:42<12:18,  4.15s/it]"
          ]
        },
        {
          "name": "stdout",
          "output_type": "stream",
          "text": [
            "Outputs computed by the models\n",
            "(128, 128, 64)\n"
          ]
        },
        {
          "name": "stderr",
          "output_type": "stream",
          "text": [
            "\n",
            "  0%|          | 0/4 [00:00<?, ?it/s]\u001b[A\n",
            " 25%|██▌       | 1/4 [00:00<00:01,  2.02it/s]\u001b[A\n",
            " 50%|█████     | 2/4 [00:01<00:01,  1.76it/s]\u001b[A\n",
            " 75%|███████▌  | 3/4 [00:01<00:00,  1.71it/s]\u001b[A\n",
            "100%|██████████| 4/4 [00:02<00:00,  1.71it/s]\n",
            " 31%|███       | 79/256 [06:46<12:06,  4.10s/it]"
          ]
        },
        {
          "name": "stdout",
          "output_type": "stream",
          "text": [
            "Outputs computed by the models\n",
            "(128, 128, 64)\n"
          ]
        },
        {
          "name": "stderr",
          "output_type": "stream",
          "text": [
            "\n",
            "  0%|          | 0/4 [00:00<?, ?it/s]\u001b[A\n",
            " 25%|██▌       | 1/4 [00:00<00:01,  1.80it/s]\u001b[A\n",
            " 50%|█████     | 2/4 [00:01<00:01,  1.68it/s]\u001b[A\n",
            " 75%|███████▌  | 3/4 [00:01<00:00,  1.65it/s]\u001b[A\n",
            "100%|██████████| 4/4 [00:02<00:00,  1.65it/s]\n",
            " 31%|███▏      | 80/256 [06:51<12:51,  4.38s/it]"
          ]
        },
        {
          "name": "stdout",
          "output_type": "stream",
          "text": [
            "Outputs computed by the models\n",
            "(128, 128, 64)\n"
          ]
        },
        {
          "name": "stderr",
          "output_type": "stream",
          "text": [
            "\n",
            "  0%|          | 0/1 [00:00<?, ?it/s]\u001b[A\n",
            "100%|██████████| 1/1 [00:00<00:00,  1.79it/s]\n",
            " 32%|███▏      | 81/256 [06:54<11:22,  3.90s/it]"
          ]
        },
        {
          "name": "stdout",
          "output_type": "stream",
          "text": [
            "Outputs computed by the models\n",
            "(128, 128, 64)\n"
          ]
        },
        {
          "name": "stderr",
          "output_type": "stream",
          "text": [
            "\n",
            "  0%|          | 0/1 [00:00<?, ?it/s]\u001b[A\n",
            "100%|██████████| 1/1 [00:00<00:00,  1.98it/s]\n",
            " 32%|███▏      | 82/256 [06:56<09:19,  3.22s/it]"
          ]
        },
        {
          "name": "stdout",
          "output_type": "stream",
          "text": [
            "Outputs computed by the models\n",
            "(128, 128, 64)\n"
          ]
        },
        {
          "name": "stderr",
          "output_type": "stream",
          "text": [
            "\n",
            "  0%|          | 0/12 [00:00<?, ?it/s]\u001b[A\n",
            "  8%|▊         | 1/12 [00:00<00:05,  2.01it/s]\u001b[A\n",
            " 17%|█▋        | 2/12 [00:01<00:05,  1.72it/s]\u001b[A\n",
            " 25%|██▌       | 3/12 [00:01<00:05,  1.68it/s]\u001b[A\n",
            " 33%|███▎      | 4/12 [00:02<00:04,  1.65it/s]\u001b[A\n",
            " 42%|████▏     | 5/12 [00:03<00:04,  1.62it/s]\u001b[A\n",
            " 50%|█████     | 6/12 [00:03<00:03,  1.62it/s]\u001b[A\n",
            " 58%|█████▊    | 7/12 [00:04<00:03,  1.61it/s]\u001b[A\n",
            " 67%|██████▋   | 8/12 [00:04<00:02,  1.61it/s]\u001b[A\n",
            " 75%|███████▌  | 9/12 [00:05<00:01,  1.61it/s]\u001b[A\n",
            " 83%|████████▎ | 10/12 [00:06<00:01,  1.60it/s]\u001b[A\n",
            " 92%|█████████▏| 11/12 [00:06<00:00,  1.60it/s]\u001b[A\n",
            "100%|██████████| 12/12 [00:07<00:00,  1.62it/s]\n",
            " 32%|███▏      | 83/256 [07:06<15:10,  5.26s/it]"
          ]
        },
        {
          "name": "stdout",
          "output_type": "stream",
          "text": [
            "Outputs computed by the models\n",
            "(128, 128, 64)\n"
          ]
        },
        {
          "name": "stderr",
          "output_type": "stream",
          "text": [
            "\n",
            "  0%|          | 0/4 [00:00<?, ?it/s]\u001b[A\n",
            " 25%|██▌       | 1/4 [00:00<00:01,  1.78it/s]\u001b[A\n",
            " 50%|█████     | 2/4 [00:01<00:01,  1.68it/s]\u001b[A\n",
            " 75%|███████▌  | 3/4 [00:01<00:00,  1.65it/s]\u001b[A\n",
            "100%|██████████| 4/4 [00:02<00:00,  1.65it/s]\n",
            " 33%|███▎      | 84/256 [07:10<14:38,  5.11s/it]"
          ]
        },
        {
          "name": "stdout",
          "output_type": "stream",
          "text": [
            "Outputs computed by the models\n",
            "(128, 128, 64)\n"
          ]
        },
        {
          "name": "stderr",
          "output_type": "stream",
          "text": [
            "\n",
            "  0%|          | 0/4 [00:00<?, ?it/s]\u001b[A\n",
            " 25%|██▌       | 1/4 [00:00<00:01,  2.05it/s]\u001b[A\n",
            " 50%|█████     | 2/4 [00:01<00:01,  1.76it/s]\u001b[A\n",
            " 75%|███████▌  | 3/4 [00:01<00:00,  1.71it/s]\u001b[A\n",
            "100%|██████████| 4/4 [00:02<00:00,  1.71it/s]\n",
            " 33%|███▎      | 85/256 [07:14<13:38,  4.78s/it]"
          ]
        },
        {
          "name": "stdout",
          "output_type": "stream",
          "text": [
            "Outputs computed by the models\n",
            "(128, 128, 64)\n"
          ]
        },
        {
          "name": "stderr",
          "output_type": "stream",
          "text": [
            "\n",
            "  0%|          | 0/1 [00:00<?, ?it/s]\u001b[A\n",
            "100%|██████████| 1/1 [00:00<00:00,  1.99it/s]\n",
            " 34%|███▎      | 86/256 [07:17<11:29,  4.05s/it]"
          ]
        },
        {
          "name": "stdout",
          "output_type": "stream",
          "text": [
            "Outputs computed by the models\n",
            "(128, 128, 64)\n"
          ]
        },
        {
          "name": "stderr",
          "output_type": "stream",
          "text": [
            "\n",
            "  0%|          | 0/1 [00:00<?, ?it/s]\u001b[A\n",
            "100%|██████████| 1/1 [00:00<00:00,  2.00it/s]\n"
          ]
        },
        {
          "name": "stdout",
          "output_type": "stream",
          "text": [
            "Outputs computed by the models\n"
          ]
        },
        {
          "name": "stderr",
          "output_type": "stream",
          "text": [
            "\r 34%|███▍      | 87/256 [07:19<10:13,  3.63s/it]"
          ]
        },
        {
          "name": "stdout",
          "output_type": "stream",
          "text": [
            "(128, 128, 64)\n"
          ]
        },
        {
          "name": "stderr",
          "output_type": "stream",
          "text": [
            "\n",
            "  0%|          | 0/4 [00:00<?, ?it/s]\u001b[A\n",
            " 25%|██▌       | 1/4 [00:00<00:01,  1.75it/s]\u001b[A\n",
            " 50%|█████     | 2/4 [00:01<00:01,  1.68it/s]\u001b[A\n",
            " 75%|███████▌  | 3/4 [00:01<00:00,  1.65it/s]\u001b[A\n",
            "100%|██████████| 4/4 [00:02<00:00,  1.64it/s]\n",
            " 34%|███▍      | 88/256 [07:25<11:32,  4.12s/it]"
          ]
        },
        {
          "name": "stdout",
          "output_type": "stream",
          "text": [
            "Outputs computed by the models\n",
            "(128, 128, 64)\n"
          ]
        },
        {
          "name": "stderr",
          "output_type": "stream",
          "text": [
            "\n",
            "  0%|          | 0/1 [00:00<?, ?it/s]\u001b[A\n",
            "100%|██████████| 1/1 [00:00<00:00,  2.01it/s]\n",
            " 35%|███▍      | 89/256 [07:27<09:50,  3.54s/it]"
          ]
        },
        {
          "name": "stdout",
          "output_type": "stream",
          "text": [
            "Outputs computed by the models\n",
            "(128, 128, 64)\n"
          ]
        },
        {
          "name": "stderr",
          "output_type": "stream",
          "text": [
            "\n",
            "  0%|          | 0/1 [00:00<?, ?it/s]\u001b[A\n",
            "100%|██████████| 1/1 [00:00<00:00,  2.02it/s]\n",
            " 35%|███▌      | 90/256 [07:29<08:42,  3.15s/it]"
          ]
        },
        {
          "name": "stdout",
          "output_type": "stream",
          "text": [
            "Outputs computed by the models\n",
            "(128, 128, 64)\n"
          ]
        },
        {
          "name": "stderr",
          "output_type": "stream",
          "text": [
            "\n",
            "  0%|          | 0/4 [00:00<?, ?it/s]\u001b[A\n",
            " 25%|██▌       | 1/4 [00:00<00:01,  2.03it/s]\u001b[A\n",
            " 50%|█████     | 2/4 [00:01<00:01,  1.75it/s]\u001b[A\n",
            " 75%|███████▌  | 3/4 [00:01<00:00,  1.70it/s]\u001b[A\n",
            "100%|██████████| 4/4 [00:02<00:00,  1.69it/s]\n",
            " 36%|███▌      | 91/256 [07:34<09:54,  3.60s/it]"
          ]
        },
        {
          "name": "stdout",
          "output_type": "stream",
          "text": [
            "Outputs computed by the models\n",
            "(128, 128, 64)\n"
          ]
        },
        {
          "name": "stderr",
          "output_type": "stream",
          "text": [
            "\n",
            "  0%|          | 0/4 [00:00<?, ?it/s]\u001b[A\n",
            " 25%|██▌       | 1/4 [00:00<00:01,  1.78it/s]\u001b[A\n",
            " 50%|█████     | 2/4 [00:01<00:01,  1.69it/s]\u001b[A\n",
            " 75%|███████▌  | 3/4 [00:01<00:00,  1.65it/s]\u001b[A\n",
            "100%|██████████| 4/4 [00:02<00:00,  1.65it/s]\n",
            " 36%|███▌      | 92/256 [07:39<11:15,  4.12s/it]"
          ]
        },
        {
          "name": "stdout",
          "output_type": "stream",
          "text": [
            "Outputs computed by the models\n",
            "(128, 128, 64)\n"
          ]
        },
        {
          "name": "stderr",
          "output_type": "stream",
          "text": [
            "\n",
            "  0%|          | 0/1 [00:00<?, ?it/s]\u001b[A\n",
            "100%|██████████| 1/1 [00:00<00:00,  1.98it/s]\n",
            " 36%|███▋      | 93/256 [07:41<09:36,  3.53s/it]"
          ]
        },
        {
          "name": "stdout",
          "output_type": "stream",
          "text": [
            "Outputs computed by the models\n",
            "(128, 128, 64)\n"
          ]
        },
        {
          "name": "stderr",
          "output_type": "stream",
          "text": [
            "\n",
            "  0%|          | 0/4 [00:00<?, ?it/s]\u001b[A\n",
            " 25%|██▌       | 1/4 [00:00<00:01,  2.04it/s]\u001b[A\n",
            " 50%|█████     | 2/4 [00:01<00:01,  1.75it/s]\u001b[A\n",
            " 75%|███████▌  | 3/4 [00:01<00:00,  1.71it/s]\u001b[A\n",
            "100%|██████████| 4/4 [00:02<00:00,  1.71it/s]\n",
            " 37%|███▋      | 94/256 [07:45<09:55,  3.67s/it]"
          ]
        },
        {
          "name": "stdout",
          "output_type": "stream",
          "text": [
            "Outputs computed by the models\n",
            "(128, 128, 64)\n"
          ]
        },
        {
          "name": "stderr",
          "output_type": "stream",
          "text": [
            "\n",
            "  0%|          | 0/1 [00:00<?, ?it/s]\u001b[A\n",
            "100%|██████████| 1/1 [00:00<00:00,  1.99it/s]\n",
            " 37%|███▋      | 95/256 [07:47<08:29,  3.17s/it]"
          ]
        },
        {
          "name": "stdout",
          "output_type": "stream",
          "text": [
            "Outputs computed by the models\n",
            "(128, 128, 64)\n"
          ]
        },
        {
          "name": "stderr",
          "output_type": "stream",
          "text": [
            "\n",
            "  0%|          | 0/1 [00:00<?, ?it/s]\u001b[A\n",
            "100%|██████████| 1/1 [00:00<00:00,  1.99it/s]\n"
          ]
        },
        {
          "name": "stdout",
          "output_type": "stream",
          "text": [
            "Outputs computed by the models\n"
          ]
        },
        {
          "name": "stderr",
          "output_type": "stream",
          "text": [
            "\r 38%|███▊      | 96/256 [07:50<08:15,  3.09s/it]"
          ]
        },
        {
          "name": "stdout",
          "output_type": "stream",
          "text": [
            "(128, 128, 64)\n"
          ]
        },
        {
          "name": "stderr",
          "output_type": "stream",
          "text": [
            "\n",
            "  0%|          | 0/3 [00:00<?, ?it/s]\u001b[A\n",
            " 33%|███▎      | 1/3 [00:00<00:01,  1.83it/s]\u001b[A\n",
            " 67%|██████▋   | 2/3 [00:01<00:00,  1.70it/s]\u001b[A\n",
            "100%|██████████| 3/3 [00:01<00:00,  1.68it/s]\n",
            " 38%|███▊      | 97/256 [07:54<08:45,  3.30s/it]"
          ]
        },
        {
          "name": "stdout",
          "output_type": "stream",
          "text": [
            "Outputs computed by the models\n",
            "(128, 128, 64)\n"
          ]
        },
        {
          "name": "stderr",
          "output_type": "stream",
          "text": [
            "\n",
            "  0%|          | 0/1 [00:00<?, ?it/s]\u001b[A\n",
            "100%|██████████| 1/1 [00:00<00:00,  2.01it/s]\n",
            " 38%|███▊      | 98/256 [07:56<07:48,  2.96s/it]"
          ]
        },
        {
          "name": "stdout",
          "output_type": "stream",
          "text": [
            "Outputs computed by the models\n",
            "(128, 128, 64)\n"
          ]
        },
        {
          "name": "stderr",
          "output_type": "stream",
          "text": [
            "\n",
            "  0%|          | 0/12 [00:00<?, ?it/s]\u001b[A\n",
            "  8%|▊         | 1/12 [00:00<00:06,  1.80it/s]\u001b[A\n",
            " 17%|█▋        | 2/12 [00:01<00:05,  1.69it/s]\u001b[A\n",
            " 25%|██▌       | 3/12 [00:01<00:05,  1.65it/s]\u001b[A\n",
            " 33%|███▎      | 4/12 [00:02<00:04,  1.62it/s]\u001b[A\n",
            " 42%|████▏     | 5/12 [00:03<00:04,  1.62it/s]\u001b[A\n",
            " 50%|█████     | 6/12 [00:03<00:03,  1.61it/s]\u001b[A\n",
            " 58%|█████▊    | 7/12 [00:04<00:03,  1.60it/s]\u001b[A\n",
            " 67%|██████▋   | 8/12 [00:04<00:02,  1.60it/s]\u001b[A\n",
            " 75%|███████▌  | 9/12 [00:05<00:01,  1.60it/s]\u001b[A\n",
            " 83%|████████▎ | 10/12 [00:06<00:01,  1.60it/s]\u001b[A\n",
            " 92%|█████████▏| 11/12 [00:06<00:00,  1.60it/s]\u001b[A\n",
            "100%|██████████| 12/12 [00:07<00:00,  1.61it/s]\n",
            " 39%|███▊      | 99/256 [08:07<13:31,  5.17s/it]"
          ]
        },
        {
          "name": "stdout",
          "output_type": "stream",
          "text": [
            "Outputs computed by the models\n",
            "(128, 128, 64)\n"
          ]
        },
        {
          "name": "stderr",
          "output_type": "stream",
          "text": [
            "\n",
            "  0%|          | 0/4 [00:00<?, ?it/s]\u001b[A\n",
            " 25%|██▌       | 1/4 [00:00<00:01,  2.01it/s]\u001b[A\n",
            " 50%|█████     | 2/4 [00:01<00:01,  1.72it/s]\u001b[A\n",
            " 75%|███████▌  | 3/4 [00:01<00:00,  1.67it/s]\u001b[A\n",
            "100%|██████████| 4/4 [00:02<00:00,  1.66it/s]\n",
            " 39%|███▉      | 100/256 [08:11<12:47,  4.92s/it]"
          ]
        },
        {
          "name": "stdout",
          "output_type": "stream",
          "text": [
            "Outputs computed by the models\n",
            "(128, 128, 64)\n"
          ]
        },
        {
          "name": "stderr",
          "output_type": "stream",
          "text": [
            "\n",
            "  0%|          | 0/4 [00:00<?, ?it/s]\u001b[A\n",
            " 25%|██▌       | 1/4 [00:00<00:01,  1.99it/s]\u001b[A\n",
            " 50%|█████     | 2/4 [00:01<00:01,  1.70it/s]\u001b[A\n",
            " 75%|███████▌  | 3/4 [00:01<00:00,  1.67it/s]\u001b[A\n",
            "100%|██████████| 4/4 [00:02<00:00,  1.65it/s]\n",
            " 39%|███▉      | 101/256 [08:16<12:34,  4.87s/it]"
          ]
        },
        {
          "name": "stdout",
          "output_type": "stream",
          "text": [
            "Outputs computed by the models\n",
            "(128, 128, 64)\n"
          ]
        },
        {
          "name": "stderr",
          "output_type": "stream",
          "text": [
            "\n",
            "  0%|          | 0/3 [00:00<?, ?it/s]\u001b[A\n",
            " 33%|███▎      | 1/3 [00:00<00:01,  1.73it/s]\u001b[A\n",
            " 67%|██████▋   | 2/3 [00:01<00:00,  1.64it/s]\u001b[A\n",
            "100%|██████████| 3/3 [00:01<00:00,  1.63it/s]\n",
            " 40%|███▉      | 102/256 [08:20<12:05,  4.71s/it]"
          ]
        },
        {
          "name": "stdout",
          "output_type": "stream",
          "text": [
            "Outputs computed by the models\n",
            "(128, 128, 64)\n"
          ]
        },
        {
          "name": "stderr",
          "output_type": "stream",
          "text": [
            "\n",
            "  0%|          | 0/12 [00:00<?, ?it/s]\u001b[A\n",
            "  8%|▊         | 1/12 [00:00<00:05,  1.99it/s]\u001b[A\n",
            " 17%|█▋        | 2/12 [00:01<00:05,  1.72it/s]\u001b[A\n",
            " 25%|██▌       | 3/12 [00:01<00:05,  1.69it/s]\u001b[A\n",
            " 33%|███▎      | 4/12 [00:02<00:04,  1.64it/s]\u001b[A\n",
            " 42%|████▏     | 5/12 [00:03<00:04,  1.63it/s]\u001b[A\n",
            " 50%|█████     | 6/12 [00:03<00:03,  1.62it/s]\u001b[A\n",
            " 58%|█████▊    | 7/12 [00:04<00:03,  1.61it/s]\u001b[A\n",
            " 67%|██████▋   | 8/12 [00:04<00:02,  1.61it/s]\u001b[A\n",
            " 75%|███████▌  | 9/12 [00:05<00:01,  1.61it/s]\u001b[A\n",
            " 83%|████████▎ | 10/12 [00:06<00:01,  1.62it/s]\u001b[A\n",
            " 92%|█████████▏| 11/12 [00:06<00:00,  1.62it/s]\u001b[A\n",
            "100%|██████████| 12/12 [00:07<00:00,  1.63it/s]\n",
            " 40%|████      | 103/256 [08:30<16:03,  6.30s/it]"
          ]
        },
        {
          "name": "stdout",
          "output_type": "stream",
          "text": [
            "Outputs computed by the models\n",
            "(128, 128, 64)\n"
          ]
        },
        {
          "name": "stderr",
          "output_type": "stream",
          "text": [
            "\n",
            "  0%|          | 0/12 [00:00<?, ?it/s]\u001b[A\n",
            "  8%|▊         | 1/12 [00:00<00:06,  1.81it/s]\u001b[A\n",
            " 17%|█▋        | 2/12 [00:01<00:05,  1.69it/s]\u001b[A\n",
            " 25%|██▌       | 3/12 [00:01<00:05,  1.65it/s]\u001b[A\n",
            " 33%|███▎      | 4/12 [00:02<00:04,  1.62it/s]\u001b[A\n",
            " 42%|████▏     | 5/12 [00:03<00:04,  1.63it/s]\u001b[A\n",
            " 50%|█████     | 6/12 [00:03<00:03,  1.62it/s]\u001b[A\n",
            " 58%|█████▊    | 7/12 [00:04<00:03,  1.61it/s]\u001b[A\n",
            " 67%|██████▋   | 8/12 [00:04<00:02,  1.61it/s]\u001b[A\n",
            " 75%|███████▌  | 9/12 [00:05<00:01,  1.60it/s]\u001b[A\n",
            " 83%|████████▎ | 10/12 [00:06<00:01,  1.60it/s]\u001b[A\n",
            " 92%|█████████▏| 11/12 [00:06<00:00,  1.60it/s]\u001b[A\n",
            "100%|██████████| 12/12 [00:07<00:00,  1.62it/s]\n",
            " 41%|████      | 104/256 [08:40<18:56,  7.48s/it]"
          ]
        },
        {
          "name": "stdout",
          "output_type": "stream",
          "text": [
            "Outputs computed by the models\n",
            "(128, 128, 64)\n"
          ]
        },
        {
          "name": "stderr",
          "output_type": "stream",
          "text": [
            "\n",
            "  0%|          | 0/1 [00:00<?, ?it/s]\u001b[A\n",
            "100%|██████████| 1/1 [00:00<00:00,  1.97it/s]\n",
            " 41%|████      | 105/256 [08:42<14:55,  5.93s/it]"
          ]
        },
        {
          "name": "stdout",
          "output_type": "stream",
          "text": [
            "Outputs computed by the models\n",
            "(128, 128, 64)\n"
          ]
        },
        {
          "name": "stderr",
          "output_type": "stream",
          "text": [
            "\n",
            "  0%|          | 0/3 [00:00<?, ?it/s]\u001b[A\n",
            " 33%|███▎      | 1/3 [00:00<00:01,  1.76it/s]\u001b[A\n",
            " 67%|██████▋   | 2/3 [00:01<00:00,  1.68it/s]\u001b[A\n",
            "100%|██████████| 3/3 [00:01<00:00,  1.66it/s]\n",
            " 41%|████▏     | 106/256 [08:47<13:40,  5.47s/it]"
          ]
        },
        {
          "name": "stdout",
          "output_type": "stream",
          "text": [
            "Outputs computed by the models\n",
            "(128, 128, 64)\n"
          ]
        },
        {
          "name": "stderr",
          "output_type": "stream",
          "text": [
            "\n",
            "  0%|          | 0/1 [00:00<?, ?it/s]\u001b[A\n",
            "100%|██████████| 1/1 [00:00<00:00,  2.01it/s]\n",
            " 42%|████▏     | 107/256 [08:49<11:10,  4.50s/it]"
          ]
        },
        {
          "name": "stdout",
          "output_type": "stream",
          "text": [
            "Outputs computed by the models\n",
            "(128, 128, 64)\n"
          ]
        },
        {
          "name": "stderr",
          "output_type": "stream",
          "text": [
            "\n",
            "  0%|          | 0/12 [00:00<?, ?it/s]\u001b[A\n",
            "  8%|▊         | 1/12 [00:00<00:05,  2.02it/s]\u001b[A\n",
            " 17%|█▋        | 2/12 [00:01<00:05,  1.75it/s]\u001b[A\n",
            " 25%|██▌       | 3/12 [00:01<00:05,  1.71it/s]\u001b[A\n",
            " 33%|███▎      | 4/12 [00:02<00:04,  1.67it/s]\u001b[A\n",
            " 42%|████▏     | 5/12 [00:02<00:04,  1.64it/s]\u001b[A\n",
            " 50%|█████     | 6/12 [00:03<00:03,  1.64it/s]\u001b[A\n",
            " 58%|█████▊    | 7/12 [00:04<00:03,  1.63it/s]\u001b[A\n",
            " 67%|██████▋   | 8/12 [00:04<00:02,  1.63it/s]\u001b[A\n",
            " 75%|███████▌  | 9/12 [00:05<00:01,  1.63it/s]\u001b[A\n",
            " 83%|████████▎ | 10/12 [00:06<00:01,  1.63it/s]\u001b[A\n",
            " 92%|█████████▏| 11/12 [00:06<00:00,  1.63it/s]\u001b[A\n",
            "100%|██████████| 12/12 [00:07<00:00,  1.65it/s]\n",
            " 42%|████▏     | 108/256 [08:59<15:07,  6.13s/it]"
          ]
        },
        {
          "name": "stdout",
          "output_type": "stream",
          "text": [
            "Outputs computed by the models\n",
            "(128, 128, 64)\n"
          ]
        },
        {
          "name": "stderr",
          "output_type": "stream",
          "text": [
            "\n",
            "  0%|          | 0/3 [00:00<?, ?it/s]\u001b[A\n",
            " 33%|███▎      | 1/3 [00:00<00:01,  1.84it/s]\u001b[A\n",
            " 67%|██████▋   | 2/3 [00:01<00:00,  1.70it/s]\u001b[A\n",
            "100%|██████████| 3/3 [00:01<00:00,  1.68it/s]\n",
            " 43%|████▎     | 109/256 [09:03<13:39,  5.58s/it]"
          ]
        },
        {
          "name": "stdout",
          "output_type": "stream",
          "text": [
            "Outputs computed by the models\n",
            "(128, 128, 64)\n"
          ]
        },
        {
          "name": "stderr",
          "output_type": "stream",
          "text": [
            "\n",
            "  0%|          | 0/4 [00:00<?, ?it/s]\u001b[A\n",
            " 25%|██▌       | 1/4 [00:00<00:01,  2.03it/s]\u001b[A\n",
            " 50%|█████     | 2/4 [00:01<00:01,  1.76it/s]\u001b[A\n",
            " 75%|███████▌  | 3/4 [00:01<00:00,  1.72it/s]\u001b[A\n",
            "100%|██████████| 4/4 [00:02<00:00,  1.71it/s]\n",
            " 43%|████▎     | 110/256 [09:07<12:28,  5.13s/it]"
          ]
        },
        {
          "name": "stdout",
          "output_type": "stream",
          "text": [
            "Outputs computed by the models\n",
            "(128, 128, 64)\n"
          ]
        },
        {
          "name": "stderr",
          "output_type": "stream",
          "text": [
            "\n",
            "  0%|          | 0/12 [00:00<?, ?it/s]\u001b[A\n",
            "  8%|▊         | 1/12 [00:00<00:05,  2.01it/s]\u001b[A\n",
            " 17%|█▋        | 2/12 [00:01<00:05,  1.74it/s]\u001b[A\n",
            " 25%|██▌       | 3/12 [00:01<00:05,  1.70it/s]\u001b[A\n",
            " 33%|███▎      | 4/12 [00:02<00:04,  1.66it/s]\u001b[A\n",
            " 42%|████▏     | 5/12 [00:02<00:04,  1.64it/s]\u001b[A\n",
            " 50%|█████     | 6/12 [00:03<00:03,  1.63it/s]\u001b[A\n",
            " 58%|█████▊    | 7/12 [00:04<00:03,  1.62it/s]\u001b[A\n",
            " 67%|██████▋   | 8/12 [00:04<00:02,  1.62it/s]\u001b[A\n",
            " 75%|███████▌  | 9/12 [00:05<00:01,  1.62it/s]\u001b[A\n",
            " 83%|████████▎ | 10/12 [00:06<00:01,  1.61it/s]\u001b[A\n",
            " 92%|█████████▏| 11/12 [00:06<00:00,  1.61it/s]\u001b[A\n",
            "100%|██████████| 12/12 [00:07<00:00,  1.63it/s]\n",
            " 43%|████▎     | 111/256 [09:17<15:35,  6.45s/it]"
          ]
        },
        {
          "name": "stdout",
          "output_type": "stream",
          "text": [
            "Outputs computed by the models\n",
            "(128, 128, 64)\n"
          ]
        },
        {
          "name": "stderr",
          "output_type": "stream",
          "text": [
            "\n",
            "  0%|          | 0/12 [00:00<?, ?it/s]\u001b[A\n",
            "  8%|▊         | 1/12 [00:00<00:06,  1.80it/s]\u001b[A\n",
            " 17%|█▋        | 2/12 [00:01<00:05,  1.68it/s]\u001b[A\n",
            " 25%|██▌       | 3/12 [00:01<00:05,  1.66it/s]\u001b[A\n",
            " 33%|███▎      | 4/12 [00:02<00:04,  1.63it/s]\u001b[A\n",
            " 42%|████▏     | 5/12 [00:03<00:04,  1.63it/s]\u001b[A\n",
            " 50%|█████     | 6/12 [00:03<00:03,  1.62it/s]\u001b[A\n",
            " 58%|█████▊    | 7/12 [00:04<00:03,  1.61it/s]\u001b[A\n",
            " 67%|██████▋   | 8/12 [00:04<00:02,  1.61it/s]\u001b[A\n",
            " 75%|███████▌  | 9/12 [00:05<00:01,  1.60it/s]\u001b[A\n",
            " 83%|████████▎ | 10/12 [00:06<00:01,  1.60it/s]\u001b[A\n",
            " 92%|█████████▏| 11/12 [00:06<00:00,  1.60it/s]\u001b[A\n",
            "100%|██████████| 12/12 [00:07<00:00,  1.61it/s]\n",
            " 44%|████▍     | 112/256 [09:28<18:43,  7.80s/it]"
          ]
        },
        {
          "name": "stdout",
          "output_type": "stream",
          "text": [
            "Outputs computed by the models\n",
            "(128, 128, 64)\n"
          ]
        },
        {
          "name": "stderr",
          "output_type": "stream",
          "text": [
            "\n",
            "  0%|          | 0/12 [00:00<?, ?it/s]\u001b[A\n",
            "  8%|▊         | 1/12 [00:00<00:06,  1.81it/s]\u001b[A\n",
            " 17%|█▋        | 2/12 [00:01<00:05,  1.68it/s]\u001b[A\n",
            " 25%|██▌       | 3/12 [00:01<00:05,  1.66it/s]\u001b[A\n",
            " 33%|███▎      | 4/12 [00:02<00:04,  1.64it/s]\u001b[A\n",
            " 42%|████▏     | 5/12 [00:03<00:04,  1.63it/s]\u001b[A\n",
            " 50%|█████     | 6/12 [00:03<00:03,  1.62it/s]\u001b[A\n",
            " 58%|█████▊    | 7/12 [00:04<00:03,  1.61it/s]\u001b[A\n",
            " 67%|██████▋   | 8/12 [00:04<00:02,  1.61it/s]\u001b[A\n",
            " 75%|███████▌  | 9/12 [00:05<00:01,  1.61it/s]\u001b[A\n",
            " 83%|████████▎ | 10/12 [00:06<00:01,  1.61it/s]\u001b[A\n",
            " 92%|█████████▏| 11/12 [00:06<00:00,  1.60it/s]\u001b[A\n",
            "100%|██████████| 12/12 [00:07<00:00,  1.62it/s]\n",
            " 44%|████▍     | 113/256 [09:39<20:40,  8.67s/it]"
          ]
        },
        {
          "name": "stdout",
          "output_type": "stream",
          "text": [
            "Outputs computed by the models\n",
            "(128, 128, 64)\n"
          ]
        },
        {
          "name": "stderr",
          "output_type": "stream",
          "text": [
            "\n",
            "  0%|          | 0/4 [00:00<?, ?it/s]\u001b[A\n",
            " 25%|██▌       | 1/4 [00:00<00:01,  2.01it/s]\u001b[A\n",
            " 50%|█████     | 2/4 [00:01<00:01,  1.75it/s]\u001b[A\n",
            " 75%|███████▌  | 3/4 [00:01<00:00,  1.70it/s]\u001b[A\n",
            "100%|██████████| 4/4 [00:02<00:00,  1.70it/s]\n",
            " 45%|████▍     | 114/256 [09:43<17:32,  7.41s/it]"
          ]
        },
        {
          "name": "stdout",
          "output_type": "stream",
          "text": [
            "Outputs computed by the models\n",
            "(128, 128, 64)\n"
          ]
        },
        {
          "name": "stderr",
          "output_type": "stream",
          "text": [
            "\n",
            "  0%|          | 0/4 [00:00<?, ?it/s]\u001b[A\n",
            " 25%|██▌       | 1/4 [00:00<00:01,  2.02it/s]\u001b[A\n",
            " 50%|█████     | 2/4 [00:01<00:01,  1.73it/s]\u001b[A\n",
            " 75%|███████▌  | 3/4 [00:01<00:00,  1.69it/s]\u001b[A\n",
            "100%|██████████| 4/4 [00:02<00:00,  1.68it/s]\n",
            " 45%|████▍     | 115/256 [09:47<15:17,  6.50s/it]"
          ]
        },
        {
          "name": "stdout",
          "output_type": "stream",
          "text": [
            "Outputs computed by the models\n",
            "(128, 128, 64)\n"
          ]
        },
        {
          "name": "stderr",
          "output_type": "stream",
          "text": [
            "\n",
            "  0%|          | 0/12 [00:00<?, ?it/s]\u001b[A\n",
            "  8%|▊         | 1/12 [00:00<00:05,  2.02it/s]\u001b[A\n",
            " 17%|█▋        | 2/12 [00:01<00:05,  1.73it/s]\u001b[A\n",
            " 25%|██▌       | 3/12 [00:01<00:05,  1.69it/s]\u001b[A\n",
            " 33%|███▎      | 4/12 [00:02<00:04,  1.64it/s]\u001b[A\n",
            " 42%|████▏     | 5/12 [00:02<00:04,  1.63it/s]\u001b[A\n",
            " 50%|█████     | 6/12 [00:03<00:03,  1.63it/s]\u001b[A\n",
            " 58%|█████▊    | 7/12 [00:04<00:03,  1.61it/s]\u001b[A\n",
            " 67%|██████▋   | 8/12 [00:04<00:02,  1.61it/s]\u001b[A\n",
            " 75%|███████▌  | 9/12 [00:05<00:01,  1.61it/s]\u001b[A\n",
            " 83%|████████▎ | 10/12 [00:06<00:01,  1.61it/s]\u001b[A\n",
            " 92%|█████████▏| 11/12 [00:06<00:00,  1.61it/s]\u001b[A\n",
            "100%|██████████| 12/12 [00:07<00:00,  1.63it/s]\n",
            " 45%|████▌     | 116/256 [09:57<17:14,  7.39s/it]"
          ]
        },
        {
          "name": "stdout",
          "output_type": "stream",
          "text": [
            "Outputs computed by the models\n",
            "(128, 128, 64)\n"
          ]
        },
        {
          "name": "stderr",
          "output_type": "stream",
          "text": [
            "\n",
            "  0%|          | 0/4 [00:00<?, ?it/s]\u001b[A\n",
            " 25%|██▌       | 1/4 [00:00<00:01,  1.97it/s]\u001b[A\n",
            " 50%|█████     | 2/4 [00:01<00:01,  1.73it/s]\u001b[A\n",
            " 75%|███████▌  | 3/4 [00:01<00:00,  1.68it/s]\u001b[A\n",
            "100%|██████████| 4/4 [00:02<00:00,  1.67it/s]\n",
            " 46%|████▌     | 117/256 [10:01<15:03,  6.50s/it]"
          ]
        },
        {
          "name": "stdout",
          "output_type": "stream",
          "text": [
            "Outputs computed by the models\n",
            "(128, 128, 64)\n"
          ]
        },
        {
          "name": "stderr",
          "output_type": "stream",
          "text": [
            "\n",
            "  0%|          | 0/12 [00:00<?, ?it/s]\u001b[A\n",
            "  8%|▊         | 1/12 [00:00<00:05,  2.02it/s]\u001b[A\n",
            " 17%|█▋        | 2/12 [00:01<00:05,  1.73it/s]\u001b[A\n",
            " 25%|██▌       | 3/12 [00:01<00:05,  1.70it/s]\u001b[A\n",
            " 33%|███▎      | 4/12 [00:02<00:04,  1.65it/s]\u001b[A\n",
            " 42%|████▏     | 5/12 [00:02<00:04,  1.64it/s]\u001b[A\n",
            " 50%|█████     | 6/12 [00:03<00:03,  1.63it/s]\u001b[A\n",
            " 58%|█████▊    | 7/12 [00:04<00:03,  1.62it/s]\u001b[A\n",
            " 67%|██████▋   | 8/12 [00:04<00:02,  1.62it/s]\u001b[A\n",
            " 75%|███████▌  | 9/12 [00:05<00:01,  1.61it/s]\u001b[A\n",
            " 83%|████████▎ | 10/12 [00:06<00:01,  1.61it/s]\u001b[A\n",
            " 92%|█████████▏| 11/12 [00:06<00:00,  1.61it/s]\u001b[A\n",
            "100%|██████████| 12/12 [00:07<00:00,  1.63it/s]\n",
            " 46%|████▌     | 118/256 [10:11<16:58,  7.38s/it]"
          ]
        },
        {
          "name": "stdout",
          "output_type": "stream",
          "text": [
            "Outputs computed by the models\n",
            "(128, 128, 64)\n"
          ]
        },
        {
          "name": "stderr",
          "output_type": "stream",
          "text": [
            "\n",
            "  0%|          | 0/4 [00:00<?, ?it/s]\u001b[A\n",
            " 25%|██▌       | 1/4 [00:00<00:01,  1.76it/s]\u001b[A\n",
            " 50%|█████     | 2/4 [00:01<00:01,  1.67it/s]\u001b[A\n",
            " 75%|███████▌  | 3/4 [00:01<00:00,  1.64it/s]\u001b[A\n",
            "100%|██████████| 4/4 [00:02<00:00,  1.64it/s]\n",
            " 46%|████▋     | 119/256 [10:15<14:49,  6.49s/it]"
          ]
        },
        {
          "name": "stdout",
          "output_type": "stream",
          "text": [
            "Outputs computed by the models\n",
            "(128, 128, 64)\n"
          ]
        },
        {
          "name": "stderr",
          "output_type": "stream",
          "text": [
            "\n",
            "  0%|          | 0/4 [00:00<?, ?it/s]\u001b[A\n",
            " 25%|██▌       | 1/4 [00:00<00:01,  2.01it/s]\u001b[A\n",
            " 50%|█████     | 2/4 [00:01<00:01,  1.75it/s]\u001b[A\n",
            " 75%|███████▌  | 3/4 [00:01<00:00,  1.70it/s]\u001b[A\n",
            "100%|██████████| 4/4 [00:02<00:00,  1.69it/s]\n",
            " 47%|████▋     | 120/256 [10:20<13:21,  5.89s/it]"
          ]
        },
        {
          "name": "stdout",
          "output_type": "stream",
          "text": [
            "Outputs computed by the models\n",
            "(128, 128, 64)\n"
          ]
        },
        {
          "name": "stderr",
          "output_type": "stream",
          "text": [
            "\n",
            "  0%|          | 0/4 [00:00<?, ?it/s]\u001b[A\n",
            " 25%|██▌       | 1/4 [00:00<00:01,  1.74it/s]\u001b[A\n",
            " 50%|█████     | 2/4 [00:01<00:01,  1.66it/s]\u001b[A\n",
            " 75%|███████▌  | 3/4 [00:01<00:00,  1.65it/s]\u001b[A\n",
            "100%|██████████| 4/4 [00:02<00:00,  1.64it/s]\n",
            " 47%|████▋     | 121/256 [10:25<12:45,  5.67s/it]"
          ]
        },
        {
          "name": "stdout",
          "output_type": "stream",
          "text": [
            "Outputs computed by the models\n",
            "(128, 128, 64)\n"
          ]
        },
        {
          "name": "stderr",
          "output_type": "stream",
          "text": [
            "\n",
            "  0%|          | 0/12 [00:00<?, ?it/s]\u001b[A\n",
            "  8%|▊         | 1/12 [00:00<00:05,  2.02it/s]\u001b[A\n",
            " 17%|█▋        | 2/12 [00:01<00:05,  1.76it/s]\u001b[A\n",
            " 25%|██▌       | 3/12 [00:01<00:05,  1.70it/s]\u001b[A\n",
            " 33%|███▎      | 4/12 [00:02<00:04,  1.66it/s]\u001b[A\n",
            " 42%|████▏     | 5/12 [00:02<00:04,  1.65it/s]\u001b[A\n",
            " 50%|█████     | 6/12 [00:03<00:03,  1.64it/s]\u001b[A\n",
            " 58%|█████▊    | 7/12 [00:04<00:03,  1.63it/s]\u001b[A\n",
            " 67%|██████▋   | 8/12 [00:04<00:02,  1.63it/s]\u001b[A\n",
            " 75%|███████▌  | 9/12 [00:05<00:01,  1.62it/s]\u001b[A\n",
            " 83%|████████▎ | 10/12 [00:06<00:01,  1.62it/s]\u001b[A\n",
            " 92%|█████████▏| 11/12 [00:06<00:00,  1.62it/s]\u001b[A\n",
            "100%|██████████| 12/12 [00:07<00:00,  1.64it/s]\n",
            " 48%|████▊     | 122/256 [10:35<15:32,  6.96s/it]"
          ]
        },
        {
          "name": "stdout",
          "output_type": "stream",
          "text": [
            "Outputs computed by the models\n",
            "(128, 128, 64)\n"
          ]
        },
        {
          "name": "stderr",
          "output_type": "stream",
          "text": [
            "\n",
            "  0%|          | 0/4 [00:00<?, ?it/s]\u001b[A\n",
            " 25%|██▌       | 1/4 [00:00<00:01,  1.80it/s]\u001b[A\n",
            " 50%|█████     | 2/4 [00:01<00:01,  1.71it/s]\u001b[A\n",
            " 75%|███████▌  | 3/4 [00:01<00:00,  1.66it/s]\u001b[A\n",
            "100%|██████████| 4/4 [00:02<00:00,  1.66it/s]\n",
            " 48%|████▊     | 123/256 [10:40<14:14,  6.43s/it]"
          ]
        },
        {
          "name": "stdout",
          "output_type": "stream",
          "text": [
            "Outputs computed by the models\n",
            "(128, 128, 64)\n"
          ]
        },
        {
          "name": "stderr",
          "output_type": "stream",
          "text": [
            "\n",
            "  0%|          | 0/1 [00:00<?, ?it/s]\u001b[A\n",
            "100%|██████████| 1/1 [00:00<00:00,  1.81it/s]\n",
            " 48%|████▊     | 124/256 [10:42<11:32,  5.24s/it]"
          ]
        },
        {
          "name": "stdout",
          "output_type": "stream",
          "text": [
            "Outputs computed by the models\n",
            "(128, 128, 64)\n"
          ]
        },
        {
          "name": "stderr",
          "output_type": "stream",
          "text": [
            "\n",
            "  0%|          | 0/1 [00:00<?, ?it/s]\u001b[A\n",
            "100%|██████████| 1/1 [00:00<00:00,  2.02it/s]\n",
            " 49%|████▉     | 125/256 [10:45<09:24,  4.31s/it]"
          ]
        },
        {
          "name": "stdout",
          "output_type": "stream",
          "text": [
            "Outputs computed by the models\n",
            "(128, 128, 64)\n"
          ]
        },
        {
          "name": "stderr",
          "output_type": "stream",
          "text": [
            "\n",
            "  0%|          | 0/4 [00:00<?, ?it/s]\u001b[A\n",
            " 25%|██▌       | 1/4 [00:00<00:01,  1.93it/s]\u001b[A\n",
            " 50%|█████     | 2/4 [00:01<00:01,  1.73it/s]\u001b[A\n",
            " 75%|███████▌  | 3/4 [00:01<00:00,  1.68it/s]\u001b[A\n",
            "100%|██████████| 4/4 [00:02<00:00,  1.68it/s]\n",
            " 49%|████▉     | 126/256 [10:50<09:45,  4.50s/it]"
          ]
        },
        {
          "name": "stdout",
          "output_type": "stream",
          "text": [
            "Outputs computed by the models\n",
            "(128, 128, 64)\n"
          ]
        },
        {
          "name": "stderr",
          "output_type": "stream",
          "text": [
            "\n",
            "  0%|          | 0/12 [00:00<?, ?it/s]\u001b[A\n",
            "  8%|▊         | 1/12 [00:00<00:06,  1.80it/s]\u001b[A\n",
            " 17%|█▋        | 2/12 [00:01<00:05,  1.68it/s]\u001b[A\n",
            " 25%|██▌       | 3/12 [00:01<00:05,  1.66it/s]\u001b[A\n",
            " 33%|███▎      | 4/12 [00:02<00:04,  1.63it/s]\u001b[A\n",
            " 42%|████▏     | 5/12 [00:03<00:04,  1.63it/s]\u001b[A\n",
            " 50%|█████     | 6/12 [00:03<00:03,  1.62it/s]\u001b[A\n",
            " 58%|█████▊    | 7/12 [00:04<00:03,  1.61it/s]\u001b[A\n",
            " 67%|██████▋   | 8/12 [00:04<00:02,  1.61it/s]\u001b[A\n",
            " 75%|███████▌  | 9/12 [00:05<00:01,  1.60it/s]\u001b[A\n",
            " 83%|████████▎ | 10/12 [00:06<00:01,  1.60it/s]\u001b[A\n",
            " 92%|█████████▏| 11/12 [00:06<00:00,  1.60it/s]\u001b[A\n",
            "100%|██████████| 12/12 [00:07<00:00,  1.62it/s]\n",
            " 50%|████▉     | 127/256 [11:00<13:21,  6.21s/it]"
          ]
        },
        {
          "name": "stdout",
          "output_type": "stream",
          "text": [
            "Outputs computed by the models\n",
            "(128, 128, 64)\n"
          ]
        },
        {
          "name": "stderr",
          "output_type": "stream",
          "text": [
            "\n",
            "  0%|          | 0/12 [00:00<?, ?it/s]\u001b[A\n",
            "  8%|▊         | 1/12 [00:00<00:05,  2.01it/s]\u001b[A\n",
            " 17%|█▋        | 2/12 [00:01<00:05,  1.72it/s]\u001b[A\n",
            " 25%|██▌       | 3/12 [00:01<00:05,  1.68it/s]\u001b[A\n",
            " 33%|███▎      | 4/12 [00:02<00:04,  1.64it/s]\u001b[A\n",
            " 42%|████▏     | 5/12 [00:03<00:04,  1.62it/s]\u001b[A\n",
            " 50%|█████     | 6/12 [00:03<00:03,  1.62it/s]\u001b[A\n",
            " 58%|█████▊    | 7/12 [00:04<00:03,  1.60it/s]\u001b[A\n",
            " 67%|██████▋   | 8/12 [00:04<00:02,  1.60it/s]\u001b[A\n",
            " 75%|███████▌  | 9/12 [00:05<00:01,  1.60it/s]\u001b[A\n",
            " 83%|████████▎ | 10/12 [00:06<00:01,  1.59it/s]\u001b[A\n",
            " 92%|█████████▏| 11/12 [00:06<00:00,  1.59it/s]\u001b[A\n",
            "100%|██████████| 12/12 [00:07<00:00,  1.61it/s]\n",
            " 50%|█████     | 128/256 [11:09<15:22,  7.21s/it]"
          ]
        },
        {
          "name": "stdout",
          "output_type": "stream",
          "text": [
            "Outputs computed by the models\n",
            "(128, 128, 64)\n"
          ]
        },
        {
          "name": "stderr",
          "output_type": "stream",
          "text": [
            "\n",
            "  0%|          | 0/1 [00:00<?, ?it/s]\u001b[A\n",
            "100%|██████████| 1/1 [00:00<00:00,  2.00it/s]\n",
            " 50%|█████     | 129/256 [11:11<12:02,  5.69s/it]"
          ]
        },
        {
          "name": "stdout",
          "output_type": "stream",
          "text": [
            "Outputs computed by the models\n",
            "(128, 128, 64)\n"
          ]
        },
        {
          "name": "stderr",
          "output_type": "stream",
          "text": [
            "\n",
            "  0%|          | 0/1 [00:00<?, ?it/s]\u001b[A\n",
            "100%|██████████| 1/1 [00:00<00:00,  1.99it/s]\n",
            " 51%|█████     | 130/256 [11:14<09:42,  4.62s/it]"
          ]
        },
        {
          "name": "stdout",
          "output_type": "stream",
          "text": [
            "Outputs computed by the models\n",
            "(128, 128, 64)\n"
          ]
        },
        {
          "name": "stderr",
          "output_type": "stream",
          "text": [
            "\n",
            "  0%|          | 0/3 [00:00<?, ?it/s]\u001b[A\n",
            " 33%|███▎      | 1/3 [00:00<00:00,  2.01it/s]\u001b[A\n",
            " 67%|██████▋   | 2/3 [00:01<00:00,  1.72it/s]\u001b[A\n",
            "100%|██████████| 3/3 [00:01<00:00,  1.70it/s]\n",
            " 51%|█████     | 131/256 [11:18<09:27,  4.54s/it]"
          ]
        },
        {
          "name": "stdout",
          "output_type": "stream",
          "text": [
            "Outputs computed by the models\n",
            "(128, 128, 64)\n"
          ]
        },
        {
          "name": "stderr",
          "output_type": "stream",
          "text": [
            "\n",
            "  0%|          | 0/1 [00:00<?, ?it/s]\u001b[A\n",
            "100%|██████████| 1/1 [00:00<00:00,  1.71it/s]\n",
            " 52%|█████▏    | 132/256 [11:21<08:10,  3.95s/it]"
          ]
        },
        {
          "name": "stdout",
          "output_type": "stream",
          "text": [
            "Outputs computed by the models\n",
            "(128, 128, 64)\n"
          ]
        },
        {
          "name": "stderr",
          "output_type": "stream",
          "text": [
            "\n",
            "  0%|          | 0/4 [00:00<?, ?it/s]\u001b[A\n",
            " 25%|██▌       | 1/4 [00:00<00:01,  2.02it/s]\u001b[A\n",
            " 50%|█████     | 2/4 [00:01<00:01,  1.75it/s]\u001b[A\n",
            " 75%|███████▌  | 3/4 [00:01<00:00,  1.70it/s]\u001b[A\n",
            "100%|██████████| 4/4 [00:02<00:00,  1.68it/s]\n",
            " 52%|█████▏    | 133/256 [11:25<08:15,  4.03s/it]"
          ]
        },
        {
          "name": "stdout",
          "output_type": "stream",
          "text": [
            "Outputs computed by the models\n",
            "(128, 128, 64)\n"
          ]
        },
        {
          "name": "stderr",
          "output_type": "stream",
          "text": [
            "\n",
            "  0%|          | 0/12 [00:00<?, ?it/s]\u001b[A\n",
            "  8%|▊         | 1/12 [00:00<00:05,  2.00it/s]\u001b[A\n",
            " 17%|█▋        | 2/12 [00:01<00:05,  1.72it/s]\u001b[A\n",
            " 25%|██▌       | 3/12 [00:01<00:05,  1.68it/s]\u001b[A\n",
            " 33%|███▎      | 4/12 [00:02<00:04,  1.64it/s]\u001b[A\n",
            " 42%|████▏     | 5/12 [00:03<00:04,  1.62it/s]\u001b[A\n",
            " 50%|█████     | 6/12 [00:03<00:03,  1.62it/s]\u001b[A\n",
            " 58%|█████▊    | 7/12 [00:04<00:03,  1.61it/s]\u001b[A\n",
            " 67%|██████▋   | 8/12 [00:04<00:02,  1.61it/s]\u001b[A\n",
            " 75%|███████▌  | 9/12 [00:05<00:01,  1.60it/s]\u001b[A\n",
            " 83%|████████▎ | 10/12 [00:06<00:01,  1.60it/s]\u001b[A\n",
            " 92%|█████████▏| 11/12 [00:06<00:00,  1.60it/s]\u001b[A\n",
            "100%|██████████| 12/12 [00:07<00:00,  1.62it/s]\n",
            " 52%|█████▏    | 134/256 [11:35<11:42,  5.76s/it]"
          ]
        },
        {
          "name": "stdout",
          "output_type": "stream",
          "text": [
            "Outputs computed by the models\n",
            "(128, 128, 64)\n"
          ]
        },
        {
          "name": "stderr",
          "output_type": "stream",
          "text": [
            "\n",
            "  0%|          | 0/3 [00:00<?, ?it/s]\u001b[A\n",
            " 33%|███▎      | 1/3 [00:00<00:01,  1.99it/s]\u001b[A\n",
            " 67%|██████▋   | 2/3 [00:01<00:00,  1.73it/s]\u001b[A\n",
            "100%|██████████| 3/3 [00:01<00:00,  1.72it/s]\n",
            " 53%|█████▎    | 135/256 [11:38<10:24,  5.16s/it]"
          ]
        },
        {
          "name": "stdout",
          "output_type": "stream",
          "text": [
            "Outputs computed by the models\n",
            "(128, 128, 64)\n"
          ]
        },
        {
          "name": "stderr",
          "output_type": "stream",
          "text": [
            "\n",
            "  0%|          | 0/1 [00:00<?, ?it/s]\u001b[A\n",
            "100%|██████████| 1/1 [00:00<00:00,  2.01it/s]\n",
            " 53%|█████▎    | 136/256 [11:40<08:31,  4.26s/it]"
          ]
        },
        {
          "name": "stdout",
          "output_type": "stream",
          "text": [
            "Outputs computed by the models\n",
            "(128, 128, 64)\n"
          ]
        },
        {
          "name": "stderr",
          "output_type": "stream",
          "text": [
            "\n",
            "  0%|          | 0/4 [00:00<?, ?it/s]\u001b[A\n",
            " 25%|██▌       | 1/4 [00:00<00:01,  2.01it/s]\u001b[A\n",
            " 50%|█████     | 2/4 [00:01<00:01,  1.73it/s]\u001b[A\n",
            " 75%|███████▌  | 3/4 [00:01<00:00,  1.69it/s]\u001b[A\n",
            "100%|██████████| 4/4 [00:02<00:00,  1.68it/s]\n",
            " 54%|█████▎    | 137/256 [11:45<08:45,  4.41s/it]"
          ]
        },
        {
          "name": "stdout",
          "output_type": "stream",
          "text": [
            "Outputs computed by the models\n",
            "(128, 128, 64)\n"
          ]
        },
        {
          "name": "stderr",
          "output_type": "stream",
          "text": [
            "\n",
            "  0%|          | 0/12 [00:00<?, ?it/s]\u001b[A\n",
            "  8%|▊         | 1/12 [00:00<00:06,  1.82it/s]\u001b[A\n",
            " 17%|█▋        | 2/12 [00:01<00:05,  1.70it/s]\u001b[A\n",
            " 25%|██▌       | 3/12 [00:01<00:05,  1.66it/s]\u001b[A\n",
            " 33%|███▎      | 4/12 [00:02<00:04,  1.65it/s]\u001b[A\n",
            " 42%|████▏     | 5/12 [00:03<00:04,  1.64it/s]\u001b[A\n",
            " 50%|█████     | 6/12 [00:03<00:03,  1.63it/s]\u001b[A\n",
            " 58%|█████▊    | 7/12 [00:04<00:03,  1.63it/s]\u001b[A\n",
            " 67%|██████▋   | 8/12 [00:04<00:02,  1.62it/s]\u001b[A\n",
            " 75%|███████▌  | 9/12 [00:05<00:01,  1.62it/s]\u001b[A\n",
            " 83%|████████▎ | 10/12 [00:06<00:01,  1.62it/s]\u001b[A\n",
            " 92%|█████████▏| 11/12 [00:06<00:00,  1.62it/s]\u001b[A\n",
            "100%|██████████| 12/12 [00:07<00:00,  1.63it/s]\n",
            " 54%|█████▍    | 138/256 [11:57<13:09,  6.69s/it]"
          ]
        },
        {
          "name": "stdout",
          "output_type": "stream",
          "text": [
            "Outputs computed by the models\n",
            "(128, 128, 64)\n"
          ]
        },
        {
          "name": "stderr",
          "output_type": "stream",
          "text": [
            "\n",
            "  0%|          | 0/1 [00:00<?, ?it/s]\u001b[A\n",
            "100%|██████████| 1/1 [00:00<00:00,  1.99it/s]\n",
            " 54%|█████▍    | 139/256 [12:00<10:44,  5.51s/it]"
          ]
        },
        {
          "name": "stdout",
          "output_type": "stream",
          "text": [
            "Outputs computed by the models\n",
            "(128, 128, 64)\n"
          ]
        },
        {
          "name": "stderr",
          "output_type": "stream",
          "text": [
            "\n",
            "  0%|          | 0/4 [00:00<?, ?it/s]\u001b[A\n",
            " 25%|██▌       | 1/4 [00:00<00:01,  1.77it/s]\u001b[A\n",
            " 50%|█████     | 2/4 [00:01<00:01,  1.67it/s]\u001b[A\n",
            " 75%|███████▌  | 3/4 [00:01<00:00,  1.64it/s]\u001b[A\n",
            "100%|██████████| 4/4 [00:02<00:00,  1.64it/s]\n",
            " 55%|█████▍    | 140/256 [12:05<10:24,  5.38s/it]"
          ]
        },
        {
          "name": "stdout",
          "output_type": "stream",
          "text": [
            "Outputs computed by the models\n",
            "(128, 128, 64)\n"
          ]
        },
        {
          "name": "stderr",
          "output_type": "stream",
          "text": [
            "\n",
            "  0%|          | 0/12 [00:00<?, ?it/s]\u001b[A\n",
            "  8%|▊         | 1/12 [00:00<00:05,  2.01it/s]\u001b[A\n",
            " 17%|█▋        | 2/12 [00:01<00:05,  1.73it/s]\u001b[A\n",
            " 25%|██▌       | 3/12 [00:01<00:05,  1.69it/s]\u001b[A\n",
            " 33%|███▎      | 4/12 [00:02<00:04,  1.65it/s]\u001b[A\n",
            " 42%|████▏     | 5/12 [00:03<00:04,  1.63it/s]\u001b[A\n",
            " 50%|█████     | 6/12 [00:03<00:03,  1.63it/s]\u001b[A\n",
            " 58%|█████▊    | 7/12 [00:04<00:03,  1.62it/s]\u001b[A\n",
            " 67%|██████▋   | 8/12 [00:04<00:02,  1.62it/s]\u001b[A\n",
            " 75%|███████▌  | 9/12 [00:05<00:01,  1.61it/s]\u001b[A\n",
            " 83%|████████▎ | 10/12 [00:06<00:01,  1.61it/s]\u001b[A\n",
            " 92%|█████████▏| 11/12 [00:06<00:00,  1.61it/s]\u001b[A\n",
            "100%|██████████| 12/12 [00:07<00:00,  1.63it/s]\n",
            " 55%|█████▌    | 141/256 [12:15<13:00,  6.78s/it]"
          ]
        },
        {
          "name": "stdout",
          "output_type": "stream",
          "text": [
            "Outputs computed by the models\n",
            "(128, 128, 64)\n"
          ]
        },
        {
          "name": "stderr",
          "output_type": "stream",
          "text": [
            "\n",
            "  0%|          | 0/4 [00:00<?, ?it/s]\u001b[A\n",
            " 25%|██▌       | 1/4 [00:00<00:01,  1.78it/s]\u001b[A\n",
            " 50%|█████     | 2/4 [00:01<00:01,  1.66it/s]\u001b[A\n",
            " 75%|███████▌  | 3/4 [00:01<00:00,  1.65it/s]\u001b[A\n",
            "100%|██████████| 4/4 [00:02<00:00,  1.64it/s]\n",
            " 55%|█████▌    | 142/256 [12:20<11:49,  6.22s/it]"
          ]
        },
        {
          "name": "stdout",
          "output_type": "stream",
          "text": [
            "Outputs computed by the models\n",
            "(128, 128, 64)\n"
          ]
        },
        {
          "name": "stderr",
          "output_type": "stream",
          "text": [
            "\n",
            "  0%|          | 0/12 [00:00<?, ?it/s]\u001b[A\n",
            "  8%|▊         | 1/12 [00:00<00:05,  2.01it/s]\u001b[A\n",
            " 17%|█▋        | 2/12 [00:01<00:05,  1.71it/s]\u001b[A\n",
            " 25%|██▌       | 3/12 [00:01<00:05,  1.68it/s]\u001b[A\n",
            " 33%|███▎      | 4/12 [00:02<00:04,  1.63it/s]\u001b[A\n",
            " 42%|████▏     | 5/12 [00:03<00:04,  1.61it/s]\u001b[A\n",
            " 50%|█████     | 6/12 [00:03<00:03,  1.61it/s]\u001b[A\n",
            " 58%|█████▊    | 7/12 [00:04<00:03,  1.60it/s]\u001b[A\n",
            " 67%|██████▋   | 8/12 [00:04<00:02,  1.60it/s]\u001b[A\n",
            " 75%|███████▌  | 9/12 [00:05<00:01,  1.60it/s]\u001b[A\n",
            " 83%|████████▎ | 10/12 [00:06<00:01,  1.59it/s]\u001b[A\n",
            " 92%|█████████▏| 11/12 [00:06<00:00,  1.59it/s]\u001b[A\n",
            "100%|██████████| 12/12 [00:07<00:00,  1.61it/s]\n",
            " 56%|█████▌    | 143/256 [12:30<13:54,  7.39s/it]"
          ]
        },
        {
          "name": "stdout",
          "output_type": "stream",
          "text": [
            "Outputs computed by the models\n",
            "(128, 128, 64)\n"
          ]
        },
        {
          "name": "stderr",
          "output_type": "stream",
          "text": [
            "\n",
            "  0%|          | 0/1 [00:00<?, ?it/s]\u001b[A\n",
            "100%|██████████| 1/1 [00:00<00:00,  1.97it/s]\n",
            " 56%|█████▋    | 144/256 [12:32<10:36,  5.68s/it]"
          ]
        },
        {
          "name": "stdout",
          "output_type": "stream",
          "text": [
            "Outputs computed by the models\n",
            "(128, 128, 64)\n"
          ]
        },
        {
          "name": "stderr",
          "output_type": "stream",
          "text": [
            "\n",
            "  0%|          | 0/1 [00:00<?, ?it/s]\u001b[A\n",
            "100%|██████████| 1/1 [00:00<00:00,  1.98it/s]\n",
            " 57%|█████▋    | 145/256 [12:34<08:35,  4.64s/it]"
          ]
        },
        {
          "name": "stdout",
          "output_type": "stream",
          "text": [
            "Outputs computed by the models\n",
            "(128, 128, 64)\n"
          ]
        },
        {
          "name": "stderr",
          "output_type": "stream",
          "text": [
            "\n",
            "  0%|          | 0/4 [00:00<?, ?it/s]\u001b[A\n",
            " 25%|██▌       | 1/4 [00:00<00:01,  2.00it/s]\u001b[A\n",
            " 50%|█████     | 2/4 [00:01<00:01,  1.73it/s]\u001b[A\n",
            " 75%|███████▌  | 3/4 [00:01<00:00,  1.68it/s]\u001b[A\n",
            "100%|██████████| 4/4 [00:02<00:00,  1.68it/s]\n",
            " 57%|█████▋    | 146/256 [12:38<08:18,  4.53s/it]"
          ]
        },
        {
          "name": "stdout",
          "output_type": "stream",
          "text": [
            "Outputs computed by the models\n",
            "(128, 128, 64)\n"
          ]
        },
        {
          "name": "stderr",
          "output_type": "stream",
          "text": [
            "\n",
            "  0%|          | 0/12 [00:00<?, ?it/s]\u001b[A\n",
            "  8%|▊         | 1/12 [00:00<00:05,  2.02it/s]\u001b[A\n",
            " 17%|█▋        | 2/12 [00:01<00:05,  1.72it/s]\u001b[A\n",
            " 25%|██▌       | 3/12 [00:01<00:05,  1.69it/s]\u001b[A\n",
            " 33%|███▎      | 4/12 [00:02<00:04,  1.65it/s]\u001b[A\n",
            " 42%|████▏     | 5/12 [00:03<00:04,  1.63it/s]\u001b[A\n",
            " 50%|█████     | 6/12 [00:03<00:03,  1.62it/s]\u001b[A\n",
            " 58%|█████▊    | 7/12 [00:04<00:03,  1.61it/s]\u001b[A\n",
            " 67%|██████▋   | 8/12 [00:04<00:02,  1.61it/s]\u001b[A\n",
            " 75%|███████▌  | 9/12 [00:05<00:01,  1.61it/s]\u001b[A\n",
            " 83%|████████▎ | 10/12 [00:06<00:01,  1.60it/s]\u001b[A\n",
            " 92%|█████████▏| 11/12 [00:06<00:00,  1.60it/s]\u001b[A\n",
            "100%|██████████| 12/12 [00:07<00:00,  1.63it/s]\n",
            " 57%|█████▋    | 147/256 [12:48<10:56,  6.02s/it]"
          ]
        },
        {
          "name": "stdout",
          "output_type": "stream",
          "text": [
            "Outputs computed by the models\n",
            "(128, 128, 64)\n"
          ]
        },
        {
          "name": "stderr",
          "output_type": "stream",
          "text": [
            "\n",
            "  0%|          | 0/1 [00:00<?, ?it/s]\u001b[A\n",
            "100%|██████████| 1/1 [00:00<00:00,  1.99it/s]\n",
            " 58%|█████▊    | 148/256 [12:50<08:47,  4.88s/it]"
          ]
        },
        {
          "name": "stdout",
          "output_type": "stream",
          "text": [
            "Outputs computed by the models\n",
            "(128, 128, 64)\n"
          ]
        },
        {
          "name": "stderr",
          "output_type": "stream",
          "text": [
            "\n",
            "  0%|          | 0/4 [00:00<?, ?it/s]\u001b[A\n",
            " 25%|██▌       | 1/4 [00:00<00:01,  1.99it/s]\u001b[A\n",
            " 50%|█████     | 2/4 [00:01<00:01,  1.72it/s]\u001b[A\n",
            " 75%|███████▌  | 3/4 [00:01<00:00,  1.68it/s]\u001b[A\n",
            "100%|██████████| 4/4 [00:02<00:00,  1.68it/s]\n",
            " 58%|█████▊    | 149/256 [12:54<08:23,  4.71s/it]"
          ]
        },
        {
          "name": "stdout",
          "output_type": "stream",
          "text": [
            "Outputs computed by the models\n",
            "(128, 128, 64)\n"
          ]
        },
        {
          "name": "stderr",
          "output_type": "stream",
          "text": [
            "\n",
            "  0%|          | 0/1 [00:00<?, ?it/s]\u001b[A\n",
            "100%|██████████| 1/1 [00:00<00:00,  1.98it/s]\n",
            " 59%|█████▊    | 150/256 [12:57<07:28,  4.23s/it]"
          ]
        },
        {
          "name": "stdout",
          "output_type": "stream",
          "text": [
            "Outputs computed by the models\n",
            "(128, 128, 64)\n"
          ]
        },
        {
          "name": "stderr",
          "output_type": "stream",
          "text": [
            "\n",
            "  0%|          | 0/3 [00:00<?, ?it/s]\u001b[A\n",
            " 33%|███▎      | 1/3 [00:00<00:01,  1.78it/s]\u001b[A\n",
            " 67%|██████▋   | 2/3 [00:01<00:00,  1.69it/s]\u001b[A\n",
            "100%|██████████| 3/3 [00:01<00:00,  1.67it/s]\n",
            " 59%|█████▉    | 151/256 [13:01<07:17,  4.16s/it]"
          ]
        },
        {
          "name": "stdout",
          "output_type": "stream",
          "text": [
            "Outputs computed by the models\n",
            "(128, 128, 64)\n"
          ]
        },
        {
          "name": "stderr",
          "output_type": "stream",
          "text": [
            "\n",
            "  0%|          | 0/12 [00:00<?, ?it/s]\u001b[A\n",
            "  8%|▊         | 1/12 [00:00<00:05,  2.01it/s]\u001b[A\n",
            " 17%|█▋        | 2/12 [00:01<00:05,  1.76it/s]\u001b[A\n",
            " 25%|██▌       | 3/12 [00:01<00:05,  1.71it/s]\u001b[A\n",
            " 33%|███▎      | 4/12 [00:02<00:04,  1.66it/s]\u001b[A\n",
            " 42%|████▏     | 5/12 [00:02<00:04,  1.65it/s]\u001b[A\n",
            " 50%|█████     | 6/12 [00:03<00:03,  1.64it/s]\u001b[A\n",
            " 58%|█████▊    | 7/12 [00:04<00:03,  1.63it/s]\u001b[A\n",
            " 67%|██████▋   | 8/12 [00:04<00:02,  1.63it/s]\u001b[A\n",
            " 75%|███████▌  | 9/12 [00:05<00:01,  1.62it/s]\u001b[A\n",
            " 83%|████████▎ | 10/12 [00:06<00:01,  1.62it/s]\u001b[A\n",
            " 92%|█████████▏| 11/12 [00:06<00:00,  1.62it/s]\u001b[A\n",
            "100%|██████████| 12/12 [00:07<00:00,  1.64it/s]\n",
            " 59%|█████▉    | 152/256 [13:11<10:15,  5.92s/it]"
          ]
        },
        {
          "name": "stdout",
          "output_type": "stream",
          "text": [
            "Outputs computed by the models\n",
            "(128, 128, 64)\n"
          ]
        },
        {
          "name": "stderr",
          "output_type": "stream",
          "text": [
            "\n",
            "  0%|          | 0/1 [00:00<?, ?it/s]\u001b[A\n",
            "100%|██████████| 1/1 [00:00<00:00,  1.75it/s]\n",
            " 60%|█████▉    | 153/256 [13:14<08:29,  4.95s/it]"
          ]
        },
        {
          "name": "stdout",
          "output_type": "stream",
          "text": [
            "Outputs computed by the models\n",
            "(128, 128, 64)\n"
          ]
        },
        {
          "name": "stderr",
          "output_type": "stream",
          "text": [
            "\n",
            "  0%|          | 0/4 [00:00<?, ?it/s]\u001b[A\n",
            " 25%|██▌       | 1/4 [00:00<00:01,  2.03it/s]\u001b[A\n",
            " 50%|█████     | 2/4 [00:01<00:01,  1.75it/s]\u001b[A\n",
            " 75%|███████▌  | 3/4 [00:01<00:00,  1.70it/s]\u001b[A\n",
            "100%|██████████| 4/4 [00:02<00:00,  1.70it/s]\n",
            " 60%|██████    | 154/256 [13:18<08:03,  4.74s/it]"
          ]
        },
        {
          "name": "stdout",
          "output_type": "stream",
          "text": [
            "Outputs computed by the models\n",
            "(128, 128, 64)\n"
          ]
        },
        {
          "name": "stderr",
          "output_type": "stream",
          "text": [
            "\n",
            "  0%|          | 0/4 [00:00<?, ?it/s]\u001b[A\n",
            " 25%|██▌       | 1/4 [00:00<00:01,  2.01it/s]\u001b[A\n",
            " 50%|█████     | 2/4 [00:01<00:01,  1.75it/s]\u001b[A\n",
            " 75%|███████▌  | 3/4 [00:01<00:00,  1.70it/s]\u001b[A\n",
            "100%|██████████| 4/4 [00:02<00:00,  1.69it/s]\n",
            " 61%|██████    | 155/256 [13:23<07:46,  4.62s/it]"
          ]
        },
        {
          "name": "stdout",
          "output_type": "stream",
          "text": [
            "Outputs computed by the models\n",
            "(128, 128, 64)\n"
          ]
        },
        {
          "name": "stderr",
          "output_type": "stream",
          "text": [
            "\n",
            "  0%|          | 0/4 [00:00<?, ?it/s]\u001b[A\n",
            " 25%|██▌       | 1/4 [00:00<00:01,  2.02it/s]\u001b[A\n",
            " 50%|█████     | 2/4 [00:01<00:01,  1.76it/s]\u001b[A\n",
            " 75%|███████▌  | 3/4 [00:01<00:00,  1.70it/s]\u001b[A\n",
            "100%|██████████| 4/4 [00:02<00:00,  1.70it/s]\n",
            " 61%|██████    | 156/256 [13:28<07:47,  4.67s/it]"
          ]
        },
        {
          "name": "stdout",
          "output_type": "stream",
          "text": [
            "Outputs computed by the models\n",
            "(128, 128, 64)\n"
          ]
        },
        {
          "name": "stderr",
          "output_type": "stream",
          "text": [
            "\n",
            "  0%|          | 0/4 [00:00<?, ?it/s]\u001b[A\n",
            " 25%|██▌       | 1/4 [00:00<00:01,  1.80it/s]\u001b[A\n",
            " 50%|█████     | 2/4 [00:01<00:01,  1.69it/s]\u001b[A\n",
            " 75%|███████▌  | 3/4 [00:01<00:00,  1.65it/s]\u001b[A\n",
            "100%|██████████| 4/4 [00:02<00:00,  1.65it/s]\n",
            " 61%|██████▏   | 157/256 [13:32<07:37,  4.62s/it]"
          ]
        },
        {
          "name": "stdout",
          "output_type": "stream",
          "text": [
            "Outputs computed by the models\n",
            "(128, 128, 64)\n"
          ]
        },
        {
          "name": "stderr",
          "output_type": "stream",
          "text": [
            "\n",
            "  0%|          | 0/4 [00:00<?, ?it/s]\u001b[A\n",
            " 25%|██▌       | 1/4 [00:00<00:01,  2.02it/s]\u001b[A\n",
            " 50%|█████     | 2/4 [00:01<00:01,  1.75it/s]\u001b[A\n",
            " 75%|███████▌  | 3/4 [00:01<00:00,  1.70it/s]\u001b[A\n",
            "100%|██████████| 4/4 [00:02<00:00,  1.70it/s]\n",
            " 62%|██████▏   | 158/256 [13:36<07:15,  4.45s/it]"
          ]
        },
        {
          "name": "stdout",
          "output_type": "stream",
          "text": [
            "Outputs computed by the models\n",
            "(128, 128, 64)\n"
          ]
        },
        {
          "name": "stderr",
          "output_type": "stream",
          "text": [
            "\n",
            "  0%|          | 0/1 [00:00<?, ?it/s]\u001b[A\n",
            "100%|██████████| 1/1 [00:00<00:00,  1.97it/s]\n",
            " 62%|██████▏   | 159/256 [13:39<06:20,  3.92s/it]"
          ]
        },
        {
          "name": "stdout",
          "output_type": "stream",
          "text": [
            "Outputs computed by the models\n",
            "(128, 128, 64)\n"
          ]
        },
        {
          "name": "stderr",
          "output_type": "stream",
          "text": [
            "\n",
            "  0%|          | 0/4 [00:00<?, ?it/s]\u001b[A\n",
            " 25%|██▌       | 1/4 [00:00<00:01,  1.84it/s]\u001b[A\n",
            " 50%|█████     | 2/4 [00:01<00:01,  1.70it/s]\u001b[A\n",
            " 75%|███████▌  | 3/4 [00:01<00:00,  1.66it/s]\u001b[A\n",
            "100%|██████████| 4/4 [00:02<00:00,  1.65it/s]\n",
            " 62%|██████▎   | 160/256 [13:44<07:01,  4.39s/it]"
          ]
        },
        {
          "name": "stdout",
          "output_type": "stream",
          "text": [
            "Outputs computed by the models\n",
            "(128, 128, 64)\n"
          ]
        },
        {
          "name": "stderr",
          "output_type": "stream",
          "text": [
            "\n",
            "  0%|          | 0/12 [00:00<?, ?it/s]\u001b[A\n",
            "  8%|▊         | 1/12 [00:00<00:05,  2.02it/s]\u001b[A\n",
            " 17%|█▋        | 2/12 [00:01<00:05,  1.74it/s]\u001b[A\n",
            " 25%|██▌       | 3/12 [00:01<00:05,  1.70it/s]\u001b[A\n",
            " 33%|███▎      | 4/12 [00:02<00:04,  1.65it/s]\u001b[A\n",
            " 42%|████▏     | 5/12 [00:02<00:04,  1.63it/s]\u001b[A\n",
            " 50%|█████     | 6/12 [00:03<00:03,  1.62it/s]\u001b[A\n",
            " 58%|█████▊    | 7/12 [00:04<00:03,  1.61it/s]\u001b[A\n",
            " 67%|██████▋   | 8/12 [00:04<00:02,  1.61it/s]\u001b[A\n",
            " 75%|███████▌  | 9/12 [00:05<00:01,  1.61it/s]\u001b[A\n",
            " 83%|████████▎ | 10/12 [00:06<00:01,  1.60it/s]\u001b[A\n",
            " 92%|█████████▏| 11/12 [00:06<00:00,  1.60it/s]\u001b[A\n",
            "100%|██████████| 12/12 [00:07<00:00,  1.63it/s]\n",
            " 63%|██████▎   | 161/256 [13:54<09:41,  6.13s/it]"
          ]
        },
        {
          "name": "stdout",
          "output_type": "stream",
          "text": [
            "Outputs computed by the models\n",
            "(128, 128, 64)\n"
          ]
        },
        {
          "name": "stderr",
          "output_type": "stream",
          "text": [
            "\n",
            "  0%|          | 0/1 [00:00<?, ?it/s]\u001b[A\n",
            "100%|██████████| 1/1 [00:00<00:00,  1.81it/s]\n",
            " 63%|██████▎   | 162/256 [13:57<07:54,  5.04s/it]"
          ]
        },
        {
          "name": "stdout",
          "output_type": "stream",
          "text": [
            "Outputs computed by the models\n",
            "(128, 128, 64)\n"
          ]
        },
        {
          "name": "stderr",
          "output_type": "stream",
          "text": [
            "\n",
            "  0%|          | 0/1 [00:00<?, ?it/s]\u001b[A\n",
            "100%|██████████| 1/1 [00:00<00:00,  1.97it/s]\n",
            " 64%|██████▎   | 163/256 [13:59<06:32,  4.22s/it]"
          ]
        },
        {
          "name": "stdout",
          "output_type": "stream",
          "text": [
            "Outputs computed by the models\n",
            "(128, 128, 64)\n"
          ]
        },
        {
          "name": "stderr",
          "output_type": "stream",
          "text": [
            "\n",
            "  0%|          | 0/12 [00:00<?, ?it/s]\u001b[A\n",
            "  8%|▊         | 1/12 [00:00<00:05,  2.00it/s]\u001b[A\n",
            " 17%|█▋        | 2/12 [00:01<00:05,  1.72it/s]\u001b[A\n",
            " 25%|██▌       | 3/12 [00:01<00:05,  1.68it/s]\u001b[A\n",
            " 33%|███▎      | 4/12 [00:02<00:04,  1.64it/s]\u001b[A\n",
            " 42%|████▏     | 5/12 [00:03<00:04,  1.63it/s]\u001b[A\n",
            " 50%|█████     | 6/12 [00:03<00:03,  1.62it/s]\u001b[A\n",
            " 58%|█████▊    | 7/12 [00:04<00:03,  1.61it/s]\u001b[A\n",
            " 67%|██████▋   | 8/12 [00:04<00:02,  1.60it/s]\u001b[A\n",
            " 75%|███████▌  | 9/12 [00:05<00:01,  1.60it/s]\u001b[A\n",
            " 83%|████████▎ | 10/12 [00:06<00:01,  1.59it/s]\u001b[A\n",
            " 92%|█████████▏| 11/12 [00:06<00:00,  1.59it/s]\u001b[A\n",
            "100%|██████████| 12/12 [00:07<00:00,  1.62it/s]\n",
            " 64%|██████▍   | 164/256 [14:09<09:04,  5.92s/it]"
          ]
        },
        {
          "name": "stdout",
          "output_type": "stream",
          "text": [
            "Outputs computed by the models\n",
            "(128, 128, 64)\n"
          ]
        },
        {
          "name": "stderr",
          "output_type": "stream",
          "text": [
            "\n",
            "  0%|          | 0/12 [00:00<?, ?it/s]\u001b[A\n",
            "  8%|▊         | 1/12 [00:00<00:06,  1.76it/s]\u001b[A\n",
            " 17%|█▋        | 2/12 [00:01<00:06,  1.66it/s]\u001b[A\n",
            " 25%|██▌       | 3/12 [00:01<00:05,  1.64it/s]\u001b[A\n",
            " 33%|███▎      | 4/12 [00:02<00:04,  1.62it/s]\u001b[A\n",
            " 42%|████▏     | 5/12 [00:03<00:04,  1.61it/s]\u001b[A\n",
            " 50%|█████     | 6/12 [00:03<00:03,  1.61it/s]\u001b[A\n",
            " 58%|█████▊    | 7/12 [00:04<00:03,  1.60it/s]\u001b[A\n",
            " 67%|██████▋   | 8/12 [00:04<00:02,  1.60it/s]\u001b[A\n",
            " 75%|███████▌  | 9/12 [00:05<00:01,  1.60it/s]\u001b[A\n",
            " 83%|████████▎ | 10/12 [00:06<00:01,  1.59it/s]\u001b[A\n",
            " 92%|█████████▏| 11/12 [00:06<00:00,  1.59it/s]\u001b[A\n",
            "100%|██████████| 12/12 [00:07<00:00,  1.61it/s]\n",
            " 64%|██████▍   | 165/256 [14:19<10:43,  7.07s/it]"
          ]
        },
        {
          "name": "stdout",
          "output_type": "stream",
          "text": [
            "Outputs computed by the models\n",
            "(128, 128, 64)\n"
          ]
        },
        {
          "name": "stderr",
          "output_type": "stream",
          "text": [
            "\n",
            "  0%|          | 0/12 [00:00<?, ?it/s]\u001b[A\n",
            "  8%|▊         | 1/12 [00:00<00:06,  1.80it/s]\u001b[A\n",
            " 17%|█▋        | 2/12 [00:01<00:05,  1.68it/s]\u001b[A\n",
            " 25%|██▌       | 3/12 [00:01<00:05,  1.65it/s]\u001b[A\n",
            " 33%|███▎      | 4/12 [00:02<00:04,  1.63it/s]\u001b[A\n",
            " 42%|████▏     | 5/12 [00:03<00:04,  1.62it/s]\u001b[A\n",
            " 50%|█████     | 6/12 [00:03<00:03,  1.61it/s]\u001b[A\n",
            " 58%|█████▊    | 7/12 [00:04<00:03,  1.61it/s]\u001b[A\n",
            " 67%|██████▋   | 8/12 [00:04<00:02,  1.61it/s]\u001b[A\n",
            " 75%|███████▌  | 9/12 [00:05<00:01,  1.60it/s]\u001b[A\n",
            " 83%|████████▎ | 10/12 [00:06<00:01,  1.61it/s]\u001b[A\n",
            " 92%|█████████▏| 11/12 [00:06<00:00,  1.60it/s]\u001b[A\n",
            "100%|██████████| 12/12 [00:07<00:00,  1.62it/s]\n",
            " 65%|██████▍   | 166/256 [14:29<11:58,  7.98s/it]"
          ]
        },
        {
          "name": "stdout",
          "output_type": "stream",
          "text": [
            "Outputs computed by the models\n",
            "(128, 128, 64)\n"
          ]
        },
        {
          "name": "stderr",
          "output_type": "stream",
          "text": [
            "\n",
            "  0%|          | 0/12 [00:00<?, ?it/s]\u001b[A\n",
            "  8%|▊         | 1/12 [00:00<00:05,  1.95it/s]\u001b[A\n",
            " 17%|█▋        | 2/12 [00:01<00:05,  1.74it/s]\u001b[A\n",
            " 25%|██▌       | 3/12 [00:01<00:05,  1.68it/s]\u001b[A\n",
            " 33%|███▎      | 4/12 [00:02<00:04,  1.64it/s]\u001b[A\n",
            " 42%|████▏     | 5/12 [00:03<00:04,  1.62it/s]\u001b[A\n",
            " 50%|█████     | 6/12 [00:03<00:03,  1.62it/s]\u001b[A\n",
            " 58%|█████▊    | 7/12 [00:04<00:03,  1.62it/s]\u001b[A\n",
            " 67%|██████▋   | 8/12 [00:04<00:02,  1.61it/s]\u001b[A\n",
            " 75%|███████▌  | 9/12 [00:05<00:01,  1.61it/s]\u001b[A\n",
            " 83%|████████▎ | 10/12 [00:06<00:01,  1.61it/s]\u001b[A\n",
            " 92%|█████████▏| 11/12 [00:06<00:00,  1.61it/s]\u001b[A\n",
            "100%|██████████| 12/12 [00:07<00:00,  1.63it/s]\n",
            " 65%|██████▌   | 167/256 [14:39<12:34,  8.48s/it]"
          ]
        },
        {
          "name": "stdout",
          "output_type": "stream",
          "text": [
            "Outputs computed by the models\n",
            "(128, 128, 64)\n"
          ]
        },
        {
          "name": "stderr",
          "output_type": "stream",
          "text": [
            "\n",
            "  0%|          | 0/4 [00:00<?, ?it/s]\u001b[A\n",
            " 25%|██▌       | 1/4 [00:00<00:01,  2.05it/s]\u001b[A\n",
            " 50%|█████     | 2/4 [00:01<00:01,  1.76it/s]\u001b[A\n",
            " 75%|███████▌  | 3/4 [00:01<00:00,  1.72it/s]\u001b[A\n",
            "100%|██████████| 4/4 [00:02<00:00,  1.71it/s]\n",
            " 66%|██████▌   | 168/256 [14:43<10:31,  7.18s/it]"
          ]
        },
        {
          "name": "stdout",
          "output_type": "stream",
          "text": [
            "Outputs computed by the models\n",
            "(128, 128, 64)\n"
          ]
        },
        {
          "name": "stderr",
          "output_type": "stream",
          "text": [
            "\n",
            "  0%|          | 0/12 [00:00<?, ?it/s]\u001b[A\n",
            "  8%|▊         | 1/12 [00:00<00:05,  1.90it/s]\u001b[A\n",
            " 17%|█▋        | 2/12 [00:01<00:05,  1.73it/s]\u001b[A\n",
            " 25%|██▌       | 3/12 [00:01<00:05,  1.68it/s]\u001b[A\n",
            " 33%|███▎      | 4/12 [00:02<00:04,  1.65it/s]\u001b[A\n",
            " 42%|████▏     | 5/12 [00:02<00:04,  1.64it/s]\u001b[A\n",
            " 50%|█████     | 6/12 [00:03<00:03,  1.63it/s]\u001b[A\n",
            " 58%|█████▊    | 7/12 [00:04<00:03,  1.63it/s]\u001b[A\n",
            " 67%|██████▋   | 8/12 [00:04<00:02,  1.62it/s]\u001b[A\n",
            " 75%|███████▌  | 9/12 [00:05<00:01,  1.62it/s]\u001b[A\n",
            " 83%|████████▎ | 10/12 [00:06<00:01,  1.62it/s]\u001b[A\n",
            " 92%|█████████▏| 11/12 [00:06<00:00,  1.62it/s]\u001b[A\n",
            "100%|██████████| 12/12 [00:07<00:00,  1.64it/s]\n",
            " 66%|██████▌   | 169/256 [14:52<11:28,  7.92s/it]"
          ]
        },
        {
          "name": "stdout",
          "output_type": "stream",
          "text": [
            "Outputs computed by the models\n",
            "(128, 128, 64)\n"
          ]
        },
        {
          "name": "stderr",
          "output_type": "stream",
          "text": [
            "\n",
            "  0%|          | 0/4 [00:00<?, ?it/s]\u001b[A\n",
            " 25%|██▌       | 1/4 [00:00<00:01,  2.01it/s]\u001b[A\n",
            " 50%|█████     | 2/4 [00:01<00:01,  1.76it/s]\u001b[A\n",
            " 75%|███████▌  | 3/4 [00:01<00:00,  1.71it/s]\u001b[A\n",
            "100%|██████████| 4/4 [00:02<00:00,  1.70it/s]\n",
            " 66%|██████▋   | 170/256 [14:57<10:06,  7.05s/it]"
          ]
        },
        {
          "name": "stdout",
          "output_type": "stream",
          "text": [
            "Outputs computed by the models\n",
            "(128, 128, 64)\n"
          ]
        },
        {
          "name": "stderr",
          "output_type": "stream",
          "text": [
            "\n",
            "  0%|          | 0/12 [00:00<?, ?it/s]\u001b[A\n",
            "  8%|▊         | 1/12 [00:00<00:06,  1.77it/s]\u001b[A\n",
            " 17%|█▋        | 2/12 [00:01<00:05,  1.69it/s]\u001b[A\n",
            " 25%|██▌       | 3/12 [00:01<00:05,  1.66it/s]\u001b[A\n",
            " 33%|███▎      | 4/12 [00:02<00:04,  1.64it/s]\u001b[A\n",
            " 42%|████▏     | 5/12 [00:03<00:04,  1.64it/s]\u001b[A\n",
            " 50%|█████     | 6/12 [00:03<00:03,  1.63it/s]\u001b[A\n",
            " 58%|█████▊    | 7/12 [00:04<00:03,  1.63it/s]\u001b[A\n",
            " 67%|██████▋   | 8/12 [00:04<00:02,  1.63it/s]\u001b[A\n",
            " 75%|███████▌  | 9/12 [00:05<00:01,  1.63it/s]\u001b[A\n",
            " 83%|████████▎ | 10/12 [00:06<00:01,  1.63it/s]\u001b[A\n",
            " 92%|█████████▏| 11/12 [00:06<00:00,  1.63it/s]\u001b[A\n",
            "100%|██████████| 12/12 [00:07<00:00,  1.64it/s]\n",
            " 67%|██████▋   | 171/256 [15:07<11:06,  7.84s/it]"
          ]
        },
        {
          "name": "stdout",
          "output_type": "stream",
          "text": [
            "Outputs computed by the models\n",
            "(128, 128, 64)\n"
          ]
        },
        {
          "name": "stderr",
          "output_type": "stream",
          "text": [
            "\n",
            "  0%|          | 0/4 [00:00<?, ?it/s]\u001b[A\n",
            " 25%|██▌       | 1/4 [00:00<00:01,  2.01it/s]\u001b[A\n",
            " 50%|█████     | 2/4 [00:01<00:01,  1.75it/s]\u001b[A\n",
            " 75%|███████▌  | 3/4 [00:01<00:00,  1.70it/s]\u001b[A\n",
            "100%|██████████| 4/4 [00:02<00:00,  1.70it/s]\n",
            " 67%|██████▋   | 172/256 [15:11<09:30,  6.79s/it]"
          ]
        },
        {
          "name": "stdout",
          "output_type": "stream",
          "text": [
            "Outputs computed by the models\n",
            "(128, 128, 64)\n"
          ]
        },
        {
          "name": "stderr",
          "output_type": "stream",
          "text": [
            "\n",
            "  0%|          | 0/4 [00:00<?, ?it/s]\u001b[A\n",
            " 25%|██▌       | 1/4 [00:00<00:01,  2.03it/s]\u001b[A\n",
            " 50%|█████     | 2/4 [00:01<00:01,  1.75it/s]\u001b[A\n",
            " 75%|███████▌  | 3/4 [00:01<00:00,  1.70it/s]\u001b[A\n",
            "100%|██████████| 4/4 [00:02<00:00,  1.70it/s]\n",
            " 68%|██████▊   | 173/256 [15:16<08:20,  6.03s/it]"
          ]
        },
        {
          "name": "stdout",
          "output_type": "stream",
          "text": [
            "Outputs computed by the models\n",
            "(128, 128, 64)\n"
          ]
        },
        {
          "name": "stderr",
          "output_type": "stream",
          "text": [
            "\n",
            "  0%|          | 0/1 [00:00<?, ?it/s]\u001b[A\n",
            "100%|██████████| 1/1 [00:00<00:00,  2.00it/s]\n",
            " 68%|██████▊   | 174/256 [15:19<07:07,  5.22s/it]"
          ]
        },
        {
          "name": "stdout",
          "output_type": "stream",
          "text": [
            "Outputs computed by the models\n",
            "(128, 128, 64)\n"
          ]
        },
        {
          "name": "stderr",
          "output_type": "stream",
          "text": [
            "\n",
            "  0%|          | 0/1 [00:00<?, ?it/s]\u001b[A\n",
            "100%|██████████| 1/1 [00:00<00:00,  1.77it/s]\n",
            " 68%|██████▊   | 175/256 [15:22<06:06,  4.52s/it]"
          ]
        },
        {
          "name": "stdout",
          "output_type": "stream",
          "text": [
            "Outputs computed by the models\n",
            "(128, 128, 64)\n"
          ]
        },
        {
          "name": "stderr",
          "output_type": "stream",
          "text": [
            "\n",
            "  0%|          | 0/3 [00:00<?, ?it/s]\u001b[A\n",
            " 33%|███▎      | 1/3 [00:00<00:00,  2.02it/s]\u001b[A\n",
            " 67%|██████▋   | 2/3 [00:01<00:00,  1.74it/s]\u001b[A\n",
            "100%|██████████| 3/3 [00:01<00:00,  1.74it/s]\n",
            " 69%|██████▉   | 176/256 [15:26<05:44,  4.31s/it]"
          ]
        },
        {
          "name": "stdout",
          "output_type": "stream",
          "text": [
            "Outputs computed by the models\n",
            "(128, 128, 64)\n"
          ]
        },
        {
          "name": "stderr",
          "output_type": "stream",
          "text": [
            "\n",
            "  0%|          | 0/12 [00:00<?, ?it/s]\u001b[A\n",
            "  8%|▊         | 1/12 [00:00<00:06,  1.83it/s]\u001b[A\n",
            " 17%|█▋        | 2/12 [00:01<00:05,  1.69it/s]\u001b[A\n",
            " 25%|██▌       | 3/12 [00:01<00:05,  1.67it/s]\u001b[A\n",
            " 33%|███▎      | 4/12 [00:02<00:04,  1.65it/s]\u001b[A\n",
            " 42%|████▏     | 5/12 [00:03<00:04,  1.64it/s]\u001b[A\n",
            " 50%|█████     | 6/12 [00:03<00:03,  1.63it/s]\u001b[A\n",
            " 58%|█████▊    | 7/12 [00:04<00:03,  1.62it/s]\u001b[A\n",
            " 67%|██████▋   | 8/12 [00:04<00:02,  1.62it/s]\u001b[A\n",
            " 75%|███████▌  | 9/12 [00:05<00:01,  1.62it/s]\u001b[A\n",
            " 83%|████████▎ | 10/12 [00:06<00:01,  1.61it/s]\u001b[A\n",
            " 92%|█████████▏| 11/12 [00:06<00:00,  1.61it/s]\u001b[A\n",
            "100%|██████████| 12/12 [00:07<00:00,  1.63it/s]\n",
            " 69%|██████▉   | 177/256 [15:35<07:48,  5.93s/it]"
          ]
        },
        {
          "name": "stdout",
          "output_type": "stream",
          "text": [
            "Outputs computed by the models\n",
            "(128, 128, 64)\n"
          ]
        },
        {
          "name": "stderr",
          "output_type": "stream",
          "text": [
            "\n",
            "  0%|          | 0/4 [00:00<?, ?it/s]\u001b[A\n",
            " 25%|██▌       | 1/4 [00:00<00:01,  2.02it/s]\u001b[A\n",
            " 50%|█████     | 2/4 [00:01<00:01,  1.73it/s]\u001b[A\n",
            " 75%|███████▌  | 3/4 [00:01<00:00,  1.70it/s]\u001b[A\n",
            "100%|██████████| 4/4 [00:02<00:00,  1.69it/s]\n",
            " 70%|██████▉   | 178/256 [15:40<07:00,  5.40s/it]"
          ]
        },
        {
          "name": "stdout",
          "output_type": "stream",
          "text": [
            "Outputs computed by the models\n",
            "(128, 128, 64)\n"
          ]
        },
        {
          "name": "stderr",
          "output_type": "stream",
          "text": [
            "\n",
            "  0%|          | 0/12 [00:00<?, ?it/s]\u001b[A\n",
            "  8%|▊         | 1/12 [00:00<00:06,  1.80it/s]\u001b[A\n",
            " 17%|█▋        | 2/12 [00:01<00:05,  1.67it/s]\u001b[A\n",
            " 25%|██▌       | 3/12 [00:01<00:05,  1.65it/s]\u001b[A\n",
            " 33%|███▎      | 4/12 [00:02<00:04,  1.62it/s]\u001b[A\n",
            " 42%|████▏     | 5/12 [00:03<00:04,  1.62it/s]\u001b[A\n",
            " 50%|█████     | 6/12 [00:03<00:03,  1.61it/s]\u001b[A\n",
            " 58%|█████▊    | 7/12 [00:04<00:03,  1.60it/s]\u001b[A\n",
            " 67%|██████▋   | 8/12 [00:04<00:02,  1.60it/s]\u001b[A\n",
            " 75%|███████▌  | 9/12 [00:05<00:01,  1.60it/s]\u001b[A\n",
            " 83%|████████▎ | 10/12 [00:06<00:01,  1.59it/s]\u001b[A\n",
            " 92%|█████████▏| 11/12 [00:06<00:00,  1.59it/s]\u001b[A\n",
            "100%|██████████| 12/12 [00:07<00:00,  1.61it/s]\n",
            " 70%|██████▉   | 179/256 [15:50<08:56,  6.97s/it]"
          ]
        },
        {
          "name": "stdout",
          "output_type": "stream",
          "text": [
            "Outputs computed by the models\n",
            "(128, 128, 64)\n"
          ]
        },
        {
          "name": "stderr",
          "output_type": "stream",
          "text": [
            "\n",
            "  0%|          | 0/4 [00:00<?, ?it/s]\u001b[A\n",
            " 25%|██▌       | 1/4 [00:00<00:01,  1.99it/s]\u001b[A\n",
            " 50%|█████     | 2/4 [00:01<00:01,  1.72it/s]\u001b[A\n",
            " 75%|███████▌  | 3/4 [00:01<00:00,  1.67it/s]\u001b[A\n",
            "100%|██████████| 4/4 [00:02<00:00,  1.66it/s]\n",
            " 70%|███████   | 180/256 [15:55<07:54,  6.24s/it]"
          ]
        },
        {
          "name": "stdout",
          "output_type": "stream",
          "text": [
            "Outputs computed by the models\n",
            "(128, 128, 64)\n"
          ]
        },
        {
          "name": "stderr",
          "output_type": "stream",
          "text": [
            "\n",
            "  0%|          | 0/12 [00:00<?, ?it/s]\u001b[A\n",
            "  8%|▊         | 1/12 [00:00<00:05,  2.01it/s]\u001b[A\n",
            " 17%|█▋        | 2/12 [00:01<00:05,  1.72it/s]\u001b[A\n",
            " 25%|██▌       | 3/12 [00:01<00:05,  1.69it/s]\u001b[A\n",
            " 33%|███▎      | 4/12 [00:02<00:04,  1.64it/s]\u001b[A\n",
            " 42%|████▏     | 5/12 [00:03<00:04,  1.62it/s]\u001b[A\n",
            " 50%|█████     | 6/12 [00:03<00:03,  1.61it/s]\u001b[A\n",
            " 58%|█████▊    | 7/12 [00:04<00:03,  1.60it/s]\u001b[A\n",
            " 67%|██████▋   | 8/12 [00:04<00:02,  1.59it/s]\u001b[A\n",
            " 75%|███████▌  | 9/12 [00:05<00:01,  1.60it/s]\u001b[A\n",
            " 83%|████████▎ | 10/12 [00:06<00:01,  1.60it/s]\u001b[A\n",
            " 92%|█████████▏| 11/12 [00:06<00:00,  1.60it/s]\u001b[A\n",
            "100%|██████████| 12/12 [00:07<00:00,  1.62it/s]\n",
            " 71%|███████   | 181/256 [16:04<09:04,  7.26s/it]"
          ]
        },
        {
          "name": "stdout",
          "output_type": "stream",
          "text": [
            "Outputs computed by the models\n",
            "(128, 128, 64)\n"
          ]
        },
        {
          "name": "stderr",
          "output_type": "stream",
          "text": [
            "\n",
            "  0%|          | 0/4 [00:00<?, ?it/s]\u001b[A\n",
            " 25%|██▌       | 1/4 [00:00<00:01,  2.02it/s]\u001b[A\n",
            " 50%|█████     | 2/4 [00:01<00:01,  1.75it/s]\u001b[A\n",
            " 75%|███████▌  | 3/4 [00:01<00:00,  1.70it/s]\u001b[A\n",
            "100%|██████████| 4/4 [00:02<00:00,  1.70it/s]\n",
            " 71%|███████   | 182/256 [16:09<07:47,  6.32s/it]"
          ]
        },
        {
          "name": "stdout",
          "output_type": "stream",
          "text": [
            "Outputs computed by the models\n",
            "(128, 128, 64)\n"
          ]
        },
        {
          "name": "stderr",
          "output_type": "stream",
          "text": [
            "\n",
            "  0%|          | 0/1 [00:00<?, ?it/s]\u001b[A\n",
            "100%|██████████| 1/1 [00:00<00:00,  1.98it/s]\n",
            " 71%|███████▏  | 183/256 [16:11<06:14,  5.13s/it]"
          ]
        },
        {
          "name": "stdout",
          "output_type": "stream",
          "text": [
            "Outputs computed by the models\n",
            "(128, 128, 64)\n"
          ]
        },
        {
          "name": "stderr",
          "output_type": "stream",
          "text": [
            "\n",
            "  0%|          | 0/1 [00:00<?, ?it/s]\u001b[A\n",
            "100%|██████████| 1/1 [00:00<00:00,  2.01it/s]\n",
            " 72%|███████▏  | 184/256 [16:13<05:08,  4.28s/it]"
          ]
        },
        {
          "name": "stdout",
          "output_type": "stream",
          "text": [
            "Outputs computed by the models\n",
            "(128, 128, 64)\n"
          ]
        },
        {
          "name": "stderr",
          "output_type": "stream",
          "text": [
            "\n",
            "  0%|          | 0/3 [00:00<?, ?it/s]\u001b[A\n",
            " 33%|███▎      | 1/3 [00:00<00:00,  2.01it/s]\u001b[A\n",
            " 67%|██████▋   | 2/3 [00:01<00:00,  1.75it/s]\u001b[A\n",
            "100%|██████████| 3/3 [00:01<00:00,  1.73it/s]\n",
            " 72%|███████▏  | 185/256 [16:18<05:06,  4.32s/it]"
          ]
        },
        {
          "name": "stdout",
          "output_type": "stream",
          "text": [
            "Outputs computed by the models\n",
            "(128, 128, 64)\n"
          ]
        },
        {
          "name": "stderr",
          "output_type": "stream",
          "text": [
            "\n",
            "  0%|          | 0/4 [00:00<?, ?it/s]\u001b[A\n",
            " 25%|██▌       | 1/4 [00:00<00:01,  1.78it/s]\u001b[A\n",
            " 50%|█████     | 2/4 [00:01<00:01,  1.69it/s]\u001b[A\n",
            " 75%|███████▌  | 3/4 [00:01<00:00,  1.66it/s]\u001b[A\n",
            "100%|██████████| 4/4 [00:02<00:00,  1.65it/s]\n",
            " 73%|███████▎  | 186/256 [16:22<05:04,  4.34s/it]"
          ]
        },
        {
          "name": "stdout",
          "output_type": "stream",
          "text": [
            "Outputs computed by the models\n",
            "(128, 128, 64)\n"
          ]
        },
        {
          "name": "stderr",
          "output_type": "stream",
          "text": [
            "\n",
            "  0%|          | 0/4 [00:00<?, ?it/s]\u001b[A\n",
            " 25%|██▌       | 1/4 [00:00<00:01,  2.02it/s]\u001b[A\n",
            " 50%|█████     | 2/4 [00:01<00:01,  1.74it/s]\u001b[A\n",
            " 75%|███████▌  | 3/4 [00:01<00:00,  1.70it/s]\u001b[A\n",
            "100%|██████████| 4/4 [00:02<00:00,  1.69it/s]\n",
            " 73%|███████▎  | 187/256 [16:26<05:00,  4.35s/it]"
          ]
        },
        {
          "name": "stdout",
          "output_type": "stream",
          "text": [
            "Outputs computed by the models\n",
            "(128, 128, 64)\n"
          ]
        },
        {
          "name": "stderr",
          "output_type": "stream",
          "text": [
            "\n",
            "  0%|          | 0/4 [00:00<?, ?it/s]\u001b[A\n",
            " 25%|██▌       | 1/4 [00:00<00:01,  1.98it/s]\u001b[A\n",
            " 50%|█████     | 2/4 [00:01<00:01,  1.75it/s]\u001b[A\n",
            " 75%|███████▌  | 3/4 [00:01<00:00,  1.69it/s]\u001b[A\n",
            "100%|██████████| 4/4 [00:02<00:00,  1.69it/s]\n",
            " 73%|███████▎  | 188/256 [16:31<05:07,  4.53s/it]"
          ]
        },
        {
          "name": "stdout",
          "output_type": "stream",
          "text": [
            "Outputs computed by the models\n",
            "(128, 128, 64)\n"
          ]
        },
        {
          "name": "stderr",
          "output_type": "stream",
          "text": [
            "\n",
            "  0%|          | 0/4 [00:00<?, ?it/s]\u001b[A\n",
            " 25%|██▌       | 1/4 [00:00<00:01,  1.78it/s]\u001b[A\n",
            " 50%|█████     | 2/4 [00:01<00:01,  1.70it/s]\u001b[A\n",
            " 75%|███████▌  | 3/4 [00:01<00:00,  1.68it/s]\u001b[A\n",
            "100%|██████████| 4/4 [00:02<00:00,  1.67it/s]\n",
            " 74%|███████▍  | 189/256 [16:36<05:01,  4.49s/it]"
          ]
        },
        {
          "name": "stdout",
          "output_type": "stream",
          "text": [
            "Outputs computed by the models\n",
            "(128, 128, 64)\n"
          ]
        },
        {
          "name": "stderr",
          "output_type": "stream",
          "text": [
            "\n",
            "  0%|          | 0/4 [00:00<?, ?it/s]\u001b[A\n",
            " 25%|██▌       | 1/4 [00:00<00:01,  2.03it/s]\u001b[A\n",
            " 50%|█████     | 2/4 [00:01<00:01,  1.76it/s]\u001b[A\n",
            " 75%|███████▌  | 3/4 [00:01<00:00,  1.71it/s]\u001b[A\n",
            "100%|██████████| 4/4 [00:02<00:00,  1.71it/s]\n",
            " 74%|███████▍  | 190/256 [16:40<04:48,  4.38s/it]"
          ]
        },
        {
          "name": "stdout",
          "output_type": "stream",
          "text": [
            "Outputs computed by the models\n",
            "(128, 128, 64)\n"
          ]
        },
        {
          "name": "stderr",
          "output_type": "stream",
          "text": [
            "\n",
            "  0%|          | 0/3 [00:00<?, ?it/s]\u001b[A\n",
            " 33%|███▎      | 1/3 [00:00<00:00,  2.02it/s]\u001b[A\n",
            " 67%|██████▋   | 2/3 [00:01<00:00,  1.74it/s]\u001b[A\n",
            "100%|██████████| 3/3 [00:01<00:00,  1.72it/s]\n",
            " 75%|███████▍  | 191/256 [16:44<04:47,  4.42s/it]"
          ]
        },
        {
          "name": "stdout",
          "output_type": "stream",
          "text": [
            "Outputs computed by the models\n",
            "(128, 128, 64)\n"
          ]
        },
        {
          "name": "stderr",
          "output_type": "stream",
          "text": [
            "\n",
            "  0%|          | 0/4 [00:00<?, ?it/s]\u001b[A\n",
            " 25%|██▌       | 1/4 [00:00<00:01,  1.85it/s]\u001b[A\n",
            " 50%|█████     | 2/4 [00:01<00:01,  1.72it/s]\u001b[A\n",
            " 75%|███████▌  | 3/4 [00:01<00:00,  1.68it/s]\u001b[A\n",
            "100%|██████████| 4/4 [00:02<00:00,  1.68it/s]\n",
            " 75%|███████▌  | 192/256 [16:49<04:48,  4.52s/it]"
          ]
        },
        {
          "name": "stdout",
          "output_type": "stream",
          "text": [
            "Outputs computed by the models\n",
            "(128, 128, 64)\n"
          ]
        },
        {
          "name": "stderr",
          "output_type": "stream",
          "text": [
            "\n",
            "  0%|          | 0/4 [00:00<?, ?it/s]\u001b[A\n",
            " 25%|██▌       | 1/4 [00:00<00:01,  2.02it/s]\u001b[A\n",
            " 50%|█████     | 2/4 [00:01<00:01,  1.74it/s]\u001b[A\n",
            " 75%|███████▌  | 3/4 [00:01<00:00,  1.69it/s]\u001b[A\n",
            "100%|██████████| 4/4 [00:02<00:00,  1.68it/s]\n",
            " 75%|███████▌  | 193/256 [16:54<04:41,  4.48s/it]"
          ]
        },
        {
          "name": "stdout",
          "output_type": "stream",
          "text": [
            "Outputs computed by the models\n",
            "(128, 128, 64)\n"
          ]
        },
        {
          "name": "stderr",
          "output_type": "stream",
          "text": [
            "\n",
            "  0%|          | 0/4 [00:00<?, ?it/s]\u001b[A\n",
            " 25%|██▌       | 1/4 [00:00<00:01,  2.00it/s]\u001b[A\n",
            " 50%|█████     | 2/4 [00:01<00:01,  1.73it/s]\u001b[A\n",
            " 75%|███████▌  | 3/4 [00:01<00:00,  1.68it/s]\u001b[A\n",
            "100%|██████████| 4/4 [00:02<00:00,  1.67it/s]\n",
            " 76%|███████▌  | 194/256 [16:58<04:43,  4.58s/it]"
          ]
        },
        {
          "name": "stdout",
          "output_type": "stream",
          "text": [
            "Outputs computed by the models\n",
            "(128, 128, 64)\n"
          ]
        },
        {
          "name": "stderr",
          "output_type": "stream",
          "text": [
            "\n",
            "  0%|          | 0/1 [00:00<?, ?it/s]\u001b[A\n",
            "100%|██████████| 1/1 [00:00<00:00,  1.78it/s]\n",
            " 76%|███████▌  | 195/256 [17:01<04:11,  4.13s/it]"
          ]
        },
        {
          "name": "stdout",
          "output_type": "stream",
          "text": [
            "Outputs computed by the models\n",
            "(128, 128, 64)\n"
          ]
        },
        {
          "name": "stderr",
          "output_type": "stream",
          "text": [
            "\n",
            "  0%|          | 0/4 [00:00<?, ?it/s]\u001b[A\n",
            " 25%|██▌       | 1/4 [00:00<00:01,  1.78it/s]\u001b[A\n",
            " 50%|█████     | 2/4 [00:01<00:01,  1.69it/s]\u001b[A\n",
            " 75%|███████▌  | 3/4 [00:01<00:00,  1.66it/s]\u001b[A\n",
            "100%|██████████| 4/4 [00:02<00:00,  1.66it/s]\n",
            " 77%|███████▋  | 196/256 [17:06<04:08,  4.14s/it]"
          ]
        },
        {
          "name": "stdout",
          "output_type": "stream",
          "text": [
            "Outputs computed by the models\n",
            "(128, 128, 64)\n"
          ]
        },
        {
          "name": "stderr",
          "output_type": "stream",
          "text": [
            "\n",
            "  0%|          | 0/4 [00:00<?, ?it/s]\u001b[A\n",
            " 25%|██▌       | 1/4 [00:00<00:01,  2.01it/s]\u001b[A\n",
            " 50%|█████     | 2/4 [00:01<00:01,  1.73it/s]\u001b[A\n",
            " 75%|███████▌  | 3/4 [00:01<00:00,  1.68it/s]\u001b[A\n",
            "100%|██████████| 4/4 [00:02<00:00,  1.68it/s]\n",
            " 77%|███████▋  | 197/256 [17:10<04:08,  4.21s/it]"
          ]
        },
        {
          "name": "stdout",
          "output_type": "stream",
          "text": [
            "Outputs computed by the models\n",
            "(128, 128, 64)\n"
          ]
        },
        {
          "name": "stderr",
          "output_type": "stream",
          "text": [
            "\n",
            "  0%|          | 0/1 [00:00<?, ?it/s]\u001b[A\n",
            "100%|██████████| 1/1 [00:00<00:00,  1.96it/s]\n",
            " 77%|███████▋  | 198/256 [17:13<03:41,  3.82s/it]"
          ]
        },
        {
          "name": "stdout",
          "output_type": "stream",
          "text": [
            "Outputs computed by the models\n",
            "(128, 128, 64)\n"
          ]
        },
        {
          "name": "stderr",
          "output_type": "stream",
          "text": [
            "\n",
            "  0%|          | 0/1 [00:00<?, ?it/s]\u001b[A\n",
            "100%|██████████| 1/1 [00:00<00:00,  1.77it/s]\n",
            " 78%|███████▊  | 199/256 [17:16<03:25,  3.61s/it]"
          ]
        },
        {
          "name": "stdout",
          "output_type": "stream",
          "text": [
            "Outputs computed by the models\n",
            "(128, 128, 64)\n"
          ]
        },
        {
          "name": "stderr",
          "output_type": "stream",
          "text": [
            "\n",
            "  0%|          | 0/12 [00:00<?, ?it/s]\u001b[A\n",
            "  8%|▊         | 1/12 [00:00<00:06,  1.74it/s]\u001b[A\n",
            " 17%|█▋        | 2/12 [00:01<00:06,  1.66it/s]\u001b[A\n",
            " 25%|██▌       | 3/12 [00:01<00:05,  1.64it/s]\u001b[A\n",
            " 33%|███▎      | 4/12 [00:02<00:04,  1.62it/s]\u001b[A\n",
            " 42%|████▏     | 5/12 [00:03<00:04,  1.62it/s]\u001b[A\n",
            " 50%|█████     | 6/12 [00:03<00:03,  1.61it/s]\u001b[A\n",
            " 58%|█████▊    | 7/12 [00:04<00:03,  1.61it/s]\u001b[A\n",
            " 67%|██████▋   | 8/12 [00:04<00:02,  1.61it/s]\u001b[A\n",
            " 75%|███████▌  | 9/12 [00:05<00:01,  1.60it/s]\u001b[A\n",
            " 83%|████████▎ | 10/12 [00:06<00:01,  1.61it/s]\u001b[A\n",
            " 92%|█████████▏| 11/12 [00:06<00:00,  1.60it/s]\u001b[A\n",
            "100%|██████████| 12/12 [00:07<00:00,  1.61it/s]\n",
            " 78%|███████▊  | 200/256 [17:27<05:25,  5.81s/it]"
          ]
        },
        {
          "name": "stdout",
          "output_type": "stream",
          "text": [
            "Outputs computed by the models\n",
            "(128, 128, 64)\n"
          ]
        },
        {
          "name": "stderr",
          "output_type": "stream",
          "text": [
            "\n",
            "  0%|          | 0/1 [00:00<?, ?it/s]\u001b[A\n",
            "100%|██████████| 1/1 [00:00<00:00,  1.79it/s]\n",
            " 79%|███████▊  | 201/256 [17:30<04:39,  5.08s/it]"
          ]
        },
        {
          "name": "stdout",
          "output_type": "stream",
          "text": [
            "Outputs computed by the models\n",
            "(128, 128, 64)\n"
          ]
        },
        {
          "name": "stderr",
          "output_type": "stream",
          "text": [
            "\n",
            "  0%|          | 0/4 [00:00<?, ?it/s]\u001b[A\n",
            " 25%|██▌       | 1/4 [00:00<00:01,  1.85it/s]\u001b[A\n",
            " 50%|█████     | 2/4 [00:01<00:01,  1.67it/s]\u001b[A\n",
            " 75%|███████▌  | 3/4 [00:01<00:00,  1.65it/s]\u001b[A\n",
            "100%|██████████| 4/4 [00:02<00:00,  1.64it/s]\n",
            " 79%|███████▉  | 202/256 [17:35<04:22,  4.87s/it]"
          ]
        },
        {
          "name": "stdout",
          "output_type": "stream",
          "text": [
            "Outputs computed by the models\n",
            "(128, 128, 64)\n"
          ]
        },
        {
          "name": "stderr",
          "output_type": "stream",
          "text": [
            "\n",
            "  0%|          | 0/4 [00:00<?, ?it/s]\u001b[A\n",
            " 25%|██▌       | 1/4 [00:00<00:01,  2.01it/s]\u001b[A\n",
            " 50%|█████     | 2/4 [00:01<00:01,  1.73it/s]\u001b[A\n",
            " 75%|███████▌  | 3/4 [00:01<00:00,  1.69it/s]\u001b[A\n",
            "100%|██████████| 4/4 [00:02<00:00,  1.68it/s]\n",
            " 79%|███████▉  | 203/256 [17:39<04:07,  4.66s/it]"
          ]
        },
        {
          "name": "stdout",
          "output_type": "stream",
          "text": [
            "Outputs computed by the models\n",
            "(128, 128, 64)\n"
          ]
        },
        {
          "name": "stderr",
          "output_type": "stream",
          "text": [
            "\n",
            "  0%|          | 0/12 [00:00<?, ?it/s]\u001b[A\n",
            "  8%|▊         | 1/12 [00:00<00:05,  1.96it/s]\u001b[A\n",
            " 17%|█▋        | 2/12 [00:01<00:05,  1.74it/s]\u001b[A\n",
            " 25%|██▌       | 3/12 [00:01<00:05,  1.68it/s]\u001b[A\n",
            " 33%|███▎      | 4/12 [00:02<00:04,  1.65it/s]\u001b[A\n",
            " 42%|████▏     | 5/12 [00:02<00:04,  1.64it/s]\u001b[A\n",
            " 50%|█████     | 6/12 [00:03<00:03,  1.62it/s]\u001b[A\n",
            " 58%|█████▊    | 7/12 [00:04<00:03,  1.61it/s]\u001b[A\n",
            " 67%|██████▋   | 8/12 [00:04<00:02,  1.60it/s]\u001b[A\n",
            " 75%|███████▌  | 9/12 [00:05<00:01,  1.60it/s]\u001b[A\n",
            " 83%|████████▎ | 10/12 [00:06<00:01,  1.60it/s]\u001b[A\n",
            " 92%|█████████▏| 11/12 [00:06<00:00,  1.60it/s]\u001b[A\n",
            "100%|██████████| 12/12 [00:07<00:00,  1.62it/s]\n",
            " 80%|███████▉  | 204/256 [17:49<05:21,  6.18s/it]"
          ]
        },
        {
          "name": "stdout",
          "output_type": "stream",
          "text": [
            "Outputs computed by the models\n",
            "(128, 128, 64)\n"
          ]
        },
        {
          "name": "stderr",
          "output_type": "stream",
          "text": [
            "\n",
            "  0%|          | 0/12 [00:00<?, ?it/s]\u001b[A\n",
            "  8%|▊         | 1/12 [00:00<00:05,  1.99it/s]\u001b[A\n",
            " 17%|█▋        | 2/12 [00:01<00:05,  1.72it/s]\u001b[A\n",
            " 25%|██▌       | 3/12 [00:01<00:05,  1.67it/s]\u001b[A\n",
            " 33%|███▎      | 4/12 [00:02<00:04,  1.63it/s]\u001b[A\n",
            " 42%|████▏     | 5/12 [00:03<00:04,  1.61it/s]\u001b[A\n",
            " 50%|█████     | 6/12 [00:03<00:03,  1.61it/s]\u001b[A\n",
            " 58%|█████▊    | 7/12 [00:04<00:03,  1.59it/s]\u001b[A\n",
            " 67%|██████▋   | 8/12 [00:04<00:02,  1.59it/s]\u001b[A\n",
            " 75%|███████▌  | 9/12 [00:05<00:01,  1.59it/s]\u001b[A\n",
            " 83%|████████▎ | 10/12 [00:06<00:01,  1.58it/s]\u001b[A\n",
            " 92%|█████████▏| 11/12 [00:06<00:00,  1.59it/s]\u001b[A\n",
            "100%|██████████| 12/12 [00:07<00:00,  1.61it/s]\n",
            " 80%|████████  | 205/256 [17:59<06:17,  7.41s/it]"
          ]
        },
        {
          "name": "stdout",
          "output_type": "stream",
          "text": [
            "Outputs computed by the models\n",
            "(128, 128, 64)\n"
          ]
        },
        {
          "name": "stderr",
          "output_type": "stream",
          "text": [
            "\n",
            "  0%|          | 0/1 [00:00<?, ?it/s]\u001b[A\n",
            "100%|██████████| 1/1 [00:00<00:00,  1.97it/s]\n",
            " 80%|████████  | 206/256 [18:01<04:44,  5.69s/it]"
          ]
        },
        {
          "name": "stdout",
          "output_type": "stream",
          "text": [
            "Outputs computed by the models\n",
            "(128, 128, 64)\n"
          ]
        },
        {
          "name": "stderr",
          "output_type": "stream",
          "text": [
            "\n",
            "  0%|          | 0/1 [00:00<?, ?it/s]\u001b[A\n",
            "100%|██████████| 1/1 [00:00<00:00,  2.01it/s]\n",
            " 81%|████████  | 207/256 [18:03<03:47,  4.63s/it]"
          ]
        },
        {
          "name": "stdout",
          "output_type": "stream",
          "text": [
            "Outputs computed by the models\n",
            "(128, 128, 64)\n"
          ]
        },
        {
          "name": "stderr",
          "output_type": "stream",
          "text": [
            "\n",
            "  0%|          | 0/2 [00:00<?, ?it/s]\u001b[A\n",
            " 50%|█████     | 1/2 [00:00<00:00,  2.02it/s]\u001b[A\n",
            "100%|██████████| 2/2 [00:01<00:00,  1.77it/s]\n",
            " 81%|████████▏ | 208/256 [18:06<03:22,  4.21s/it]"
          ]
        },
        {
          "name": "stdout",
          "output_type": "stream",
          "text": [
            "Outputs computed by the models\n",
            "(128, 128, 64)\n"
          ]
        },
        {
          "name": "stderr",
          "output_type": "stream",
          "text": [
            "\n",
            "  0%|          | 0/12 [00:00<?, ?it/s]\u001b[A\n",
            "  8%|▊         | 1/12 [00:00<00:06,  1.79it/s]\u001b[A\n",
            " 17%|█▋        | 2/12 [00:01<00:05,  1.69it/s]\u001b[A\n",
            " 25%|██▌       | 3/12 [00:01<00:05,  1.66it/s]\u001b[A\n",
            " 33%|███▎      | 4/12 [00:02<00:04,  1.64it/s]\u001b[A\n",
            " 42%|████▏     | 5/12 [00:03<00:04,  1.65it/s]\u001b[A\n",
            " 50%|█████     | 6/12 [00:03<00:03,  1.64it/s]\u001b[A\n",
            " 58%|█████▊    | 7/12 [00:04<00:03,  1.64it/s]\u001b[A\n",
            " 67%|██████▋   | 8/12 [00:04<00:02,  1.62it/s]\u001b[A\n",
            " 75%|███████▌  | 9/12 [00:05<00:01,  1.62it/s]\u001b[A\n",
            " 83%|████████▎ | 10/12 [00:06<00:01,  1.62it/s]\u001b[A\n",
            " 92%|█████████▏| 11/12 [00:06<00:00,  1.62it/s]\u001b[A\n",
            "100%|██████████| 12/12 [00:07<00:00,  1.63it/s]\n",
            " 82%|████████▏ | 209/256 [18:17<04:52,  6.21s/it]"
          ]
        },
        {
          "name": "stdout",
          "output_type": "stream",
          "text": [
            "Outputs computed by the models\n",
            "(128, 128, 64)\n"
          ]
        },
        {
          "name": "stderr",
          "output_type": "stream",
          "text": [
            "\n",
            "  0%|          | 0/12 [00:00<?, ?it/s]\u001b[A\n",
            "  8%|▊         | 1/12 [00:00<00:05,  2.03it/s]\u001b[A\n",
            " 17%|█▋        | 2/12 [00:01<00:05,  1.76it/s]\u001b[A\n",
            " 25%|██▌       | 3/12 [00:01<00:05,  1.70it/s]\u001b[A\n",
            " 33%|███▎      | 4/12 [00:02<00:04,  1.67it/s]\u001b[A\n",
            " 42%|████▏     | 5/12 [00:02<00:04,  1.66it/s]\u001b[A\n",
            " 50%|█████     | 6/12 [00:03<00:03,  1.64it/s]\u001b[A\n",
            " 58%|█████▊    | 7/12 [00:04<00:03,  1.63it/s]\u001b[A\n",
            " 67%|██████▋   | 8/12 [00:04<00:02,  1.63it/s]\u001b[A\n",
            " 75%|███████▌  | 9/12 [00:05<00:01,  1.62it/s]\u001b[A\n",
            " 83%|████████▎ | 10/12 [00:06<00:01,  1.62it/s]\u001b[A\n",
            " 92%|█████████▏| 11/12 [00:06<00:00,  1.61it/s]\u001b[A\n",
            "100%|██████████| 12/12 [00:07<00:00,  1.64it/s]\n",
            " 82%|████████▏ | 210/256 [18:27<05:40,  7.40s/it]"
          ]
        },
        {
          "name": "stdout",
          "output_type": "stream",
          "text": [
            "Outputs computed by the models\n",
            "(128, 128, 64)\n"
          ]
        },
        {
          "name": "stderr",
          "output_type": "stream",
          "text": [
            "\n",
            "  0%|          | 0/4 [00:00<?, ?it/s]\u001b[A\n",
            " 25%|██▌       | 1/4 [00:00<00:01,  1.79it/s]\u001b[A\n",
            " 50%|█████     | 2/4 [00:01<00:01,  1.69it/s]\u001b[A\n",
            " 75%|███████▌  | 3/4 [00:01<00:00,  1.66it/s]\u001b[A\n",
            "100%|██████████| 4/4 [00:02<00:00,  1.66it/s]\n",
            " 82%|████████▏ | 211/256 [18:32<04:56,  6.58s/it]"
          ]
        },
        {
          "name": "stdout",
          "output_type": "stream",
          "text": [
            "Outputs computed by the models\n",
            "(128, 128, 64)\n"
          ]
        },
        {
          "name": "stderr",
          "output_type": "stream",
          "text": [
            "\n",
            "  0%|          | 0/4 [00:00<?, ?it/s]\u001b[A\n",
            " 25%|██▌       | 1/4 [00:00<00:01,  2.03it/s]\u001b[A\n",
            " 50%|█████     | 2/4 [00:01<00:01,  1.75it/s]\u001b[A\n",
            " 75%|███████▌  | 3/4 [00:01<00:00,  1.70it/s]\u001b[A\n",
            "100%|██████████| 4/4 [00:02<00:00,  1.69it/s]\n",
            " 83%|████████▎ | 212/256 [18:36<04:19,  5.90s/it]"
          ]
        },
        {
          "name": "stdout",
          "output_type": "stream",
          "text": [
            "Outputs computed by the models\n",
            "(128, 128, 64)\n"
          ]
        },
        {
          "name": "stderr",
          "output_type": "stream",
          "text": [
            "\n",
            "  0%|          | 0/4 [00:00<?, ?it/s]\u001b[A\n",
            " 25%|██▌       | 1/4 [00:00<00:01,  2.02it/s]\u001b[A\n",
            " 50%|█████     | 2/4 [00:01<00:01,  1.75it/s]\u001b[A\n",
            " 75%|███████▌  | 3/4 [00:01<00:00,  1.70it/s]\u001b[A\n",
            "100%|██████████| 4/4 [00:02<00:00,  1.69it/s]\n",
            " 83%|████████▎ | 213/256 [18:41<04:00,  5.60s/it]"
          ]
        },
        {
          "name": "stdout",
          "output_type": "stream",
          "text": [
            "Outputs computed by the models\n",
            "(128, 128, 64)\n"
          ]
        },
        {
          "name": "stderr",
          "output_type": "stream",
          "text": [
            "\n",
            "  0%|          | 0/4 [00:00<?, ?it/s]\u001b[A\n",
            " 25%|██▌       | 1/4 [00:00<00:01,  1.75it/s]\u001b[A\n",
            " 50%|█████     | 2/4 [00:01<00:01,  1.67it/s]\u001b[A\n",
            " 75%|███████▌  | 3/4 [00:01<00:00,  1.64it/s]\u001b[A\n",
            "100%|██████████| 4/4 [00:02<00:00,  1.64it/s]\n",
            " 84%|████████▎ | 214/256 [18:46<03:43,  5.33s/it]"
          ]
        },
        {
          "name": "stdout",
          "output_type": "stream",
          "text": [
            "Outputs computed by the models\n",
            "(128, 128, 64)\n"
          ]
        },
        {
          "name": "stderr",
          "output_type": "stream",
          "text": [
            "\n",
            "  0%|          | 0/4 [00:00<?, ?it/s]\u001b[A\n",
            " 25%|██▌       | 1/4 [00:00<00:01,  2.02it/s]\u001b[A\n",
            " 50%|█████     | 2/4 [00:01<00:01,  1.76it/s]\u001b[A\n",
            " 75%|███████▌  | 3/4 [00:01<00:00,  1.70it/s]\u001b[A\n",
            "100%|██████████| 4/4 [00:02<00:00,  1.70it/s]\n",
            " 84%|████████▍ | 215/256 [18:50<03:26,  5.03s/it]"
          ]
        },
        {
          "name": "stdout",
          "output_type": "stream",
          "text": [
            "Outputs computed by the models\n",
            "(128, 128, 64)\n"
          ]
        },
        {
          "name": "stderr",
          "output_type": "stream",
          "text": [
            "\n",
            "  0%|          | 0/4 [00:00<?, ?it/s]\u001b[A\n",
            " 25%|██▌       | 1/4 [00:00<00:01,  2.01it/s]\u001b[A\n",
            " 50%|█████     | 2/4 [00:01<00:01,  1.73it/s]\u001b[A\n",
            " 75%|███████▌  | 3/4 [00:01<00:00,  1.68it/s]\u001b[A\n",
            "100%|██████████| 4/4 [00:02<00:00,  1.68it/s]\n",
            " 84%|████████▍ | 216/256 [18:55<03:18,  4.96s/it]"
          ]
        },
        {
          "name": "stdout",
          "output_type": "stream",
          "text": [
            "Outputs computed by the models\n",
            "(128, 128, 64)\n"
          ]
        },
        {
          "name": "stderr",
          "output_type": "stream",
          "text": [
            "\n",
            "  0%|          | 0/4 [00:00<?, ?it/s]\u001b[A\n",
            " 25%|██▌       | 1/4 [00:00<00:01,  1.84it/s]\u001b[A\n",
            " 50%|█████     | 2/4 [00:01<00:01,  1.71it/s]\u001b[A\n",
            " 75%|███████▌  | 3/4 [00:01<00:00,  1.68it/s]\u001b[A\n",
            "100%|██████████| 4/4 [00:02<00:00,  1.67it/s]\n",
            " 85%|████████▍ | 217/256 [18:59<03:07,  4.80s/it]"
          ]
        },
        {
          "name": "stdout",
          "output_type": "stream",
          "text": [
            "Outputs computed by the models\n",
            "(128, 128, 64)\n"
          ]
        },
        {
          "name": "stderr",
          "output_type": "stream",
          "text": [
            "\n",
            "  0%|          | 0/3 [00:00<?, ?it/s]\u001b[A\n",
            " 33%|███▎      | 1/3 [00:00<00:00,  2.02it/s]\u001b[A\n",
            " 67%|██████▋   | 2/3 [00:01<00:00,  1.74it/s]\u001b[A\n",
            "100%|██████████| 3/3 [00:01<00:00,  1.71it/s]\n",
            " 85%|████████▌ | 218/256 [19:03<02:52,  4.55s/it]"
          ]
        },
        {
          "name": "stdout",
          "output_type": "stream",
          "text": [
            "Outputs computed by the models\n",
            "(128, 128, 64)\n"
          ]
        },
        {
          "name": "stderr",
          "output_type": "stream",
          "text": [
            "\n",
            "  0%|          | 0/12 [00:00<?, ?it/s]\u001b[A\n",
            "  8%|▊         | 1/12 [00:00<00:05,  1.85it/s]\u001b[A\n",
            " 17%|█▋        | 2/12 [00:01<00:05,  1.69it/s]\u001b[A\n",
            " 25%|██▌       | 3/12 [00:01<00:05,  1.66it/s]\u001b[A\n",
            " 33%|███▎      | 4/12 [00:02<00:04,  1.63it/s]\u001b[A\n",
            " 42%|████▏     | 5/12 [00:03<00:04,  1.63it/s]\u001b[A\n",
            " 50%|█████     | 6/12 [00:03<00:03,  1.62it/s]\u001b[A\n",
            " 58%|█████▊    | 7/12 [00:04<00:03,  1.61it/s]\u001b[A\n",
            " 67%|██████▋   | 8/12 [00:04<00:02,  1.61it/s]\u001b[A\n",
            " 75%|███████▌  | 9/12 [00:05<00:01,  1.61it/s]\u001b[A\n",
            " 83%|████████▎ | 10/12 [00:06<00:01,  1.60it/s]\u001b[A\n",
            " 92%|█████████▏| 11/12 [00:06<00:00,  1.60it/s]\u001b[A\n",
            "100%|██████████| 12/12 [00:07<00:00,  1.61it/s]\n",
            " 86%|████████▌ | 219/256 [19:13<03:52,  6.28s/it]"
          ]
        },
        {
          "name": "stdout",
          "output_type": "stream",
          "text": [
            "Outputs computed by the models\n",
            "(128, 128, 64)\n"
          ]
        },
        {
          "name": "stderr",
          "output_type": "stream",
          "text": [
            "\n",
            "  0%|          | 0/1 [00:00<?, ?it/s]\u001b[A\n",
            "100%|██████████| 1/1 [00:00<00:00,  1.76it/s]\n",
            " 86%|████████▌ | 220/256 [19:16<03:09,  5.27s/it]"
          ]
        },
        {
          "name": "stdout",
          "output_type": "stream",
          "text": [
            "Outputs computed by the models\n",
            "(128, 128, 64)\n"
          ]
        },
        {
          "name": "stderr",
          "output_type": "stream",
          "text": [
            "\n",
            "  0%|          | 0/1 [00:00<?, ?it/s]\u001b[A\n",
            "100%|██████████| 1/1 [00:00<00:00,  1.96it/s]\n",
            " 86%|████████▋ | 221/256 [19:19<02:34,  4.42s/it]"
          ]
        },
        {
          "name": "stdout",
          "output_type": "stream",
          "text": [
            "Outputs computed by the models\n",
            "(128, 128, 64)\n"
          ]
        },
        {
          "name": "stderr",
          "output_type": "stream",
          "text": [
            "\n",
            "  0%|          | 0/12 [00:00<?, ?it/s]\u001b[A\n",
            "  8%|▊         | 1/12 [00:00<00:05,  1.99it/s]\u001b[A\n",
            " 17%|█▋        | 2/12 [00:01<00:05,  1.72it/s]\u001b[A\n",
            " 25%|██▌       | 3/12 [00:01<00:05,  1.68it/s]\u001b[A\n",
            " 33%|███▎      | 4/12 [00:02<00:04,  1.64it/s]\u001b[A\n",
            " 42%|████▏     | 5/12 [00:03<00:04,  1.62it/s]\u001b[A\n",
            " 50%|█████     | 6/12 [00:03<00:03,  1.62it/s]\u001b[A\n",
            " 58%|█████▊    | 7/12 [00:04<00:03,  1.60it/s]\u001b[A\n",
            " 67%|██████▋   | 8/12 [00:04<00:02,  1.60it/s]\u001b[A\n",
            " 75%|███████▌  | 9/12 [00:05<00:01,  1.61it/s]\u001b[A\n",
            " 83%|████████▎ | 10/12 [00:06<00:01,  1.61it/s]\u001b[A\n",
            " 92%|█████████▏| 11/12 [00:06<00:00,  1.61it/s]\u001b[A\n",
            "100%|██████████| 12/12 [00:07<00:00,  1.63it/s]\n",
            " 87%|████████▋ | 222/256 [19:28<03:23,  5.98s/it]"
          ]
        },
        {
          "name": "stdout",
          "output_type": "stream",
          "text": [
            "Outputs computed by the models\n",
            "(128, 128, 64)\n"
          ]
        },
        {
          "name": "stderr",
          "output_type": "stream",
          "text": [
            "\n",
            "  0%|          | 0/4 [00:00<?, ?it/s]\u001b[A\n",
            " 25%|██▌       | 1/4 [00:00<00:01,  1.80it/s]\u001b[A\n",
            " 50%|█████     | 2/4 [00:01<00:01,  1.67it/s]\u001b[A\n",
            " 75%|███████▌  | 3/4 [00:01<00:00,  1.65it/s]\u001b[A\n",
            "100%|██████████| 4/4 [00:02<00:00,  1.64it/s]\n",
            " 87%|████████▋ | 223/256 [19:33<03:03,  5.56s/it]"
          ]
        },
        {
          "name": "stdout",
          "output_type": "stream",
          "text": [
            "Outputs computed by the models\n",
            "(128, 128, 64)\n"
          ]
        },
        {
          "name": "stderr",
          "output_type": "stream",
          "text": [
            "\n",
            "  0%|          | 0/12 [00:00<?, ?it/s]\u001b[A\n",
            "  8%|▊         | 1/12 [00:00<00:05,  2.00it/s]\u001b[A\n",
            " 17%|█▋        | 2/12 [00:01<00:05,  1.73it/s]\u001b[A\n",
            " 25%|██▌       | 3/12 [00:01<00:05,  1.68it/s]\u001b[A\n",
            " 33%|███▎      | 4/12 [00:02<00:04,  1.64it/s]\u001b[A\n",
            " 42%|████▏     | 5/12 [00:03<00:04,  1.63it/s]\u001b[A\n",
            " 50%|█████     | 6/12 [00:03<00:03,  1.62it/s]\u001b[A\n",
            " 58%|█████▊    | 7/12 [00:04<00:03,  1.62it/s]\u001b[A\n",
            " 67%|██████▋   | 8/12 [00:04<00:02,  1.61it/s]\u001b[A\n",
            " 75%|███████▌  | 9/12 [00:05<00:01,  1.61it/s]\u001b[A\n",
            " 83%|████████▎ | 10/12 [00:06<00:01,  1.62it/s]\u001b[A\n",
            " 92%|█████████▏| 11/12 [00:06<00:00,  1.63it/s]\u001b[A\n",
            "100%|██████████| 12/12 [00:07<00:00,  1.64it/s]\n",
            " 88%|████████▊ | 224/256 [19:43<03:36,  6.77s/it]"
          ]
        },
        {
          "name": "stdout",
          "output_type": "stream",
          "text": [
            "Outputs computed by the models\n",
            "(128, 128, 64)\n"
          ]
        },
        {
          "name": "stderr",
          "output_type": "stream",
          "text": [
            "\n",
            "  0%|          | 0/4 [00:00<?, ?it/s]\u001b[A\n",
            " 25%|██▌       | 1/4 [00:00<00:01,  1.83it/s]\u001b[A\n",
            " 50%|█████     | 2/4 [00:01<00:01,  1.69it/s]\u001b[A\n",
            " 75%|███████▌  | 3/4 [00:01<00:00,  1.65it/s]\u001b[A\n",
            "100%|██████████| 4/4 [00:02<00:00,  1.65it/s]\n",
            " 88%|████████▊ | 225/256 [19:47<03:09,  6.10s/it]"
          ]
        },
        {
          "name": "stdout",
          "output_type": "stream",
          "text": [
            "Outputs computed by the models\n",
            "(128, 128, 64)\n"
          ]
        },
        {
          "name": "stderr",
          "output_type": "stream",
          "text": [
            "\n",
            "  0%|          | 0/4 [00:00<?, ?it/s]\u001b[A\n",
            " 25%|██▌       | 1/4 [00:00<00:01,  2.02it/s]\u001b[A\n",
            " 50%|█████     | 2/4 [00:01<00:01,  1.74it/s]\u001b[A\n",
            " 75%|███████▌  | 3/4 [00:01<00:00,  1.69it/s]\u001b[A\n",
            "100%|██████████| 4/4 [00:02<00:00,  1.68it/s]\n",
            " 88%|████████▊ | 226/256 [19:52<02:51,  5.72s/it]"
          ]
        },
        {
          "name": "stdout",
          "output_type": "stream",
          "text": [
            "Outputs computed by the models\n",
            "(128, 128, 64)\n"
          ]
        },
        {
          "name": "stderr",
          "output_type": "stream",
          "text": [
            "\n",
            "  0%|          | 0/4 [00:00<?, ?it/s]\u001b[A\n",
            " 25%|██▌       | 1/4 [00:00<00:01,  1.80it/s]\u001b[A\n",
            " 50%|█████     | 2/4 [00:01<00:01,  1.70it/s]\u001b[A\n",
            " 75%|███████▌  | 3/4 [00:01<00:00,  1.66it/s]\u001b[A\n",
            "100%|██████████| 4/4 [00:02<00:00,  1.66it/s]\n",
            " 89%|████████▊ | 227/256 [19:57<02:37,  5.44s/it]"
          ]
        },
        {
          "name": "stdout",
          "output_type": "stream",
          "text": [
            "Outputs computed by the models\n",
            "(128, 128, 64)\n"
          ]
        },
        {
          "name": "stderr",
          "output_type": "stream",
          "text": [
            "\n",
            "  0%|          | 0/12 [00:00<?, ?it/s]\u001b[A\n",
            "  8%|▊         | 1/12 [00:00<00:05,  2.02it/s]\u001b[A\n",
            " 17%|█▋        | 2/12 [00:01<00:05,  1.75it/s]\u001b[A\n",
            " 25%|██▌       | 3/12 [00:01<00:05,  1.70it/s]\u001b[A\n",
            " 33%|███▎      | 4/12 [00:02<00:04,  1.66it/s]\u001b[A\n",
            " 42%|████▏     | 5/12 [00:02<00:04,  1.65it/s]\u001b[A\n",
            " 50%|█████     | 6/12 [00:03<00:03,  1.64it/s]\u001b[A\n",
            " 58%|█████▊    | 7/12 [00:04<00:03,  1.63it/s]\u001b[A\n",
            " 67%|██████▋   | 8/12 [00:04<00:02,  1.63it/s]\u001b[A\n",
            " 75%|███████▌  | 9/12 [00:05<00:01,  1.62it/s]\u001b[A\n",
            " 83%|████████▎ | 10/12 [00:06<00:01,  1.62it/s]\u001b[A\n",
            " 92%|█████████▏| 11/12 [00:06<00:00,  1.62it/s]\u001b[A\n",
            "100%|██████████| 12/12 [00:07<00:00,  1.64it/s]\n",
            " 89%|████████▉ | 228/256 [20:07<03:11,  6.82s/it]"
          ]
        },
        {
          "name": "stdout",
          "output_type": "stream",
          "text": [
            "Outputs computed by the models\n",
            "(128, 128, 64)\n"
          ]
        },
        {
          "name": "stderr",
          "output_type": "stream",
          "text": [
            "\n",
            "  0%|          | 0/1 [00:00<?, ?it/s]\u001b[A\n",
            "100%|██████████| 1/1 [00:00<00:00,  1.85it/s]\n"
          ]
        },
        {
          "name": "stdout",
          "output_type": "stream",
          "text": [
            "Outputs computed by the models\n"
          ]
        },
        {
          "name": "stderr",
          "output_type": "stream",
          "text": [
            "\r 89%|████████▉ | 229/256 [20:09<02:27,  5.44s/it]"
          ]
        },
        {
          "name": "stdout",
          "output_type": "stream",
          "text": [
            "(128, 128, 64)\n"
          ]
        },
        {
          "name": "stderr",
          "output_type": "stream",
          "text": [
            "\n",
            "  0%|          | 0/12 [00:00<?, ?it/s]\u001b[A\n",
            "  8%|▊         | 1/12 [00:00<00:05,  2.01it/s]\u001b[A\n",
            " 17%|█▋        | 2/12 [00:01<00:05,  1.75it/s]\u001b[A\n",
            " 25%|██▌       | 3/12 [00:01<00:05,  1.70it/s]\u001b[A\n",
            " 33%|███▎      | 4/12 [00:02<00:04,  1.66it/s]\u001b[A\n",
            " 42%|████▏     | 5/12 [00:02<00:04,  1.64it/s]\u001b[A\n",
            " 50%|█████     | 6/12 [00:03<00:03,  1.63it/s]\u001b[A\n",
            " 58%|█████▊    | 7/12 [00:04<00:03,  1.63it/s]\u001b[A\n",
            " 67%|██████▋   | 8/12 [00:04<00:02,  1.62it/s]\u001b[A\n",
            " 75%|███████▌  | 9/12 [00:05<00:01,  1.62it/s]\u001b[A\n",
            " 83%|████████▎ | 10/12 [00:06<00:01,  1.62it/s]\u001b[A\n",
            " 92%|█████████▏| 11/12 [00:06<00:00,  1.62it/s]\u001b[A\n",
            "100%|██████████| 12/12 [00:07<00:00,  1.64it/s]\n",
            " 90%|████████▉ | 230/256 [20:19<02:58,  6.86s/it]"
          ]
        },
        {
          "name": "stdout",
          "output_type": "stream",
          "text": [
            "Outputs computed by the models\n",
            "(128, 128, 64)\n"
          ]
        },
        {
          "name": "stderr",
          "output_type": "stream",
          "text": [
            "\n",
            "  0%|          | 0/4 [00:00<?, ?it/s]\u001b[A\n",
            " 25%|██▌       | 1/4 [00:00<00:01,  1.80it/s]\u001b[A\n",
            " 50%|█████     | 2/4 [00:01<00:01,  1.72it/s]\u001b[A\n",
            " 75%|███████▌  | 3/4 [00:01<00:00,  1.69it/s]\u001b[A\n",
            "100%|██████████| 4/4 [00:02<00:00,  1.68it/s]\n",
            " 90%|█████████ | 231/256 [20:24<02:34,  6.18s/it]"
          ]
        },
        {
          "name": "stdout",
          "output_type": "stream",
          "text": [
            "Outputs computed by the models\n",
            "(128, 128, 64)\n"
          ]
        },
        {
          "name": "stderr",
          "output_type": "stream",
          "text": [
            "\n",
            "  0%|          | 0/1 [00:00<?, ?it/s]\u001b[A\n",
            "100%|██████████| 1/1 [00:00<00:00,  2.02it/s]\n",
            " 91%|█████████ | 232/256 [20:26<01:59,  4.98s/it]"
          ]
        },
        {
          "name": "stdout",
          "output_type": "stream",
          "text": [
            "Outputs computed by the models\n",
            "(128, 128, 64)\n"
          ]
        },
        {
          "name": "stderr",
          "output_type": "stream",
          "text": [
            "\n",
            "  0%|          | 0/1 [00:00<?, ?it/s]\u001b[A\n",
            "100%|██████████| 1/1 [00:00<00:00,  2.01it/s]\n",
            " 91%|█████████ | 233/256 [20:28<01:35,  4.16s/it]"
          ]
        },
        {
          "name": "stdout",
          "output_type": "stream",
          "text": [
            "Outputs computed by the models\n",
            "(128, 128, 64)\n"
          ]
        },
        {
          "name": "stderr",
          "output_type": "stream",
          "text": [
            "\n",
            "  0%|          | 0/1 [00:00<?, ?it/s]\u001b[A\n",
            "100%|██████████| 1/1 [00:00<00:00,  2.02it/s]\n",
            " 91%|█████████▏| 234/256 [20:30<01:19,  3.61s/it]"
          ]
        },
        {
          "name": "stdout",
          "output_type": "stream",
          "text": [
            "Outputs computed by the models\n",
            "(128, 128, 64)\n"
          ]
        },
        {
          "name": "stderr",
          "output_type": "stream",
          "text": [
            "\n",
            "  0%|          | 0/4 [00:00<?, ?it/s]\u001b[A\n",
            " 25%|██▌       | 1/4 [00:00<00:01,  2.01it/s]\u001b[A\n",
            " 50%|█████     | 2/4 [00:01<00:01,  1.75it/s]\u001b[A\n",
            " 75%|███████▌  | 3/4 [00:01<00:00,  1.69it/s]\u001b[A\n",
            "100%|██████████| 4/4 [00:02<00:00,  1.69it/s]\n",
            " 92%|█████████▏| 235/256 [20:35<01:23,  3.96s/it]"
          ]
        },
        {
          "name": "stdout",
          "output_type": "stream",
          "text": [
            "Outputs computed by the models\n",
            "(128, 128, 64)\n"
          ]
        },
        {
          "name": "stderr",
          "output_type": "stream",
          "text": [
            "\n",
            "  0%|          | 0/12 [00:00<?, ?it/s]\u001b[A\n",
            "  8%|▊         | 1/12 [00:00<00:06,  1.80it/s]\u001b[A\n",
            " 17%|█▋        | 2/12 [00:01<00:05,  1.69it/s]\u001b[A\n",
            " 25%|██▌       | 3/12 [00:01<00:05,  1.66it/s]\u001b[A\n",
            " 33%|███▎      | 4/12 [00:02<00:04,  1.65it/s]\u001b[A\n",
            " 42%|████▏     | 5/12 [00:03<00:04,  1.64it/s]\u001b[A\n",
            " 50%|█████     | 6/12 [00:03<00:03,  1.63it/s]\u001b[A\n",
            " 58%|█████▊    | 7/12 [00:04<00:03,  1.63it/s]\u001b[A\n",
            " 67%|██████▋   | 8/12 [00:04<00:02,  1.63it/s]\u001b[A\n",
            " 75%|███████▌  | 9/12 [00:05<00:01,  1.62it/s]\u001b[A\n",
            " 83%|████████▎ | 10/12 [00:06<00:01,  1.62it/s]\u001b[A\n",
            " 92%|█████████▏| 11/12 [00:06<00:00,  1.62it/s]\u001b[A\n",
            "100%|██████████| 12/12 [00:07<00:00,  1.63it/s]\n",
            " 92%|█████████▏| 236/256 [20:45<01:52,  5.64s/it]"
          ]
        },
        {
          "name": "stdout",
          "output_type": "stream",
          "text": [
            "Outputs computed by the models\n",
            "(128, 128, 64)\n"
          ]
        },
        {
          "name": "stderr",
          "output_type": "stream",
          "text": [
            "\n",
            "  0%|          | 0/4 [00:00<?, ?it/s]\u001b[A\n",
            " 25%|██▌       | 1/4 [00:00<00:01,  1.82it/s]\u001b[A\n",
            " 50%|█████     | 2/4 [00:01<00:01,  1.68it/s]\u001b[A\n",
            " 75%|███████▌  | 3/4 [00:01<00:00,  1.65it/s]\u001b[A\n",
            "100%|██████████| 4/4 [00:02<00:00,  1.64it/s]\n",
            " 93%|█████████▎| 237/256 [20:50<01:45,  5.55s/it]"
          ]
        },
        {
          "name": "stdout",
          "output_type": "stream",
          "text": [
            "Outputs computed by the models\n",
            "(128, 128, 64)\n"
          ]
        },
        {
          "name": "stderr",
          "output_type": "stream",
          "text": [
            "\n",
            "  0%|          | 0/12 [00:00<?, ?it/s]\u001b[A\n",
            "  8%|▊         | 1/12 [00:00<00:05,  2.00it/s]\u001b[A\n",
            " 17%|█▋        | 2/12 [00:01<00:05,  1.73it/s]\u001b[A\n",
            " 25%|██▌       | 3/12 [00:01<00:05,  1.68it/s]\u001b[A\n",
            " 33%|███▎      | 4/12 [00:02<00:04,  1.64it/s]\u001b[A\n",
            " 42%|████▏     | 5/12 [00:03<00:04,  1.62it/s]\u001b[A\n",
            " 50%|█████     | 6/12 [00:03<00:03,  1.61it/s]\u001b[A\n",
            " 58%|█████▊    | 7/12 [00:04<00:03,  1.60it/s]\u001b[A\n",
            " 67%|██████▋   | 8/12 [00:04<00:02,  1.60it/s]\u001b[A\n",
            " 75%|███████▌  | 9/12 [00:05<00:01,  1.59it/s]\u001b[A\n",
            " 83%|████████▎ | 10/12 [00:06<00:01,  1.59it/s]\u001b[A\n",
            " 92%|█████████▏| 11/12 [00:06<00:00,  1.58it/s]\u001b[A\n",
            "100%|██████████| 12/12 [00:07<00:00,  1.61it/s]\n",
            " 93%|█████████▎| 238/256 [21:00<02:02,  6.78s/it]"
          ]
        },
        {
          "name": "stdout",
          "output_type": "stream",
          "text": [
            "Outputs computed by the models\n",
            "(128, 128, 64)\n"
          ]
        },
        {
          "name": "stderr",
          "output_type": "stream",
          "text": [
            "\n",
            "  0%|          | 0/4 [00:00<?, ?it/s]\u001b[A\n",
            " 25%|██▌       | 1/4 [00:00<00:01,  1.82it/s]\u001b[A\n",
            " 50%|█████     | 2/4 [00:01<00:01,  1.68it/s]\u001b[A\n",
            " 75%|███████▌  | 3/4 [00:01<00:00,  1.64it/s]\u001b[A\n",
            "100%|██████████| 4/4 [00:02<00:00,  1.63it/s]\n",
            " 93%|█████████▎| 239/256 [21:05<01:46,  6.29s/it]"
          ]
        },
        {
          "name": "stdout",
          "output_type": "stream",
          "text": [
            "Outputs computed by the models\n",
            "(128, 128, 64)\n"
          ]
        },
        {
          "name": "stderr",
          "output_type": "stream",
          "text": [
            "\n",
            "  0%|          | 0/12 [00:00<?, ?it/s]\u001b[A\n",
            "  8%|▊         | 1/12 [00:00<00:05,  1.93it/s]\u001b[A\n",
            " 17%|█▋        | 2/12 [00:01<00:05,  1.70it/s]\u001b[A\n",
            " 25%|██▌       | 3/12 [00:01<00:05,  1.67it/s]\u001b[A\n",
            " 33%|███▎      | 4/12 [00:02<00:04,  1.63it/s]\u001b[A\n",
            " 42%|████▏     | 5/12 [00:03<00:04,  1.61it/s]\u001b[A\n",
            " 50%|█████     | 6/12 [00:03<00:03,  1.61it/s]\u001b[A\n",
            " 58%|█████▊    | 7/12 [00:04<00:03,  1.59it/s]\u001b[A\n",
            " 67%|██████▋   | 8/12 [00:04<00:02,  1.60it/s]\u001b[A\n",
            " 75%|███████▌  | 9/12 [00:05<00:01,  1.59it/s]\u001b[A\n",
            " 83%|████████▎ | 10/12 [00:06<00:01,  1.59it/s]\u001b[A\n",
            " 92%|█████████▏| 11/12 [00:06<00:00,  1.59it/s]\u001b[A\n",
            "100%|██████████| 12/12 [00:07<00:00,  1.61it/s]\n",
            " 94%|█████████▍| 240/256 [21:15<01:59,  7.47s/it]"
          ]
        },
        {
          "name": "stdout",
          "output_type": "stream",
          "text": [
            "Outputs computed by the models\n",
            "(128, 128, 64)\n"
          ]
        },
        {
          "name": "stderr",
          "output_type": "stream",
          "text": [
            "\n",
            "  0%|          | 0/12 [00:00<?, ?it/s]\u001b[A\n",
            "  8%|▊         | 1/12 [00:00<00:05,  1.84it/s]\u001b[A\n",
            " 17%|█▋        | 2/12 [00:01<00:05,  1.69it/s]\u001b[A\n",
            " 25%|██▌       | 3/12 [00:01<00:05,  1.66it/s]\u001b[A\n",
            " 33%|███▎      | 4/12 [00:02<00:04,  1.63it/s]\u001b[A\n",
            " 42%|████▏     | 5/12 [00:03<00:04,  1.63it/s]\u001b[A\n",
            " 50%|█████     | 6/12 [00:03<00:03,  1.62it/s]\u001b[A\n",
            " 58%|█████▊    | 7/12 [00:04<00:03,  1.61it/s]\u001b[A\n",
            " 67%|██████▋   | 8/12 [00:04<00:02,  1.61it/s]\u001b[A\n",
            " 75%|███████▌  | 9/12 [00:05<00:01,  1.61it/s]\u001b[A\n",
            " 83%|████████▎ | 10/12 [00:06<00:01,  1.61it/s]\u001b[A\n",
            " 92%|█████████▏| 11/12 [00:06<00:00,  1.61it/s]\u001b[A\n",
            "100%|██████████| 12/12 [00:07<00:00,  1.62it/s]\n",
            " 94%|█████████▍| 241/256 [21:25<02:04,  8.30s/it]"
          ]
        },
        {
          "name": "stdout",
          "output_type": "stream",
          "text": [
            "Outputs computed by the models\n",
            "(128, 128, 64)\n"
          ]
        },
        {
          "name": "stderr",
          "output_type": "stream",
          "text": [
            "\n",
            "  0%|          | 0/4 [00:00<?, ?it/s]\u001b[A\n",
            " 25%|██▌       | 1/4 [00:00<00:01,  1.98it/s]\u001b[A\n",
            " 50%|█████     | 2/4 [00:01<00:01,  1.73it/s]\u001b[A\n",
            " 75%|███████▌  | 3/4 [00:01<00:00,  1.69it/s]\u001b[A\n",
            "100%|██████████| 4/4 [00:02<00:00,  1.68it/s]\n",
            " 95%|█████████▍| 242/256 [21:30<01:41,  7.27s/it]"
          ]
        },
        {
          "name": "stdout",
          "output_type": "stream",
          "text": [
            "Outputs computed by the models\n",
            "(128, 128, 64)\n"
          ]
        },
        {
          "name": "stderr",
          "output_type": "stream",
          "text": [
            "\n",
            "  0%|          | 0/12 [00:00<?, ?it/s]\u001b[A\n",
            "  8%|▊         | 1/12 [00:00<00:06,  1.79it/s]\u001b[A\n",
            " 17%|█▋        | 2/12 [00:01<00:05,  1.69it/s]\u001b[A\n",
            " 25%|██▌       | 3/12 [00:01<00:05,  1.66it/s]\u001b[A\n",
            " 33%|███▎      | 4/12 [00:02<00:04,  1.65it/s]\u001b[A\n",
            " 42%|████▏     | 5/12 [00:03<00:04,  1.64it/s]\u001b[A\n",
            " 50%|█████     | 6/12 [00:03<00:03,  1.64it/s]\u001b[A\n",
            " 58%|█████▊    | 7/12 [00:04<00:03,  1.64it/s]\u001b[A\n",
            " 67%|██████▋   | 8/12 [00:04<00:02,  1.63it/s]\u001b[A\n",
            " 75%|███████▌  | 9/12 [00:05<00:01,  1.63it/s]\u001b[A\n",
            " 83%|████████▎ | 10/12 [00:06<00:01,  1.63it/s]\u001b[A\n",
            " 92%|█████████▏| 11/12 [00:06<00:00,  1.63it/s]\u001b[A\n",
            "100%|██████████| 12/12 [00:07<00:00,  1.64it/s]\n",
            " 95%|█████████▍| 243/256 [21:40<01:45,  8.11s/it]"
          ]
        },
        {
          "name": "stdout",
          "output_type": "stream",
          "text": [
            "Outputs computed by the models\n",
            "(128, 128, 64)\n"
          ]
        },
        {
          "name": "stderr",
          "output_type": "stream",
          "text": [
            "\n",
            "  0%|          | 0/1 [00:00<?, ?it/s]\u001b[A\n",
            "100%|██████████| 1/1 [00:00<00:00,  2.00it/s]\n",
            " 95%|█████████▌| 244/256 [21:43<01:15,  6.32s/it]"
          ]
        },
        {
          "name": "stdout",
          "output_type": "stream",
          "text": [
            "Outputs computed by the models\n",
            "(128, 128, 64)\n"
          ]
        },
        {
          "name": "stderr",
          "output_type": "stream",
          "text": [
            "\n",
            "  0%|          | 0/12 [00:00<?, ?it/s]\u001b[A\n",
            "  8%|▊         | 1/12 [00:00<00:05,  1.85it/s]\u001b[A\n",
            " 17%|█▋        | 2/12 [00:01<00:05,  1.71it/s]\u001b[A\n",
            " 25%|██▌       | 3/12 [00:01<00:05,  1.67it/s]\u001b[A\n",
            " 33%|███▎      | 4/12 [00:02<00:04,  1.64it/s]\u001b[A\n",
            " 42%|████▏     | 5/12 [00:03<00:04,  1.64it/s]\u001b[A\n",
            " 50%|█████     | 6/12 [00:03<00:03,  1.63it/s]\u001b[A\n",
            " 58%|█████▊    | 7/12 [00:04<00:03,  1.63it/s]\u001b[A\n",
            " 67%|██████▋   | 8/12 [00:04<00:02,  1.63it/s]\u001b[A\n",
            " 75%|███████▌  | 9/12 [00:05<00:01,  1.62it/s]\u001b[A\n",
            " 83%|████████▎ | 10/12 [00:06<00:01,  1.62it/s]\u001b[A\n",
            " 92%|█████████▏| 11/12 [00:06<00:00,  1.61it/s]\u001b[A\n",
            "100%|██████████| 12/12 [00:07<00:00,  1.63it/s]\n",
            " 96%|█████████▌| 245/256 [21:52<01:21,  7.40s/it]"
          ]
        },
        {
          "name": "stdout",
          "output_type": "stream",
          "text": [
            "Outputs computed by the models\n",
            "(128, 128, 64)\n"
          ]
        },
        {
          "name": "stderr",
          "output_type": "stream",
          "text": [
            "\n",
            "  0%|          | 0/3 [00:00<?, ?it/s]\u001b[A\n",
            " 33%|███▎      | 1/3 [00:00<00:00,  2.02it/s]\u001b[A\n",
            " 67%|██████▋   | 2/3 [00:01<00:00,  1.75it/s]\u001b[A\n",
            "100%|██████████| 3/3 [00:01<00:00,  1.73it/s]\n",
            " 96%|█████████▌| 246/256 [21:56<01:02,  6.28s/it]"
          ]
        },
        {
          "name": "stdout",
          "output_type": "stream",
          "text": [
            "Outputs computed by the models\n",
            "(128, 128, 64)\n"
          ]
        },
        {
          "name": "stderr",
          "output_type": "stream",
          "text": [
            "\n",
            "  0%|          | 0/12 [00:00<?, ?it/s]\u001b[A\n",
            "  8%|▊         | 1/12 [00:00<00:05,  1.85it/s]\u001b[A\n",
            " 17%|█▋        | 2/12 [00:01<00:05,  1.70it/s]\u001b[A\n",
            " 25%|██▌       | 3/12 [00:01<00:05,  1.67it/s]\u001b[A\n",
            " 33%|███▎      | 4/12 [00:02<00:04,  1.65it/s]\u001b[A\n",
            " 42%|████▏     | 5/12 [00:03<00:04,  1.64it/s]\u001b[A\n",
            " 50%|█████     | 6/12 [00:03<00:03,  1.63it/s]\u001b[A\n",
            " 58%|█████▊    | 7/12 [00:04<00:03,  1.62it/s]\u001b[A\n",
            " 67%|██████▋   | 8/12 [00:04<00:02,  1.63it/s]\u001b[A\n",
            " 75%|███████▌  | 9/12 [00:05<00:01,  1.62it/s]\u001b[A\n",
            " 83%|████████▎ | 10/12 [00:06<00:01,  1.62it/s]\u001b[A\n",
            " 92%|█████████▏| 11/12 [00:06<00:00,  1.62it/s]\u001b[A\n",
            "100%|██████████| 12/12 [00:07<00:00,  1.63it/s]\n",
            " 96%|█████████▋| 247/256 [22:06<01:05,  7.32s/it]"
          ]
        },
        {
          "name": "stdout",
          "output_type": "stream",
          "text": [
            "Outputs computed by the models\n",
            "(128, 128, 64)\n"
          ]
        },
        {
          "name": "stderr",
          "output_type": "stream",
          "text": [
            "\n",
            "  0%|          | 0/4 [00:00<?, ?it/s]\u001b[A\n",
            " 25%|██▌       | 1/4 [00:00<00:01,  1.98it/s]\u001b[A\n",
            " 50%|█████     | 2/4 [00:01<00:01,  1.74it/s]\u001b[A\n",
            " 75%|███████▌  | 3/4 [00:01<00:00,  1.69it/s]\u001b[A\n",
            "100%|██████████| 4/4 [00:02<00:00,  1.68it/s]\n",
            " 97%|█████████▋| 248/256 [22:10<00:51,  6.45s/it]"
          ]
        },
        {
          "name": "stdout",
          "output_type": "stream",
          "text": [
            "Outputs computed by the models\n",
            "(128, 128, 64)\n"
          ]
        },
        {
          "name": "stderr",
          "output_type": "stream",
          "text": [
            "\n",
            "  0%|          | 0/12 [00:00<?, ?it/s]\u001b[A\n",
            "  8%|▊         | 1/12 [00:00<00:05,  1.98it/s]\u001b[A\n",
            " 17%|█▋        | 2/12 [00:01<00:05,  1.73it/s]\u001b[A\n",
            " 25%|██▌       | 3/12 [00:01<00:05,  1.68it/s]\u001b[A\n",
            " 33%|███▎      | 4/12 [00:02<00:04,  1.64it/s]\u001b[A\n",
            " 42%|████▏     | 5/12 [00:03<00:04,  1.62it/s]\u001b[A\n",
            " 50%|█████     | 6/12 [00:03<00:03,  1.61it/s]\u001b[A\n",
            " 58%|█████▊    | 7/12 [00:04<00:03,  1.61it/s]\u001b[A\n",
            " 67%|██████▋   | 8/12 [00:04<00:02,  1.61it/s]\u001b[A\n",
            " 75%|███████▌  | 9/12 [00:05<00:01,  1.60it/s]\u001b[A\n",
            " 83%|████████▎ | 10/12 [00:06<00:01,  1.61it/s]\u001b[A\n",
            " 92%|█████████▏| 11/12 [00:06<00:00,  1.60it/s]\u001b[A\n",
            "100%|██████████| 12/12 [00:07<00:00,  1.62it/s]\n",
            " 97%|█████████▋| 249/256 [22:20<00:51,  7.42s/it]"
          ]
        },
        {
          "name": "stdout",
          "output_type": "stream",
          "text": [
            "Outputs computed by the models\n",
            "(128, 128, 64)\n"
          ]
        },
        {
          "name": "stderr",
          "output_type": "stream",
          "text": [
            "\n",
            "  0%|          | 0/1 [00:00<?, ?it/s]\u001b[A\n",
            "100%|██████████| 1/1 [00:00<00:00,  1.99it/s]\n",
            " 98%|█████████▊| 250/256 [22:22<00:34,  5.68s/it]"
          ]
        },
        {
          "name": "stdout",
          "output_type": "stream",
          "text": [
            "Outputs computed by the models\n",
            "(128, 128, 64)\n"
          ]
        },
        {
          "name": "stderr",
          "output_type": "stream",
          "text": [
            "\n",
            "  0%|          | 0/1 [00:00<?, ?it/s]\u001b[A\n",
            "100%|██████████| 1/1 [00:00<00:00,  1.99it/s]\n",
            " 98%|█████████▊| 251/256 [22:24<00:23,  4.65s/it]"
          ]
        },
        {
          "name": "stdout",
          "output_type": "stream",
          "text": [
            "Outputs computed by the models\n",
            "(128, 128, 64)\n"
          ]
        },
        {
          "name": "stderr",
          "output_type": "stream",
          "text": [
            "\n",
            "  0%|          | 0/1 [00:00<?, ?it/s]\u001b[A\n",
            "100%|██████████| 1/1 [00:00<00:00,  1.97it/s]\n",
            " 98%|█████████▊| 252/256 [22:26<00:16,  4.04s/it]"
          ]
        },
        {
          "name": "stdout",
          "output_type": "stream",
          "text": [
            "Outputs computed by the models\n",
            "(128, 128, 64)\n"
          ]
        },
        {
          "name": "stderr",
          "output_type": "stream",
          "text": [
            "\n",
            "  0%|          | 0/1 [00:00<?, ?it/s]\u001b[A\n",
            "100%|██████████| 1/1 [00:00<00:00,  1.82it/s]\n"
          ]
        },
        {
          "name": "stdout",
          "output_type": "stream",
          "text": [
            "Outputs computed by the models\n"
          ]
        },
        {
          "name": "stderr",
          "output_type": "stream",
          "text": [
            "\r 99%|█████████▉| 253/256 [22:29<00:11,  3.75s/it]"
          ]
        },
        {
          "name": "stdout",
          "output_type": "stream",
          "text": [
            "(128, 128, 64)\n"
          ]
        },
        {
          "name": "stderr",
          "output_type": "stream",
          "text": [
            "\n",
            "  0%|          | 0/1 [00:00<?, ?it/s]\u001b[A\n",
            "100%|██████████| 1/1 [00:00<00:00,  1.74it/s]\n",
            " 99%|█████████▉| 254/256 [22:32<00:06,  3.34s/it]"
          ]
        },
        {
          "name": "stdout",
          "output_type": "stream",
          "text": [
            "Outputs computed by the models\n",
            "(128, 128, 64)\n"
          ]
        },
        {
          "name": "stderr",
          "output_type": "stream",
          "text": [
            "\n",
            "  0%|          | 0/4 [00:00<?, ?it/s]\u001b[A\n",
            " 25%|██▌       | 1/4 [00:00<00:01,  1.97it/s]\u001b[A\n",
            " 50%|█████     | 2/4 [00:01<00:01,  1.73it/s]\u001b[A\n",
            " 75%|███████▌  | 3/4 [00:01<00:00,  1.69it/s]\u001b[A\n",
            "100%|██████████| 4/4 [00:02<00:00,  1.68it/s]\n",
            "100%|█████████▉| 255/256 [22:36<00:03,  3.67s/it]"
          ]
        },
        {
          "name": "stdout",
          "output_type": "stream",
          "text": [
            "Outputs computed by the models\n",
            "(128, 128, 64)\n"
          ]
        },
        {
          "name": "stderr",
          "output_type": "stream",
          "text": [
            "\n",
            "  0%|          | 0/12 [00:00<?, ?it/s]\u001b[A\n",
            "  8%|▊         | 1/12 [00:00<00:05,  2.02it/s]\u001b[A\n",
            " 17%|█▋        | 2/12 [00:01<00:05,  1.73it/s]\u001b[A\n",
            " 25%|██▌       | 3/12 [00:01<00:05,  1.69it/s]\u001b[A\n",
            " 33%|███▎      | 4/12 [00:02<00:04,  1.65it/s]\u001b[A\n",
            " 42%|████▏     | 5/12 [00:02<00:04,  1.64it/s]\u001b[A\n",
            " 50%|█████     | 6/12 [00:03<00:03,  1.63it/s]\u001b[A\n",
            " 58%|█████▊    | 7/12 [00:04<00:03,  1.62it/s]\u001b[A\n",
            " 67%|██████▋   | 8/12 [00:04<00:02,  1.62it/s]\u001b[A\n",
            " 75%|███████▌  | 9/12 [00:05<00:01,  1.61it/s]\u001b[A\n",
            " 83%|████████▎ | 10/12 [00:06<00:01,  1.61it/s]\u001b[A\n",
            " 92%|█████████▏| 11/12 [00:06<00:00,  1.61it/s]\u001b[A\n",
            "100%|██████████| 12/12 [00:07<00:00,  1.63it/s]\n",
            "100%|██████████| 256/256 [22:46<00:00,  5.34s/it]"
          ]
        },
        {
          "name": "stdout",
          "output_type": "stream",
          "text": [
            "Outputs computed by the models\n",
            "(128, 128, 64)\n"
          ]
        },
        {
          "name": "stderr",
          "output_type": "stream",
          "text": [
            "\n"
          ]
        }
      ],
      "source": [
        "if __name__ == \"__main__\":\n",
        "\n",
        "    workspace = Path(\"/content/drive/My Drive/Inference models balanced dataset\")\n",
        "\n",
        "    perform_inference_on_test_set(workspace=workspace)"
      ]
    }
  ],
  "metadata": {
    "accelerator": "GPU",
    "colab": {
      "gpuType": "T4",
      "provenance": []
    },
    "kernelspec": {
      "display_name": "Python 3",
      "name": "python3"
    },
    "language_info": {
      "name": "python"
    }
  },
  "nbformat": 4,
  "nbformat_minor": 0
}
